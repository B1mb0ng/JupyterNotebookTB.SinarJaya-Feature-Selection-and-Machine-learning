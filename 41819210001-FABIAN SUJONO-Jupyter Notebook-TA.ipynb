{
 "cells": [
  {
   "cell_type": "markdown",
   "id": "a7cceeb5",
   "metadata": {},
   "source": [
    "## Data Extraction TB. Sinar Jaya"
   ]
  },
  {
   "cell_type": "code",
   "execution_count": 5,
   "id": "4c5eb12d",
   "metadata": {
    "scrolled": false
   },
   "outputs": [
    {
     "name": "stdout",
     "output_type": "stream",
     "text": [
      "Shape of dataframe is: (5024, 13)\n"
     ]
    },
    {
     "data": {
      "text/html": [
       "<div>\n",
       "<style scoped>\n",
       "    .dataframe tbody tr th:only-of-type {\n",
       "        vertical-align: middle;\n",
       "    }\n",
       "\n",
       "    .dataframe tbody tr th {\n",
       "        vertical-align: top;\n",
       "    }\n",
       "\n",
       "    .dataframe thead th {\n",
       "        text-align: right;\n",
       "    }\n",
       "</style>\n",
       "<table border=\"1\" class=\"dataframe\">\n",
       "  <thead>\n",
       "    <tr style=\"text-align: right;\">\n",
       "      <th></th>\n",
       "      <th>Datetime</th>\n",
       "      <th>msisdn</th>\n",
       "      <th>flag_taker</th>\n",
       "      <th>los</th>\n",
       "      <th>Month</th>\n",
       "      <th>Year</th>\n",
       "      <th>Order_Qty</th>\n",
       "      <th>COS</th>\n",
       "      <th>Sales</th>\n",
       "      <th>Profit</th>\n",
       "      <th>Product_Name</th>\n",
       "      <th>Brand_Name</th>\n",
       "      <th>Product_Category</th>\n",
       "    </tr>\n",
       "  </thead>\n",
       "  <tbody>\n",
       "    <tr>\n",
       "      <th>0</th>\n",
       "      <td>12/31/2020 1:00</td>\n",
       "      <td>6.280000e+11</td>\n",
       "      <td>0</td>\n",
       "      <td>965.0</td>\n",
       "      <td>3</td>\n",
       "      <td>2019</td>\n",
       "      <td>9</td>\n",
       "      <td>958552.41</td>\n",
       "      <td>2714720.0</td>\n",
       "      <td>1756167.59</td>\n",
       "      <td>Semen Tiga Roda</td>\n",
       "      <td>Tiga Roda</td>\n",
       "      <td>Builder Hardware</td>\n",
       "    </tr>\n",
       "    <tr>\n",
       "      <th>1</th>\n",
       "      <td>12/31/2020 2:00</td>\n",
       "      <td>6.280000e+11</td>\n",
       "      <td>0</td>\n",
       "      <td>NaN</td>\n",
       "      <td>2</td>\n",
       "      <td>2018</td>\n",
       "      <td>4</td>\n",
       "      <td>18624.69</td>\n",
       "      <td>50141.4</td>\n",
       "      <td>31516.71</td>\n",
       "      <td>Nippon Paint</td>\n",
       "      <td>Nippon Paint Holdings</td>\n",
       "      <td>Paint &amp; Sundries</td>\n",
       "    </tr>\n",
       "    <tr>\n",
       "      <th>2</th>\n",
       "      <td>12/31/2020 3:00</td>\n",
       "      <td>6.280000e+11</td>\n",
       "      <td>0</td>\n",
       "      <td>859.0</td>\n",
       "      <td>1</td>\n",
       "      <td>2018</td>\n",
       "      <td>9</td>\n",
       "      <td>205101.46</td>\n",
       "      <td>1395112.8</td>\n",
       "      <td>1190011.34</td>\n",
       "      <td>Quadra</td>\n",
       "      <td>Quadra Surface</td>\n",
       "      <td>Flooring</td>\n",
       "    </tr>\n",
       "    <tr>\n",
       "      <th>3</th>\n",
       "      <td>12/31/2020 4:00</td>\n",
       "      <td>6.280000e+11</td>\n",
       "      <td>0</td>\n",
       "      <td>NaN</td>\n",
       "      <td>1</td>\n",
       "      <td>2019</td>\n",
       "      <td>9</td>\n",
       "      <td>4807.08</td>\n",
       "      <td>2614400.0</td>\n",
       "      <td>2609592.92</td>\n",
       "      <td>Pasir Beton</td>\n",
       "      <td>Tiga Roda</td>\n",
       "      <td>Builder Hardware</td>\n",
       "    </tr>\n",
       "    <tr>\n",
       "      <th>4</th>\n",
       "      <td>12/31/2020 5:00</td>\n",
       "      <td>6.280000e+11</td>\n",
       "      <td>0</td>\n",
       "      <td>1259.0</td>\n",
       "      <td>4</td>\n",
       "      <td>2020</td>\n",
       "      <td>24</td>\n",
       "      <td>203316.11</td>\n",
       "      <td>7056400.0</td>\n",
       "      <td>6853083.89</td>\n",
       "      <td>Toto closet</td>\n",
       "      <td>Toto</td>\n",
       "      <td>Sanitary</td>\n",
       "    </tr>\n",
       "  </tbody>\n",
       "</table>\n",
       "</div>"
      ],
      "text/plain": [
       "          Datetime        msisdn  flag_taker     los  Month  Year  Order_Qty  \\\n",
       "0  12/31/2020 1:00  6.280000e+11           0   965.0      3  2019          9   \n",
       "1  12/31/2020 2:00  6.280000e+11           0     NaN      2  2018          4   \n",
       "2  12/31/2020 3:00  6.280000e+11           0   859.0      1  2018          9   \n",
       "3  12/31/2020 4:00  6.280000e+11           0     NaN      1  2019          9   \n",
       "4  12/31/2020 5:00  6.280000e+11           0  1259.0      4  2020         24   \n",
       "\n",
       "         COS      Sales      Profit      Product_Name             Brand_Name  \\\n",
       "0  958552.41  2714720.0  1756167.59  Semen Tiga Roda               Tiga Roda   \n",
       "1   18624.69    50141.4    31516.71      Nippon Paint  Nippon Paint Holdings   \n",
       "2  205101.46  1395112.8  1190011.34            Quadra         Quadra Surface   \n",
       "3    4807.08  2614400.0  2609592.92       Pasir Beton              Tiga Roda   \n",
       "4  203316.11  7056400.0  6853083.89       Toto closet                   Toto   \n",
       "\n",
       "    Product_Category  \n",
       "0  Builder Hardware   \n",
       "1   Paint & Sundries  \n",
       "2           Flooring  \n",
       "3  Builder Hardware   \n",
       "4           Sanitary  "
      ]
     },
     "execution_count": 5,
     "metadata": {},
     "output_type": "execute_result"
    }
   ],
   "source": [
    "import pandas as pd\n",
    "import numpy as np\n",
    "\n",
    "import os \n",
    "import io\n",
    "\n",
    "import warnings\n",
    "warnings.filterwarnings('ignore')\n",
    "\n",
    "import matplotlib.pyplot as plt\n",
    "import seaborn as sns\n",
    "from datetime import datetime as dt\n",
    "\n",
    "##from pandas_profiling import ProfileReport\n",
    "sinarjaya = pd.read_csv('TB. Sinar Jaya 2017-2020.xlsx - Master.csv')\n",
    "print(\"Shape of dataframe is: {}\".format(sinarjaya.shape))\n",
    "sinarjaya.head(5)"
   ]
  },
  {
   "cell_type": "code",
   "execution_count": 6,
   "id": "ba4613db",
   "metadata": {},
   "outputs": [],
   "source": [
    "pd.options.display.float_format = '{:,}'.format"
   ]
  },
  {
   "cell_type": "code",
   "execution_count": 7,
   "id": "984b7a1d",
   "metadata": {},
   "outputs": [
    {
     "data": {
      "text/plain": [
       "Index(['Datetime', 'msisdn', 'flag_taker', 'los', 'Month', 'Year', 'Order_Qty',\n",
       "       'COS', 'Sales', 'Profit', 'Product_Name', 'Brand_Name',\n",
       "       'Product_Category'],\n",
       "      dtype='object')"
      ]
     },
     "execution_count": 7,
     "metadata": {},
     "output_type": "execute_result"
    }
   ],
   "source": [
    "sinarjaya.columns"
   ]
  },
  {
   "cell_type": "code",
   "execution_count": 8,
   "id": "e9e9377c",
   "metadata": {},
   "outputs": [],
   "source": [
    "sinarjaya['PPU']=sinarjaya['Sales']/(sinarjaya['Order_Qty'])"
   ]
  },
  {
   "cell_type": "code",
   "execution_count": 9,
   "id": "4a6bc159",
   "metadata": {},
   "outputs": [],
   "source": [
    "sinarjaya['Profit_Margin']=sinarjaya['Profit']/(sinarjaya['Sales'])"
   ]
  },
  {
   "cell_type": "code",
   "execution_count": 10,
   "id": "c3f4dfdf",
   "metadata": {
    "scrolled": false
   },
   "outputs": [
    {
     "data": {
      "text/html": [
       "<div>\n",
       "<style scoped>\n",
       "    .dataframe tbody tr th:only-of-type {\n",
       "        vertical-align: middle;\n",
       "    }\n",
       "\n",
       "    .dataframe tbody tr th {\n",
       "        vertical-align: top;\n",
       "    }\n",
       "\n",
       "    .dataframe thead th {\n",
       "        text-align: right;\n",
       "    }\n",
       "</style>\n",
       "<table border=\"1\" class=\"dataframe\">\n",
       "  <thead>\n",
       "    <tr style=\"text-align: right;\">\n",
       "      <th></th>\n",
       "      <th>Datetime</th>\n",
       "      <th>msisdn</th>\n",
       "      <th>flag_taker</th>\n",
       "      <th>los</th>\n",
       "      <th>Month</th>\n",
       "      <th>Year</th>\n",
       "      <th>Order_Qty</th>\n",
       "      <th>COS</th>\n",
       "      <th>Sales</th>\n",
       "      <th>Profit</th>\n",
       "      <th>Product_Name</th>\n",
       "      <th>Brand_Name</th>\n",
       "      <th>Product_Category</th>\n",
       "      <th>PPU</th>\n",
       "      <th>Profit_Margin</th>\n",
       "    </tr>\n",
       "  </thead>\n",
       "  <tbody>\n",
       "    <tr>\n",
       "      <th>0</th>\n",
       "      <td>12/31/2020 1:00</td>\n",
       "      <td>628,000,000,000.0</td>\n",
       "      <td>0</td>\n",
       "      <td>965.0</td>\n",
       "      <td>3</td>\n",
       "      <td>2019</td>\n",
       "      <td>9</td>\n",
       "      <td>958,552.41</td>\n",
       "      <td>2,714,720.0</td>\n",
       "      <td>1,756,167.59</td>\n",
       "      <td>Semen Tiga Roda</td>\n",
       "      <td>Tiga Roda</td>\n",
       "      <td>Builder Hardware</td>\n",
       "      <td>301,635.56</td>\n",
       "      <td>0.65</td>\n",
       "    </tr>\n",
       "    <tr>\n",
       "      <th>1</th>\n",
       "      <td>12/31/2020 2:00</td>\n",
       "      <td>628,000,000,000.0</td>\n",
       "      <td>0</td>\n",
       "      <td>NaN</td>\n",
       "      <td>2</td>\n",
       "      <td>2018</td>\n",
       "      <td>4</td>\n",
       "      <td>18,624.69</td>\n",
       "      <td>50,141.4</td>\n",
       "      <td>31,516.71</td>\n",
       "      <td>Nippon Paint</td>\n",
       "      <td>Nippon Paint Holdings</td>\n",
       "      <td>Paint &amp; Sundries</td>\n",
       "      <td>12,535.35</td>\n",
       "      <td>0.63</td>\n",
       "    </tr>\n",
       "    <tr>\n",
       "      <th>2</th>\n",
       "      <td>12/31/2020 3:00</td>\n",
       "      <td>628,000,000,000.0</td>\n",
       "      <td>0</td>\n",
       "      <td>859.0</td>\n",
       "      <td>1</td>\n",
       "      <td>2018</td>\n",
       "      <td>9</td>\n",
       "      <td>205,101.46</td>\n",
       "      <td>1,395,112.8</td>\n",
       "      <td>1,190,011.34</td>\n",
       "      <td>Quadra</td>\n",
       "      <td>Quadra Surface</td>\n",
       "      <td>Flooring</td>\n",
       "      <td>155,012.53</td>\n",
       "      <td>0.85</td>\n",
       "    </tr>\n",
       "    <tr>\n",
       "      <th>3</th>\n",
       "      <td>12/31/2020 4:00</td>\n",
       "      <td>628,000,000,000.0</td>\n",
       "      <td>0</td>\n",
       "      <td>NaN</td>\n",
       "      <td>1</td>\n",
       "      <td>2019</td>\n",
       "      <td>9</td>\n",
       "      <td>4,807.08</td>\n",
       "      <td>2,614,400.0</td>\n",
       "      <td>2,609,592.92</td>\n",
       "      <td>Pasir Beton</td>\n",
       "      <td>Tiga Roda</td>\n",
       "      <td>Builder Hardware</td>\n",
       "      <td>290,488.89</td>\n",
       "      <td>1.0</td>\n",
       "    </tr>\n",
       "    <tr>\n",
       "      <th>4</th>\n",
       "      <td>12/31/2020 5:00</td>\n",
       "      <td>628,000,000,000.0</td>\n",
       "      <td>0</td>\n",
       "      <td>1,259.0</td>\n",
       "      <td>4</td>\n",
       "      <td>2020</td>\n",
       "      <td>24</td>\n",
       "      <td>203,316.11</td>\n",
       "      <td>7,056,400.0</td>\n",
       "      <td>6,853,083.89</td>\n",
       "      <td>Toto closet</td>\n",
       "      <td>Toto</td>\n",
       "      <td>Sanitary</td>\n",
       "      <td>294,016.67</td>\n",
       "      <td>0.97</td>\n",
       "    </tr>\n",
       "    <tr>\n",
       "      <th>...</th>\n",
       "      <td>...</td>\n",
       "      <td>...</td>\n",
       "      <td>...</td>\n",
       "      <td>...</td>\n",
       "      <td>...</td>\n",
       "      <td>...</td>\n",
       "      <td>...</td>\n",
       "      <td>...</td>\n",
       "      <td>...</td>\n",
       "      <td>...</td>\n",
       "      <td>...</td>\n",
       "      <td>...</td>\n",
       "      <td>...</td>\n",
       "      <td>...</td>\n",
       "      <td>...</td>\n",
       "    </tr>\n",
       "    <tr>\n",
       "      <th>5019</th>\n",
       "      <td>6/5/2020 5:00</td>\n",
       "      <td>6,280,000,000,000.0</td>\n",
       "      <td>0</td>\n",
       "      <td>NaN</td>\n",
       "      <td>9</td>\n",
       "      <td>2018</td>\n",
       "      <td>5</td>\n",
       "      <td>18,289.57</td>\n",
       "      <td>64,950.0</td>\n",
       "      <td>46,660.43</td>\n",
       "      <td>Quadra</td>\n",
       "      <td>Quadra Surface</td>\n",
       "      <td>Flooring</td>\n",
       "      <td>12,990.0</td>\n",
       "      <td>0.72</td>\n",
       "    </tr>\n",
       "    <tr>\n",
       "      <th>5020</th>\n",
       "      <td>6/5/2020 6:00</td>\n",
       "      <td>6,280,000,000,000.0</td>\n",
       "      <td>0</td>\n",
       "      <td>1,600.0</td>\n",
       "      <td>5</td>\n",
       "      <td>2018</td>\n",
       "      <td>10</td>\n",
       "      <td>69.37</td>\n",
       "      <td>138,900.0</td>\n",
       "      <td>138,830.63</td>\n",
       "      <td>Quadra</td>\n",
       "      <td>Quadra Surface</td>\n",
       "      <td>Flooring</td>\n",
       "      <td>13,890.0</td>\n",
       "      <td>1.0</td>\n",
       "    </tr>\n",
       "    <tr>\n",
       "      <th>5021</th>\n",
       "      <td>6/5/2020 7:00</td>\n",
       "      <td>6,280,000,000,000.0</td>\n",
       "      <td>0</td>\n",
       "      <td>529.0</td>\n",
       "      <td>4</td>\n",
       "      <td>2018</td>\n",
       "      <td>12</td>\n",
       "      <td>391,891.36</td>\n",
       "      <td>300,000.0</td>\n",
       "      <td>-91,891.36</td>\n",
       "      <td>Paint Dulux</td>\n",
       "      <td>Dulux</td>\n",
       "      <td>Builder Hardware</td>\n",
       "      <td>25,000.0</td>\n",
       "      <td>-0.31</td>\n",
       "    </tr>\n",
       "    <tr>\n",
       "      <th>5022</th>\n",
       "      <td>6/5/2020 8:00</td>\n",
       "      <td>6,280,000,000,000.0</td>\n",
       "      <td>1</td>\n",
       "      <td>1,182.0</td>\n",
       "      <td>4</td>\n",
       "      <td>2018</td>\n",
       "      <td>10</td>\n",
       "      <td>337,481.81</td>\n",
       "      <td>9,990,000.0</td>\n",
       "      <td>9,652,518.19</td>\n",
       "      <td>Semen Tiga Roda</td>\n",
       "      <td>Tiga Roda</td>\n",
       "      <td>Fastener</td>\n",
       "      <td>999,000.0</td>\n",
       "      <td>0.97</td>\n",
       "    </tr>\n",
       "    <tr>\n",
       "      <th>5023</th>\n",
       "      <td>6/5/2020 9:00</td>\n",
       "      <td>6,280,000,000,000.0</td>\n",
       "      <td>0</td>\n",
       "      <td>NaN</td>\n",
       "      <td>5</td>\n",
       "      <td>2019</td>\n",
       "      <td>12</td>\n",
       "      <td>229,656.11</td>\n",
       "      <td>3,348,000.0</td>\n",
       "      <td>3,118,343.89</td>\n",
       "      <td>Semen Tiga Roda</td>\n",
       "      <td>Tiga Roda</td>\n",
       "      <td>Fastener</td>\n",
       "      <td>279,000.0</td>\n",
       "      <td>0.93</td>\n",
       "    </tr>\n",
       "  </tbody>\n",
       "</table>\n",
       "<p>5024 rows × 15 columns</p>\n",
       "</div>"
      ],
      "text/plain": [
       "             Datetime              msisdn  flag_taker     los  Month  Year  \\\n",
       "0     12/31/2020 1:00   628,000,000,000.0           0   965.0      3  2019   \n",
       "1     12/31/2020 2:00   628,000,000,000.0           0     NaN      2  2018   \n",
       "2     12/31/2020 3:00   628,000,000,000.0           0   859.0      1  2018   \n",
       "3     12/31/2020 4:00   628,000,000,000.0           0     NaN      1  2019   \n",
       "4     12/31/2020 5:00   628,000,000,000.0           0 1,259.0      4  2020   \n",
       "...               ...                 ...         ...     ...    ...   ...   \n",
       "5019    6/5/2020 5:00 6,280,000,000,000.0           0     NaN      9  2018   \n",
       "5020    6/5/2020 6:00 6,280,000,000,000.0           0 1,600.0      5  2018   \n",
       "5021    6/5/2020 7:00 6,280,000,000,000.0           0   529.0      4  2018   \n",
       "5022    6/5/2020 8:00 6,280,000,000,000.0           1 1,182.0      4  2018   \n",
       "5023    6/5/2020 9:00 6,280,000,000,000.0           0     NaN      5  2019   \n",
       "\n",
       "      Order_Qty        COS       Sales       Profit      Product_Name  \\\n",
       "0             9 958,552.41 2,714,720.0 1,756,167.59  Semen Tiga Roda    \n",
       "1             4  18,624.69    50,141.4    31,516.71      Nippon Paint   \n",
       "2             9 205,101.46 1,395,112.8 1,190,011.34            Quadra   \n",
       "3             9   4,807.08 2,614,400.0 2,609,592.92       Pasir Beton   \n",
       "4            24 203,316.11 7,056,400.0 6,853,083.89       Toto closet   \n",
       "...         ...        ...         ...          ...               ...   \n",
       "5019          5  18,289.57    64,950.0    46,660.43            Quadra   \n",
       "5020         10      69.37   138,900.0   138,830.63            Quadra   \n",
       "5021         12 391,891.36   300,000.0   -91,891.36       Paint Dulux   \n",
       "5022         10 337,481.81 9,990,000.0 9,652,518.19   Semen Tiga Roda   \n",
       "5023         12 229,656.11 3,348,000.0 3,118,343.89   Semen Tiga Roda   \n",
       "\n",
       "                 Brand_Name   Product_Category        PPU  Profit_Margin  \n",
       "0                 Tiga Roda  Builder Hardware  301,635.56           0.65  \n",
       "1     Nippon Paint Holdings   Paint & Sundries  12,535.35           0.63  \n",
       "2            Quadra Surface           Flooring 155,012.53           0.85  \n",
       "3                 Tiga Roda  Builder Hardware  290,488.89            1.0  \n",
       "4                      Toto           Sanitary 294,016.67           0.97  \n",
       "...                     ...                ...        ...            ...  \n",
       "5019         Quadra Surface           Flooring   12,990.0           0.72  \n",
       "5020         Quadra Surface           Flooring   13,890.0            1.0  \n",
       "5021                  Dulux  Builder Hardware    25,000.0          -0.31  \n",
       "5022              Tiga Roda           Fastener  999,000.0           0.97  \n",
       "5023              Tiga Roda           Fastener  279,000.0           0.93  \n",
       "\n",
       "[5024 rows x 15 columns]"
      ]
     },
     "execution_count": 10,
     "metadata": {},
     "output_type": "execute_result"
    }
   ],
   "source": [
    "sinarjaya.round(2)"
   ]
  },
  {
   "cell_type": "code",
   "execution_count": 11,
   "id": "6e028c51",
   "metadata": {},
   "outputs": [
    {
     "data": {
      "text/plain": [
       "Datetime              0\n",
       "msisdn                0\n",
       "flag_taker            0\n",
       "los                 889\n",
       "Month                 0\n",
       "Year                  0\n",
       "Order_Qty             0\n",
       "COS                   0\n",
       "Sales                 0\n",
       "Profit                0\n",
       "Product_Name          1\n",
       "Brand_Name            0\n",
       "Product_Category      0\n",
       "PPU                   0\n",
       "Profit_Margin         0\n",
       "dtype: int64"
      ]
     },
     "execution_count": 11,
     "metadata": {},
     "output_type": "execute_result"
    }
   ],
   "source": [
    "sinarjaya.isnull().sum()"
   ]
  },
  {
   "cell_type": "code",
   "execution_count": 12,
   "id": "a0e48f4c",
   "metadata": {
    "scrolled": true
   },
   "outputs": [
    {
     "data": {
      "text/plain": [
       "array(['Semen Tiga Roda ', 'Nippon Paint', 'Quadra', 'Pasir Beton',\n",
       "       'Toto closet', 'Fischer', 'BOSCH DIY STARTER BOX SET/73PCS',\n",
       "       'Roman', 'KIA', 'MR Safety Screw', 'Pasir Pasang',\n",
       "       'BURNERS TOOLS RD-260 Kawat Las Besi Baja 2MM',\n",
       "       'American Standard Smart Washer Seat and Cover – SCV092410',\n",
       "       'Paint Dulux',\n",
       "       'CUTTING TOOLS HIT-1200N With Bag 120CM POTONG KERAMIK MANUAL',\n",
       "       'CCUTTING TOOLS HIT-1200N With Bag 120CM POTONG KERAMIK MANUAL',\n",
       "       'MM Bolt Hexagon', 'Pasir Elod', 'Halmar Water Tank',\n",
       "       'Paint No Drop', 'BOSCH GLL 5-50X LINE LASER KIT15M',\n",
       "       'Semen Holcim', 'Penguin Tangki Air', 'Pasir Merah', 'Aquaproof',\n",
       "       'Asia Tile', 'Semen Gresik', 'Semen Garuda', nan,\n",
       "       'Onduline Sekrup', 'Semen Tiga Roda',\n",
       "       'BOSCH GLM 7000 MEASURING LASER0.05-70M'], dtype=object)"
      ]
     },
     "execution_count": 12,
     "metadata": {},
     "output_type": "execute_result"
    }
   ],
   "source": [
    "sinarjaya['Product_Name'].unique()"
   ]
  },
  {
   "cell_type": "markdown",
   "id": "eb5089dc",
   "metadata": {},
   "source": [
    "----------------------"
   ]
  },
  {
   "cell_type": "markdown",
   "id": "6e341012",
   "metadata": {},
   "source": [
    "## Data Cleansing"
   ]
  },
  {
   "cell_type": "code",
   "execution_count": 13,
   "id": "531af3ff",
   "metadata": {},
   "outputs": [],
   "source": [
    "var_num = ['los', 'Month', 'Year', 'Order_Qty', 'PPU',\n",
    "       'COS', 'Sales', 'Profit', 'Profit_Margin']\n",
    "sinarjaya[var_num] = sinarjaya[var_num].replace(\" \", 0).astype('float32')"
   ]
  },
  {
   "cell_type": "code",
   "execution_count": 14,
   "id": "8373f360",
   "metadata": {},
   "outputs": [
    {
     "name": "stdout",
     "output_type": "stream",
     "text": [
      "<class 'pandas.core.frame.DataFrame'>\n",
      "RangeIndex: 5024 entries, 0 to 5023\n",
      "Data columns (total 15 columns):\n",
      " #   Column            Non-Null Count  Dtype  \n",
      "---  ------            --------------  -----  \n",
      " 0   Datetime          5024 non-null   object \n",
      " 1   msisdn            5024 non-null   float64\n",
      " 2   flag_taker        5024 non-null   int64  \n",
      " 3   los               4135 non-null   float32\n",
      " 4   Month             5024 non-null   float32\n",
      " 5   Year              5024 non-null   float32\n",
      " 6   Order_Qty         5024 non-null   float32\n",
      " 7   COS               5024 non-null   float32\n",
      " 8   Sales             5024 non-null   float32\n",
      " 9   Profit            5024 non-null   float32\n",
      " 10  Product_Name      5023 non-null   object \n",
      " 11  Brand_Name        5024 non-null   object \n",
      " 12  Product_Category  5024 non-null   object \n",
      " 13  PPU               5024 non-null   float32\n",
      " 14  Profit_Margin     5024 non-null   float32\n",
      "dtypes: float32(9), float64(1), int64(1), object(4)\n",
      "memory usage: 412.2+ KB\n"
     ]
    }
   ],
   "source": [
    "sinarjaya.info()"
   ]
  },
  {
   "cell_type": "code",
   "execution_count": 15,
   "id": "2913a685",
   "metadata": {},
   "outputs": [],
   "source": [
    "sinarjaya = sinarjaya.drop('Datetime', axis=1)"
   ]
  },
  {
   "cell_type": "code",
   "execution_count": 16,
   "id": "8dda5ca7",
   "metadata": {},
   "outputs": [
    {
     "data": {
      "text/html": [
       "<div>\n",
       "<style scoped>\n",
       "    .dataframe tbody tr th:only-of-type {\n",
       "        vertical-align: middle;\n",
       "    }\n",
       "\n",
       "    .dataframe tbody tr th {\n",
       "        vertical-align: top;\n",
       "    }\n",
       "\n",
       "    .dataframe thead th {\n",
       "        text-align: right;\n",
       "    }\n",
       "</style>\n",
       "<table border=\"1\" class=\"dataframe\">\n",
       "  <thead>\n",
       "    <tr style=\"text-align: right;\">\n",
       "      <th></th>\n",
       "      <th>American Standard</th>\n",
       "      <th>Aquaproof</th>\n",
       "      <th>Asia Tile</th>\n",
       "      <th>BOSCH</th>\n",
       "      <th>Dulux</th>\n",
       "      <th>Fischer Internasional</th>\n",
       "      <th>Garuda</th>\n",
       "      <th>Gresik</th>\n",
       "      <th>Halmar Sanitary</th>\n",
       "      <th>Holcim</th>\n",
       "      <th>...</th>\n",
       "      <th>No Drop</th>\n",
       "      <th>Onduline</th>\n",
       "      <th>Pasir Elod</th>\n",
       "      <th>Pasir Merah</th>\n",
       "      <th>Pasir Pasang</th>\n",
       "      <th>Penguin</th>\n",
       "      <th>Quadra Surface</th>\n",
       "      <th>Roman</th>\n",
       "      <th>Tiga Roda</th>\n",
       "      <th>Toto</th>\n",
       "    </tr>\n",
       "  </thead>\n",
       "  <tbody>\n",
       "    <tr>\n",
       "      <th>0</th>\n",
       "      <td>0</td>\n",
       "      <td>0</td>\n",
       "      <td>0</td>\n",
       "      <td>0</td>\n",
       "      <td>0</td>\n",
       "      <td>0</td>\n",
       "      <td>0</td>\n",
       "      <td>0</td>\n",
       "      <td>0</td>\n",
       "      <td>0</td>\n",
       "      <td>...</td>\n",
       "      <td>0</td>\n",
       "      <td>0</td>\n",
       "      <td>0</td>\n",
       "      <td>0</td>\n",
       "      <td>0</td>\n",
       "      <td>0</td>\n",
       "      <td>0</td>\n",
       "      <td>0</td>\n",
       "      <td>1</td>\n",
       "      <td>0</td>\n",
       "    </tr>\n",
       "    <tr>\n",
       "      <th>1</th>\n",
       "      <td>0</td>\n",
       "      <td>0</td>\n",
       "      <td>0</td>\n",
       "      <td>0</td>\n",
       "      <td>0</td>\n",
       "      <td>0</td>\n",
       "      <td>0</td>\n",
       "      <td>0</td>\n",
       "      <td>0</td>\n",
       "      <td>0</td>\n",
       "      <td>...</td>\n",
       "      <td>0</td>\n",
       "      <td>0</td>\n",
       "      <td>0</td>\n",
       "      <td>0</td>\n",
       "      <td>0</td>\n",
       "      <td>0</td>\n",
       "      <td>0</td>\n",
       "      <td>0</td>\n",
       "      <td>0</td>\n",
       "      <td>0</td>\n",
       "    </tr>\n",
       "    <tr>\n",
       "      <th>2</th>\n",
       "      <td>0</td>\n",
       "      <td>0</td>\n",
       "      <td>0</td>\n",
       "      <td>0</td>\n",
       "      <td>0</td>\n",
       "      <td>0</td>\n",
       "      <td>0</td>\n",
       "      <td>0</td>\n",
       "      <td>0</td>\n",
       "      <td>0</td>\n",
       "      <td>...</td>\n",
       "      <td>0</td>\n",
       "      <td>0</td>\n",
       "      <td>0</td>\n",
       "      <td>0</td>\n",
       "      <td>0</td>\n",
       "      <td>0</td>\n",
       "      <td>1</td>\n",
       "      <td>0</td>\n",
       "      <td>0</td>\n",
       "      <td>0</td>\n",
       "    </tr>\n",
       "    <tr>\n",
       "      <th>3</th>\n",
       "      <td>0</td>\n",
       "      <td>0</td>\n",
       "      <td>0</td>\n",
       "      <td>0</td>\n",
       "      <td>0</td>\n",
       "      <td>0</td>\n",
       "      <td>0</td>\n",
       "      <td>0</td>\n",
       "      <td>0</td>\n",
       "      <td>0</td>\n",
       "      <td>...</td>\n",
       "      <td>0</td>\n",
       "      <td>0</td>\n",
       "      <td>0</td>\n",
       "      <td>0</td>\n",
       "      <td>0</td>\n",
       "      <td>0</td>\n",
       "      <td>0</td>\n",
       "      <td>0</td>\n",
       "      <td>1</td>\n",
       "      <td>0</td>\n",
       "    </tr>\n",
       "    <tr>\n",
       "      <th>4</th>\n",
       "      <td>0</td>\n",
       "      <td>0</td>\n",
       "      <td>0</td>\n",
       "      <td>0</td>\n",
       "      <td>0</td>\n",
       "      <td>0</td>\n",
       "      <td>0</td>\n",
       "      <td>0</td>\n",
       "      <td>0</td>\n",
       "      <td>0</td>\n",
       "      <td>...</td>\n",
       "      <td>0</td>\n",
       "      <td>0</td>\n",
       "      <td>0</td>\n",
       "      <td>0</td>\n",
       "      <td>0</td>\n",
       "      <td>0</td>\n",
       "      <td>0</td>\n",
       "      <td>0</td>\n",
       "      <td>0</td>\n",
       "      <td>1</td>\n",
       "    </tr>\n",
       "    <tr>\n",
       "      <th>...</th>\n",
       "      <td>...</td>\n",
       "      <td>...</td>\n",
       "      <td>...</td>\n",
       "      <td>...</td>\n",
       "      <td>...</td>\n",
       "      <td>...</td>\n",
       "      <td>...</td>\n",
       "      <td>...</td>\n",
       "      <td>...</td>\n",
       "      <td>...</td>\n",
       "      <td>...</td>\n",
       "      <td>...</td>\n",
       "      <td>...</td>\n",
       "      <td>...</td>\n",
       "      <td>...</td>\n",
       "      <td>...</td>\n",
       "      <td>...</td>\n",
       "      <td>...</td>\n",
       "      <td>...</td>\n",
       "      <td>...</td>\n",
       "      <td>...</td>\n",
       "    </tr>\n",
       "    <tr>\n",
       "      <th>5019</th>\n",
       "      <td>0</td>\n",
       "      <td>0</td>\n",
       "      <td>0</td>\n",
       "      <td>0</td>\n",
       "      <td>0</td>\n",
       "      <td>0</td>\n",
       "      <td>0</td>\n",
       "      <td>0</td>\n",
       "      <td>0</td>\n",
       "      <td>0</td>\n",
       "      <td>...</td>\n",
       "      <td>0</td>\n",
       "      <td>0</td>\n",
       "      <td>0</td>\n",
       "      <td>0</td>\n",
       "      <td>0</td>\n",
       "      <td>0</td>\n",
       "      <td>1</td>\n",
       "      <td>0</td>\n",
       "      <td>0</td>\n",
       "      <td>0</td>\n",
       "    </tr>\n",
       "    <tr>\n",
       "      <th>5020</th>\n",
       "      <td>0</td>\n",
       "      <td>0</td>\n",
       "      <td>0</td>\n",
       "      <td>0</td>\n",
       "      <td>0</td>\n",
       "      <td>0</td>\n",
       "      <td>0</td>\n",
       "      <td>0</td>\n",
       "      <td>0</td>\n",
       "      <td>0</td>\n",
       "      <td>...</td>\n",
       "      <td>0</td>\n",
       "      <td>0</td>\n",
       "      <td>0</td>\n",
       "      <td>0</td>\n",
       "      <td>0</td>\n",
       "      <td>0</td>\n",
       "      <td>1</td>\n",
       "      <td>0</td>\n",
       "      <td>0</td>\n",
       "      <td>0</td>\n",
       "    </tr>\n",
       "    <tr>\n",
       "      <th>5021</th>\n",
       "      <td>0</td>\n",
       "      <td>0</td>\n",
       "      <td>0</td>\n",
       "      <td>0</td>\n",
       "      <td>1</td>\n",
       "      <td>0</td>\n",
       "      <td>0</td>\n",
       "      <td>0</td>\n",
       "      <td>0</td>\n",
       "      <td>0</td>\n",
       "      <td>...</td>\n",
       "      <td>0</td>\n",
       "      <td>0</td>\n",
       "      <td>0</td>\n",
       "      <td>0</td>\n",
       "      <td>0</td>\n",
       "      <td>0</td>\n",
       "      <td>0</td>\n",
       "      <td>0</td>\n",
       "      <td>0</td>\n",
       "      <td>0</td>\n",
       "    </tr>\n",
       "    <tr>\n",
       "      <th>5022</th>\n",
       "      <td>0</td>\n",
       "      <td>0</td>\n",
       "      <td>0</td>\n",
       "      <td>0</td>\n",
       "      <td>0</td>\n",
       "      <td>0</td>\n",
       "      <td>0</td>\n",
       "      <td>0</td>\n",
       "      <td>0</td>\n",
       "      <td>0</td>\n",
       "      <td>...</td>\n",
       "      <td>0</td>\n",
       "      <td>0</td>\n",
       "      <td>0</td>\n",
       "      <td>0</td>\n",
       "      <td>0</td>\n",
       "      <td>0</td>\n",
       "      <td>0</td>\n",
       "      <td>0</td>\n",
       "      <td>1</td>\n",
       "      <td>0</td>\n",
       "    </tr>\n",
       "    <tr>\n",
       "      <th>5023</th>\n",
       "      <td>0</td>\n",
       "      <td>0</td>\n",
       "      <td>0</td>\n",
       "      <td>0</td>\n",
       "      <td>0</td>\n",
       "      <td>0</td>\n",
       "      <td>0</td>\n",
       "      <td>0</td>\n",
       "      <td>0</td>\n",
       "      <td>0</td>\n",
       "      <td>...</td>\n",
       "      <td>0</td>\n",
       "      <td>0</td>\n",
       "      <td>0</td>\n",
       "      <td>0</td>\n",
       "      <td>0</td>\n",
       "      <td>0</td>\n",
       "      <td>0</td>\n",
       "      <td>0</td>\n",
       "      <td>1</td>\n",
       "      <td>0</td>\n",
       "    </tr>\n",
       "  </tbody>\n",
       "</table>\n",
       "<p>5024 rows × 25 columns</p>\n",
       "</div>"
      ],
      "text/plain": [
       "      American Standard  Aquaproof  Asia Tile  BOSCH  Dulux  \\\n",
       "0                     0          0          0      0      0   \n",
       "1                     0          0          0      0      0   \n",
       "2                     0          0          0      0      0   \n",
       "3                     0          0          0      0      0   \n",
       "4                     0          0          0      0      0   \n",
       "...                 ...        ...        ...    ...    ...   \n",
       "5019                  0          0          0      0      0   \n",
       "5020                  0          0          0      0      0   \n",
       "5021                  0          0          0      0      1   \n",
       "5022                  0          0          0      0      0   \n",
       "5023                  0          0          0      0      0   \n",
       "\n",
       "      Fischer Internasional  Garuda  Gresik  Halmar Sanitary  Holcim  ...  \\\n",
       "0                         0       0       0                0       0  ...   \n",
       "1                         0       0       0                0       0  ...   \n",
       "2                         0       0       0                0       0  ...   \n",
       "3                         0       0       0                0       0  ...   \n",
       "4                         0       0       0                0       0  ...   \n",
       "...                     ...     ...     ...              ...     ...  ...   \n",
       "5019                      0       0       0                0       0  ...   \n",
       "5020                      0       0       0                0       0  ...   \n",
       "5021                      0       0       0                0       0  ...   \n",
       "5022                      0       0       0                0       0  ...   \n",
       "5023                      0       0       0                0       0  ...   \n",
       "\n",
       "      No Drop  Onduline  Pasir Elod  Pasir Merah  Pasir Pasang  Penguin  \\\n",
       "0           0         0           0            0             0        0   \n",
       "1           0         0           0            0             0        0   \n",
       "2           0         0           0            0             0        0   \n",
       "3           0         0           0            0             0        0   \n",
       "4           0         0           0            0             0        0   \n",
       "...       ...       ...         ...          ...           ...      ...   \n",
       "5019        0         0           0            0             0        0   \n",
       "5020        0         0           0            0             0        0   \n",
       "5021        0         0           0            0             0        0   \n",
       "5022        0         0           0            0             0        0   \n",
       "5023        0         0           0            0             0        0   \n",
       "\n",
       "      Quadra Surface  Roman  Tiga Roda  Toto  \n",
       "0                  0      0          1     0  \n",
       "1                  0      0          0     0  \n",
       "2                  1      0          0     0  \n",
       "3                  0      0          1     0  \n",
       "4                  0      0          0     1  \n",
       "...              ...    ...        ...   ...  \n",
       "5019               1      0          0     0  \n",
       "5020               1      0          0     0  \n",
       "5021               0      0          0     0  \n",
       "5022               0      0          1     0  \n",
       "5023               0      0          1     0  \n",
       "\n",
       "[5024 rows x 25 columns]"
      ]
     },
     "execution_count": 16,
     "metadata": {},
     "output_type": "execute_result"
    }
   ],
   "source": [
    "##sebelum encode\n",
    "##pd.get_dummy(df)\n",
    "pd.get_dummies(sinarjaya['Product_Name'])\n",
    "\n",
    "pd.get_dummies(sinarjaya['Brand_Name'])\n",
    "\n",
    "##drop msisdn\n",
    "\n",
    "##df.dropna(axis=0,thresh=20)"
   ]
  },
  {
   "cell_type": "code",
   "execution_count": 17,
   "id": "3e73c0a2",
   "metadata": {
    "scrolled": true
   },
   "outputs": [
    {
     "data": {
      "text/plain": [
       "array(['Semen Tiga Roda ', 'Nippon Paint', 'Quadra', 'Pasir Beton',\n",
       "       'Toto closet', 'Fischer', 'BOSCH DIY STARTER BOX SET/73PCS',\n",
       "       'Roman', 'KIA', 'MR Safety Screw', 'Pasir Pasang',\n",
       "       'BURNERS TOOLS RD-260 Kawat Las Besi Baja 2MM',\n",
       "       'American Standard Smart Washer Seat and Cover – SCV092410',\n",
       "       'Paint Dulux',\n",
       "       'CUTTING TOOLS HIT-1200N With Bag 120CM POTONG KERAMIK MANUAL',\n",
       "       'CCUTTING TOOLS HIT-1200N With Bag 120CM POTONG KERAMIK MANUAL',\n",
       "       'MM Bolt Hexagon', 'Pasir Elod', 'Halmar Water Tank',\n",
       "       'Paint No Drop', 'BOSCH GLL 5-50X LINE LASER KIT15M',\n",
       "       'Semen Holcim', 'Penguin Tangki Air', 'Pasir Merah', 'Aquaproof',\n",
       "       'Asia Tile', 'Semen Gresik', 'Semen Garuda', nan,\n",
       "       'Onduline Sekrup', 'Semen Tiga Roda',\n",
       "       'BOSCH GLM 7000 MEASURING LASER0.05-70M'], dtype=object)"
      ]
     },
     "execution_count": 17,
     "metadata": {},
     "output_type": "execute_result"
    }
   ],
   "source": [
    "sinarjaya.Product_Name.unique()"
   ]
  },
  {
   "cell_type": "code",
   "execution_count": 18,
   "id": "5f94faaf",
   "metadata": {},
   "outputs": [],
   "source": [
    "def encode_Product_Name(x):\n",
    "    if x=='Semen Tiga Roda ':\n",
    "        return 1\n",
    "    elif x=='Nippon Paint':\n",
    "        return 2\n",
    "    elif x=='Quadra':\n",
    "        return 3\n",
    "    elif x=='Pasir Beton':\n",
    "        return 4\n",
    "    elif x=='Toto closet':\n",
    "        return 5\n",
    "    elif x=='Fischer':\n",
    "        return 6\n",
    "    elif x=='BOSCH DIY STARTER BOX SET/73PCS':\n",
    "        return 7   \n",
    "    elif x=='Roman':\n",
    "        return 8   \n",
    "    elif x=='KIA':\n",
    "        return 9  \n",
    "    elif x=='MR Safety Screw':\n",
    "        return 10\n",
    "    elif x=='Pasir Pasang':\n",
    "        return 11\n",
    "    elif x=='BURNERS TOOLS RD-260 Kawat Las Besi Baja 2MM':\n",
    "        return 12\n",
    "    elif x=='American Standard Smart Washer Seat and Cover – SCV092410':\n",
    "        return 13\n",
    "    elif x=='Paint Dulux':\n",
    "        return 14\n",
    "    elif x=='CUTTING TOOLS HIT-1200N With Bag 120CM POTONG KERAMIK MANUAL':\n",
    "        return 15\n",
    "    elif x=='CCUTTING TOOLS HIT-1200N With Bag 120CM POTONG KERAMIK MANUAL':\n",
    "        return 16\n",
    "    elif x=='MM Bolt Hexagon':\n",
    "        return 17\n",
    "    elif x=='Pasir Elod':\n",
    "        return 18\n",
    "    elif x=='Paint No Drop':\n",
    "        return 19\n",
    "    elif x=='BOSCH GLL 5-50X LINE LASER KIT15M':\n",
    "        return 20\n",
    "    elif x=='Semen Holcim':\n",
    "        return 21\n",
    "    elif x=='Penguin Tangki Air':\n",
    "        return 22\n",
    "    elif x=='Pasir Merah':\n",
    "        return 23\n",
    "    elif x=='Aquaproof':\n",
    "        return 24\n",
    "    elif x=='Asia Tile':\n",
    "        return 25\n",
    "    elif x=='Semen Gresik':\n",
    "        return 26\n",
    "    elif x=='Semen Garuda':\n",
    "        return 27\n",
    "    elif x=='Onduline Sekrup':\n",
    "        return 28\n",
    "    elif x=='Semen Tiga Roda':\n",
    "        return 29\n",
    "    elif x=='BOSCH GLM 7000 MEASURING LASER0.05-70M':\n",
    "        return 30\n",
    "    else:\n",
    "        return 0"
   ]
  },
  {
   "cell_type": "code",
   "execution_count": 19,
   "id": "dc3db099",
   "metadata": {},
   "outputs": [
    {
     "data": {
      "text/plain": [
       "29    436\n",
       "10    414\n",
       "6     381\n",
       "15    331\n",
       "24    319\n",
       "27    307\n",
       "7     280\n",
       "14    251\n",
       "4     226\n",
       "22    213\n",
       "23    204\n",
       "12    191\n",
       "0     153\n",
       "17    137\n",
       "11    128\n",
       "13    120\n",
       "5     118\n",
       "21    110\n",
       "9      94\n",
       "18     91\n",
       "26     89\n",
       "30     81\n",
       "8      79\n",
       "25     64\n",
       "2      62\n",
       "3      58\n",
       "19     50\n",
       "28     34\n",
       "1       1\n",
       "20      1\n",
       "16      1\n",
       "Name: Product_Name, dtype: int64"
      ]
     },
     "execution_count": 19,
     "metadata": {},
     "output_type": "execute_result"
    }
   ],
   "source": [
    "sinarjaya['Product_Name'] = sinarjaya['Product_Name'].apply(encode_Product_Name)\n",
    "sinarjaya['Product_Name'].value_counts()"
   ]
  },
  {
   "cell_type": "code",
   "execution_count": 20,
   "id": "eb103156",
   "metadata": {},
   "outputs": [
    {
     "data": {
      "text/plain": [
       "29    436\n",
       "10    414\n",
       "6     381\n",
       "15    331\n",
       "24    319\n",
       "27    307\n",
       "7     280\n",
       "5     271\n",
       "14    251\n",
       "4     226\n",
       "22    213\n",
       "23    204\n",
       "12    191\n",
       "17    137\n",
       "11    128\n",
       "13    120\n",
       "21    110\n",
       "9      94\n",
       "18     91\n",
       "26     89\n",
       "30     81\n",
       "8      79\n",
       "25     64\n",
       "2      62\n",
       "3      58\n",
       "19     50\n",
       "28     34\n",
       "1       1\n",
       "20      1\n",
       "16      1\n",
       "Name: Product_Name, dtype: int64"
      ]
     },
     "execution_count": 20,
     "metadata": {},
     "output_type": "execute_result"
    }
   ],
   "source": [
    "## change unknown to central jabo\n",
    "\n",
    "sinarjaya['Product_Name'] = sinarjaya['Product_Name'].replace([0],[5])\n",
    "sinarjaya['Product_Name'].value_counts()"
   ]
  },
  {
   "cell_type": "code",
   "execution_count": 21,
   "id": "2b0597b9",
   "metadata": {
    "scrolled": false
   },
   "outputs": [
    {
     "data": {
      "text/plain": [
       "array(['Tiga Roda', 'Nippon Paint Holdings', 'Quadra Surface', 'Toto',\n",
       "       'Fischer Internasional', 'BOSCH', 'Roman', 'KIA Ceramics',\n",
       "       'Mr. Safety Group', 'Pasir Pasang', 'NIKKO', 'American Standard',\n",
       "       'Dulux', 'Metric Bolt', 'Pasir Elod', 'Halmar Sanitary', 'No Drop',\n",
       "       'Holcim', 'Penguin', 'Pasir Merah', 'Aquaproof', 'Asia Tile',\n",
       "       'Gresik', 'Garuda', 'Onduline'], dtype=object)"
      ]
     },
     "execution_count": 21,
     "metadata": {},
     "output_type": "execute_result"
    }
   ],
   "source": [
    "sinarjaya.Brand_Name.unique()"
   ]
  },
  {
   "cell_type": "code",
   "execution_count": 22,
   "id": "96c967e7",
   "metadata": {},
   "outputs": [],
   "source": [
    "def encode_Brand_Name(x):\n",
    "    if x=='Tiga Roda':\n",
    "        return 1\n",
    "    elif x=='Nippon Paint Holdings':\n",
    "        return 2\n",
    "    elif x=='Quadra Surface':\n",
    "        return 3\n",
    "    elif x=='Toto':\n",
    "        return 4\n",
    "    elif x=='Fischer Internasional':\n",
    "        return 5\n",
    "    elif x=='BOSCH':\n",
    "        return 6\n",
    "    elif x=='Roman':\n",
    "        return 7\n",
    "    elif x=='KIA Ceramics':\n",
    "        return 8   \n",
    "    elif x=='Mr. Safety Group':\n",
    "        return 9   \n",
    "    elif x=='Pasir Pasang':\n",
    "        return 10  \n",
    "    elif x=='NIKKO':\n",
    "        return 11\n",
    "    elif x=='American Standard':\n",
    "        return 12\n",
    "    elif x=='FoodDrinks':\n",
    "        return 13\n",
    "    elif x=='Dulux':\n",
    "        return 14\n",
    "    elif x=='Metric Bolt':\n",
    "        return 15\n",
    "    elif x=='Pasir Elod':\n",
    "        return 16\n",
    "    elif x=='Halmar Sanitary':\n",
    "        return 17\n",
    "    elif x=='No Drop':\n",
    "        return 18\n",
    "    elif x=='Holcim':\n",
    "        return 19\n",
    "    elif x=='Penguin':\n",
    "        return 20   \n",
    "    elif x=='Pasir Merah':\n",
    "        return 21   \n",
    "    elif x=='Aquaproof':\n",
    "        return 22  \n",
    "    elif x=='Asia Tile':\n",
    "        return 23\n",
    "    elif x=='Gresik':\n",
    "        return 24\n",
    "    elif x=='Garuda':\n",
    "        return 25\n",
    "    elif x=='Onduline':\n",
    "        return 26\n",
    "    else:\n",
    "        return 0"
   ]
  },
  {
   "cell_type": "code",
   "execution_count": 23,
   "id": "166b1d80",
   "metadata": {},
   "outputs": [
    {
     "data": {
      "text/plain": [
       "6     694\n",
       "1     663\n",
       "9     414\n",
       "5     381\n",
       "22    319\n",
       "25    307\n",
       "14    251\n",
       "20    213\n",
       "21    205\n",
       "11    191\n",
       "17    152\n",
       "15    137\n",
       "10    128\n",
       "12    120\n",
       "4     118\n",
       "19    110\n",
       "8      94\n",
       "16     91\n",
       "24     89\n",
       "7      79\n",
       "23     64\n",
       "2      62\n",
       "3      58\n",
       "18     50\n",
       "26     34\n",
       "Name: Brand_Name, dtype: int64"
      ]
     },
     "execution_count": 23,
     "metadata": {},
     "output_type": "execute_result"
    }
   ],
   "source": [
    "sinarjaya['Brand_Name'] = sinarjaya['Brand_Name'].apply(encode_Brand_Name)\n",
    "sinarjaya['Brand_Name'].value_counts()"
   ]
  },
  {
   "cell_type": "code",
   "execution_count": 24,
   "id": "cbf81feb",
   "metadata": {},
   "outputs": [
    {
     "data": {
      "text/plain": [
       "array(['Builder Hardware ', 'Paint & Sundries', 'Flooring', 'Sanitary',\n",
       "       'Fastener', 'Hand Tools', 'Hardware1'], dtype=object)"
      ]
     },
     "execution_count": 24,
     "metadata": {},
     "output_type": "execute_result"
    }
   ],
   "source": [
    "sinarjaya.Product_Category.unique()"
   ]
  },
  {
   "cell_type": "code",
   "execution_count": 25,
   "id": "afff6887",
   "metadata": {},
   "outputs": [],
   "source": [
    "def encode_Product_Category(x):\n",
    "    if x=='Builder Hardware':\n",
    "        return 1\n",
    "    elif x=='Paint & Sundries':\n",
    "        return 2\n",
    "    elif x=='Flooring':\n",
    "        return 3\n",
    "    elif x=='Sanitary':\n",
    "        return 4\n",
    "    elif x=='Fastener':\n",
    "        return 5\n",
    "    elif x=='Hand Tools':\n",
    "        return 6\n",
    "    elif x=='Hardware1':\n",
    "        return 7\n",
    "    else:\n",
    "        return 0"
   ]
  },
  {
   "cell_type": "code",
   "execution_count": 26,
   "id": "7fef9c53",
   "metadata": {},
   "outputs": [
    {
     "data": {
      "text/plain": [
       "5    1808\n",
       "0    1185\n",
       "6     885\n",
       "4     603\n",
       "3     295\n",
       "2     247\n",
       "7       1\n",
       "Name: Product_Category, dtype: int64"
      ]
     },
     "execution_count": 26,
     "metadata": {},
     "output_type": "execute_result"
    }
   ],
   "source": [
    "sinarjaya['Product_Category'] = sinarjaya['Product_Category'].apply(encode_Product_Category)\n",
    "sinarjaya['Product_Category'].value_counts()"
   ]
  },
  {
   "cell_type": "code",
   "execution_count": 27,
   "id": "bee1274d",
   "metadata": {},
   "outputs": [
    {
     "data": {
      "text/html": [
       "<div>\n",
       "<style scoped>\n",
       "    .dataframe tbody tr th:only-of-type {\n",
       "        vertical-align: middle;\n",
       "    }\n",
       "\n",
       "    .dataframe tbody tr th {\n",
       "        vertical-align: top;\n",
       "    }\n",
       "\n",
       "    .dataframe thead th {\n",
       "        text-align: right;\n",
       "    }\n",
       "</style>\n",
       "<table border=\"1\" class=\"dataframe\">\n",
       "  <thead>\n",
       "    <tr style=\"text-align: right;\">\n",
       "      <th></th>\n",
       "      <th>msisdn</th>\n",
       "      <th>flag_taker</th>\n",
       "      <th>los</th>\n",
       "      <th>Month</th>\n",
       "      <th>Year</th>\n",
       "      <th>Order_Qty</th>\n",
       "      <th>COS</th>\n",
       "      <th>Sales</th>\n",
       "      <th>Profit</th>\n",
       "      <th>Product_Name</th>\n",
       "      <th>Brand_Name</th>\n",
       "      <th>Product_Category</th>\n",
       "      <th>PPU</th>\n",
       "      <th>Profit_Margin</th>\n",
       "    </tr>\n",
       "  </thead>\n",
       "  <tbody>\n",
       "    <tr>\n",
       "      <th>0</th>\n",
       "      <td>628,000,000,000.0</td>\n",
       "      <td>0</td>\n",
       "      <td>965.0</td>\n",
       "      <td>3.0</td>\n",
       "      <td>2,019.0</td>\n",
       "      <td>9.0</td>\n",
       "      <td>958,552.4375</td>\n",
       "      <td>2,714,720.0</td>\n",
       "      <td>1,756,167.625</td>\n",
       "      <td>1</td>\n",
       "      <td>1</td>\n",
       "      <td>0</td>\n",
       "      <td>301,635.5625</td>\n",
       "      <td>0.6469056010246277</td>\n",
       "    </tr>\n",
       "    <tr>\n",
       "      <th>1</th>\n",
       "      <td>628,000,000,000.0</td>\n",
       "      <td>0</td>\n",
       "      <td>NaN</td>\n",
       "      <td>2.0</td>\n",
       "      <td>2,018.0</td>\n",
       "      <td>4.0</td>\n",
       "      <td>18,624.689453125</td>\n",
       "      <td>50,141.3984375</td>\n",
       "      <td>31,516.7109375</td>\n",
       "      <td>2</td>\n",
       "      <td>2</td>\n",
       "      <td>2</td>\n",
       "      <td>12,535.349609375</td>\n",
       "      <td>0.6285566687583923</td>\n",
       "    </tr>\n",
       "    <tr>\n",
       "      <th>2</th>\n",
       "      <td>628,000,000,000.0</td>\n",
       "      <td>0</td>\n",
       "      <td>859.0</td>\n",
       "      <td>1.0</td>\n",
       "      <td>2,018.0</td>\n",
       "      <td>9.0</td>\n",
       "      <td>205,101.453125</td>\n",
       "      <td>1,395,112.75</td>\n",
       "      <td>1,190,011.375</td>\n",
       "      <td>3</td>\n",
       "      <td>3</td>\n",
       "      <td>3</td>\n",
       "      <td>155,012.53125</td>\n",
       "      <td>0.8529857397079468</td>\n",
       "    </tr>\n",
       "    <tr>\n",
       "      <th>3</th>\n",
       "      <td>628,000,000,000.0</td>\n",
       "      <td>0</td>\n",
       "      <td>NaN</td>\n",
       "      <td>1.0</td>\n",
       "      <td>2,019.0</td>\n",
       "      <td>9.0</td>\n",
       "      <td>4,807.080078125</td>\n",
       "      <td>2,614,400.0</td>\n",
       "      <td>2,609,593.0</td>\n",
       "      <td>4</td>\n",
       "      <td>1</td>\n",
       "      <td>0</td>\n",
       "      <td>290,488.875</td>\n",
       "      <td>0.9981613159179688</td>\n",
       "    </tr>\n",
       "    <tr>\n",
       "      <th>4</th>\n",
       "      <td>628,000,000,000.0</td>\n",
       "      <td>0</td>\n",
       "      <td>1,259.0</td>\n",
       "      <td>4.0</td>\n",
       "      <td>2,020.0</td>\n",
       "      <td>24.0</td>\n",
       "      <td>203,316.109375</td>\n",
       "      <td>7,056,400.0</td>\n",
       "      <td>6,853,084.0</td>\n",
       "      <td>5</td>\n",
       "      <td>4</td>\n",
       "      <td>4</td>\n",
       "      <td>294,016.65625</td>\n",
       "      <td>0.9711869955062866</td>\n",
       "    </tr>\n",
       "    <tr>\n",
       "      <th>...</th>\n",
       "      <td>...</td>\n",
       "      <td>...</td>\n",
       "      <td>...</td>\n",
       "      <td>...</td>\n",
       "      <td>...</td>\n",
       "      <td>...</td>\n",
       "      <td>...</td>\n",
       "      <td>...</td>\n",
       "      <td>...</td>\n",
       "      <td>...</td>\n",
       "      <td>...</td>\n",
       "      <td>...</td>\n",
       "      <td>...</td>\n",
       "      <td>...</td>\n",
       "    </tr>\n",
       "    <tr>\n",
       "      <th>5019</th>\n",
       "      <td>6,280,000,000,000.0</td>\n",
       "      <td>0</td>\n",
       "      <td>NaN</td>\n",
       "      <td>9.0</td>\n",
       "      <td>2,018.0</td>\n",
       "      <td>5.0</td>\n",
       "      <td>18,289.5703125</td>\n",
       "      <td>64,950.0</td>\n",
       "      <td>46,660.4296875</td>\n",
       "      <td>3</td>\n",
       "      <td>3</td>\n",
       "      <td>3</td>\n",
       "      <td>12,990.0</td>\n",
       "      <td>0.7184053659439087</td>\n",
       "    </tr>\n",
       "    <tr>\n",
       "      <th>5020</th>\n",
       "      <td>6,280,000,000,000.0</td>\n",
       "      <td>0</td>\n",
       "      <td>1,600.0</td>\n",
       "      <td>5.0</td>\n",
       "      <td>2,018.0</td>\n",
       "      <td>10.0</td>\n",
       "      <td>69.37000274658203</td>\n",
       "      <td>138,900.0</td>\n",
       "      <td>138,830.625</td>\n",
       "      <td>3</td>\n",
       "      <td>3</td>\n",
       "      <td>3</td>\n",
       "      <td>13,890.0</td>\n",
       "      <td>0.999500572681427</td>\n",
       "    </tr>\n",
       "    <tr>\n",
       "      <th>5021</th>\n",
       "      <td>6,280,000,000,000.0</td>\n",
       "      <td>0</td>\n",
       "      <td>529.0</td>\n",
       "      <td>4.0</td>\n",
       "      <td>2,018.0</td>\n",
       "      <td>12.0</td>\n",
       "      <td>391,891.375</td>\n",
       "      <td>300,000.0</td>\n",
       "      <td>-91,891.359375</td>\n",
       "      <td>14</td>\n",
       "      <td>14</td>\n",
       "      <td>0</td>\n",
       "      <td>25,000.0</td>\n",
       "      <td>-0.30630454421043396</td>\n",
       "    </tr>\n",
       "    <tr>\n",
       "      <th>5022</th>\n",
       "      <td>6,280,000,000,000.0</td>\n",
       "      <td>1</td>\n",
       "      <td>1,182.0</td>\n",
       "      <td>4.0</td>\n",
       "      <td>2,018.0</td>\n",
       "      <td>10.0</td>\n",
       "      <td>337,481.8125</td>\n",
       "      <td>9,990,000.0</td>\n",
       "      <td>9,652,518.0</td>\n",
       "      <td>29</td>\n",
       "      <td>1</td>\n",
       "      <td>5</td>\n",
       "      <td>999,000.0</td>\n",
       "      <td>0.9662180542945862</td>\n",
       "    </tr>\n",
       "    <tr>\n",
       "      <th>5023</th>\n",
       "      <td>6,280,000,000,000.0</td>\n",
       "      <td>0</td>\n",
       "      <td>NaN</td>\n",
       "      <td>5.0</td>\n",
       "      <td>2,019.0</td>\n",
       "      <td>12.0</td>\n",
       "      <td>229,656.109375</td>\n",
       "      <td>3,348,000.0</td>\n",
       "      <td>3,118,344.0</td>\n",
       "      <td>29</td>\n",
       "      <td>1</td>\n",
       "      <td>5</td>\n",
       "      <td>279,000.0</td>\n",
       "      <td>0.9314050078392029</td>\n",
       "    </tr>\n",
       "  </tbody>\n",
       "</table>\n",
       "<p>5024 rows × 14 columns</p>\n",
       "</div>"
      ],
      "text/plain": [
       "                  msisdn  flag_taker     los  Month    Year  Order_Qty  \\\n",
       "0      628,000,000,000.0           0   965.0    3.0 2,019.0        9.0   \n",
       "1      628,000,000,000.0           0     NaN    2.0 2,018.0        4.0   \n",
       "2      628,000,000,000.0           0   859.0    1.0 2,018.0        9.0   \n",
       "3      628,000,000,000.0           0     NaN    1.0 2,019.0        9.0   \n",
       "4      628,000,000,000.0           0 1,259.0    4.0 2,020.0       24.0   \n",
       "...                  ...         ...     ...    ...     ...        ...   \n",
       "5019 6,280,000,000,000.0           0     NaN    9.0 2,018.0        5.0   \n",
       "5020 6,280,000,000,000.0           0 1,600.0    5.0 2,018.0       10.0   \n",
       "5021 6,280,000,000,000.0           0   529.0    4.0 2,018.0       12.0   \n",
       "5022 6,280,000,000,000.0           1 1,182.0    4.0 2,018.0       10.0   \n",
       "5023 6,280,000,000,000.0           0     NaN    5.0 2,019.0       12.0   \n",
       "\n",
       "                   COS          Sales         Profit  Product_Name  \\\n",
       "0         958,552.4375    2,714,720.0  1,756,167.625             1   \n",
       "1     18,624.689453125 50,141.3984375 31,516.7109375             2   \n",
       "2       205,101.453125   1,395,112.75  1,190,011.375             3   \n",
       "3      4,807.080078125    2,614,400.0    2,609,593.0             4   \n",
       "4       203,316.109375    7,056,400.0    6,853,084.0             5   \n",
       "...                ...            ...            ...           ...   \n",
       "5019    18,289.5703125       64,950.0 46,660.4296875             3   \n",
       "5020 69.37000274658203      138,900.0    138,830.625             3   \n",
       "5021       391,891.375      300,000.0 -91,891.359375            14   \n",
       "5022      337,481.8125    9,990,000.0    9,652,518.0            29   \n",
       "5023    229,656.109375    3,348,000.0    3,118,344.0            29   \n",
       "\n",
       "      Brand_Name  Product_Category              PPU        Profit_Margin  \n",
       "0              1                 0     301,635.5625   0.6469056010246277  \n",
       "1              2                 2 12,535.349609375   0.6285566687583923  \n",
       "2              3                 3    155,012.53125   0.8529857397079468  \n",
       "3              1                 0      290,488.875   0.9981613159179688  \n",
       "4              4                 4    294,016.65625   0.9711869955062866  \n",
       "...          ...               ...              ...                  ...  \n",
       "5019           3                 3         12,990.0   0.7184053659439087  \n",
       "5020           3                 3         13,890.0    0.999500572681427  \n",
       "5021          14                 0         25,000.0 -0.30630454421043396  \n",
       "5022           1                 5        999,000.0   0.9662180542945862  \n",
       "5023           1                 5        279,000.0   0.9314050078392029  \n",
       "\n",
       "[5024 rows x 14 columns]"
      ]
     },
     "execution_count": 27,
     "metadata": {},
     "output_type": "execute_result"
    }
   ],
   "source": [
    "sinarjaya"
   ]
  },
  {
   "cell_type": "markdown",
   "id": "b289ba34",
   "metadata": {},
   "source": [
    "## Handling Missing Data"
   ]
  },
  {
   "cell_type": "code",
   "execution_count": 28,
   "id": "ee4c23d4",
   "metadata": {
    "scrolled": true
   },
   "outputs": [
    {
     "data": {
      "text/plain": [
       "msisdn                0\n",
       "flag_taker            0\n",
       "los                 889\n",
       "Month                 0\n",
       "Year                  0\n",
       "Order_Qty             0\n",
       "COS                   0\n",
       "Sales                 0\n",
       "Profit                0\n",
       "Product_Name          0\n",
       "Brand_Name            0\n",
       "Product_Category      0\n",
       "PPU                   0\n",
       "Profit_Margin         0\n",
       "dtype: int64"
      ]
     },
     "execution_count": 28,
     "metadata": {},
     "output_type": "execute_result"
    }
   ],
   "source": [
    "sinarjaya.isnull().sum()"
   ]
  },
  {
   "cell_type": "code",
   "execution_count": 29,
   "id": "bf71e7ff",
   "metadata": {},
   "outputs": [
    {
     "data": {
      "text/plain": [
       "(414.0, 1642.0)"
      ]
     },
     "execution_count": 29,
     "metadata": {},
     "output_type": "execute_result"
    }
   ],
   "source": [
    "Q1 = sinarjaya.los.quantile(0.25)\n",
    "Q3 = sinarjaya.los.quantile(0.75)\n",
    "Q1, Q3"
   ]
  },
  {
   "cell_type": "code",
   "execution_count": 30,
   "id": "08547ed2",
   "metadata": {},
   "outputs": [
    {
     "data": {
      "text/plain": [
       "1228.0"
      ]
     },
     "execution_count": 30,
     "metadata": {},
     "output_type": "execute_result"
    }
   ],
   "source": [
    "IQR = Q3 - Q1\n",
    "IQR"
   ]
  },
  {
   "cell_type": "code",
   "execution_count": 31,
   "id": "bc96265f",
   "metadata": {},
   "outputs": [
    {
     "data": {
      "text/plain": [
       "(-1428.0, 3484.0)"
      ]
     },
     "execution_count": 31,
     "metadata": {},
     "output_type": "execute_result"
    }
   ],
   "source": [
    "lower_limit = Q1 - 1.5*IQR\n",
    "upper_limit = Q3 + 1.5*IQR\n",
    "lower_limit, upper_limit"
   ]
  },
  {
   "cell_type": "code",
   "execution_count": 32,
   "id": "9433cf64",
   "metadata": {},
   "outputs": [
    {
     "data": {
      "text/html": [
       "<div>\n",
       "<style scoped>\n",
       "    .dataframe tbody tr th:only-of-type {\n",
       "        vertical-align: middle;\n",
       "    }\n",
       "\n",
       "    .dataframe tbody tr th {\n",
       "        vertical-align: top;\n",
       "    }\n",
       "\n",
       "    .dataframe thead th {\n",
       "        text-align: right;\n",
       "    }\n",
       "</style>\n",
       "<table border=\"1\" class=\"dataframe\">\n",
       "  <thead>\n",
       "    <tr style=\"text-align: right;\">\n",
       "      <th></th>\n",
       "      <th>msisdn</th>\n",
       "      <th>flag_taker</th>\n",
       "      <th>los</th>\n",
       "      <th>Month</th>\n",
       "      <th>Year</th>\n",
       "      <th>Order_Qty</th>\n",
       "      <th>COS</th>\n",
       "      <th>Sales</th>\n",
       "      <th>Profit</th>\n",
       "      <th>Product_Name</th>\n",
       "      <th>Brand_Name</th>\n",
       "      <th>Product_Category</th>\n",
       "      <th>PPU</th>\n",
       "      <th>Profit_Margin</th>\n",
       "    </tr>\n",
       "  </thead>\n",
       "  <tbody>\n",
       "    <tr>\n",
       "      <th>7</th>\n",
       "      <td>628,000,000,000.0</td>\n",
       "      <td>0</td>\n",
       "      <td>4,415.0</td>\n",
       "      <td>12.0</td>\n",
       "      <td>2,018.0</td>\n",
       "      <td>13.0</td>\n",
       "      <td>3,525,557.25</td>\n",
       "      <td>3,890,500.0</td>\n",
       "      <td>364,942.875</td>\n",
       "      <td>7</td>\n",
       "      <td>6</td>\n",
       "      <td>6</td>\n",
       "      <td>299,269.21875</td>\n",
       "      <td>0.09380358457565308</td>\n",
       "    </tr>\n",
       "    <tr>\n",
       "      <th>20</th>\n",
       "      <td>628,000,000,000.0</td>\n",
       "      <td>0</td>\n",
       "      <td>4,336.0</td>\n",
       "      <td>1.0</td>\n",
       "      <td>2,020.0</td>\n",
       "      <td>9.0</td>\n",
       "      <td>2,927,194.0</td>\n",
       "      <td>3,321,000.0</td>\n",
       "      <td>393,805.90625</td>\n",
       "      <td>5</td>\n",
       "      <td>4</td>\n",
       "      <td>4</td>\n",
       "      <td>369,000.0</td>\n",
       "      <td>0.11858052015304565</td>\n",
       "    </tr>\n",
       "    <tr>\n",
       "      <th>30</th>\n",
       "      <td>62,800,000,000.0</td>\n",
       "      <td>0</td>\n",
       "      <td>7,030.0</td>\n",
       "      <td>2.0</td>\n",
       "      <td>2,018.0</td>\n",
       "      <td>4.0</td>\n",
       "      <td>1,946.6099853515625</td>\n",
       "      <td>215,680.0</td>\n",
       "      <td>213,733.390625</td>\n",
       "      <td>2</td>\n",
       "      <td>2</td>\n",
       "      <td>2</td>\n",
       "      <td>53,920.0</td>\n",
       "      <td>0.9909745454788208</td>\n",
       "    </tr>\n",
       "    <tr>\n",
       "      <th>31</th>\n",
       "      <td>628,000,000,000.0</td>\n",
       "      <td>0</td>\n",
       "      <td>3,983.0</td>\n",
       "      <td>1.0</td>\n",
       "      <td>2,019.0</td>\n",
       "      <td>12.0</td>\n",
       "      <td>947,693.875</td>\n",
       "      <td>3,562,880.0</td>\n",
       "      <td>2,615,186.0</td>\n",
       "      <td>4</td>\n",
       "      <td>1</td>\n",
       "      <td>0</td>\n",
       "      <td>296,906.65625</td>\n",
       "      <td>0.7340090274810791</td>\n",
       "    </tr>\n",
       "    <tr>\n",
       "      <th>40</th>\n",
       "      <td>628,000,000,000.0</td>\n",
       "      <td>0</td>\n",
       "      <td>4,502.0</td>\n",
       "      <td>11.0</td>\n",
       "      <td>2,020.0</td>\n",
       "      <td>16.0</td>\n",
       "      <td>758,517.4375</td>\n",
       "      <td>3,433,600.0</td>\n",
       "      <td>2,675,082.5</td>\n",
       "      <td>2</td>\n",
       "      <td>2</td>\n",
       "      <td>2</td>\n",
       "      <td>214,600.0</td>\n",
       "      <td>0.7790897488594055</td>\n",
       "    </tr>\n",
       "    <tr>\n",
       "      <th>...</th>\n",
       "      <td>...</td>\n",
       "      <td>...</td>\n",
       "      <td>...</td>\n",
       "      <td>...</td>\n",
       "      <td>...</td>\n",
       "      <td>...</td>\n",
       "      <td>...</td>\n",
       "      <td>...</td>\n",
       "      <td>...</td>\n",
       "      <td>...</td>\n",
       "      <td>...</td>\n",
       "      <td>...</td>\n",
       "      <td>...</td>\n",
       "      <td>...</td>\n",
       "    </tr>\n",
       "    <tr>\n",
       "      <th>4932</th>\n",
       "      <td>6,280,000,000,000.0</td>\n",
       "      <td>0</td>\n",
       "      <td>8,985.0</td>\n",
       "      <td>6.0</td>\n",
       "      <td>2,020.0</td>\n",
       "      <td>20.0</td>\n",
       "      <td>419,550.34375</td>\n",
       "      <td>4,399,000.0</td>\n",
       "      <td>3,979,449.75</td>\n",
       "      <td>29</td>\n",
       "      <td>1</td>\n",
       "      <td>5</td>\n",
       "      <td>219,950.0</td>\n",
       "      <td>0.9046259522438049</td>\n",
       "    </tr>\n",
       "    <tr>\n",
       "      <th>4934</th>\n",
       "      <td>6,280,000,000,000.0</td>\n",
       "      <td>1</td>\n",
       "      <td>8,985.0</td>\n",
       "      <td>9.0</td>\n",
       "      <td>2,020.0</td>\n",
       "      <td>40.0</td>\n",
       "      <td>388,961.59375</td>\n",
       "      <td>2,399,600.0</td>\n",
       "      <td>2,010,638.375</td>\n",
       "      <td>14</td>\n",
       "      <td>14</td>\n",
       "      <td>0</td>\n",
       "      <td>59,990.0</td>\n",
       "      <td>0.8379056453704834</td>\n",
       "    </tr>\n",
       "    <tr>\n",
       "      <th>4951</th>\n",
       "      <td>6,280,000,000,000.0</td>\n",
       "      <td>0</td>\n",
       "      <td>8,985.0</td>\n",
       "      <td>8.0</td>\n",
       "      <td>2,018.0</td>\n",
       "      <td>9.0</td>\n",
       "      <td>212,912.8125</td>\n",
       "      <td>3,925,800.0</td>\n",
       "      <td>3,712,887.25</td>\n",
       "      <td>14</td>\n",
       "      <td>14</td>\n",
       "      <td>0</td>\n",
       "      <td>436,200.0</td>\n",
       "      <td>0.9457657337188721</td>\n",
       "    </tr>\n",
       "    <tr>\n",
       "      <th>4957</th>\n",
       "      <td>6,280,000,000,000.0</td>\n",
       "      <td>0</td>\n",
       "      <td>8,985.0</td>\n",
       "      <td>5.0</td>\n",
       "      <td>2,019.0</td>\n",
       "      <td>10.0</td>\n",
       "      <td>92,709.296875</td>\n",
       "      <td>1,290,000.0</td>\n",
       "      <td>1,197,290.75</td>\n",
       "      <td>14</td>\n",
       "      <td>14</td>\n",
       "      <td>0</td>\n",
       "      <td>129,000.0</td>\n",
       "      <td>0.9281323552131653</td>\n",
       "    </tr>\n",
       "    <tr>\n",
       "      <th>4994</th>\n",
       "      <td>6,280,000,000,000.0</td>\n",
       "      <td>1</td>\n",
       "      <td>8,985.0</td>\n",
       "      <td>1.0</td>\n",
       "      <td>2,020.0</td>\n",
       "      <td>18.0</td>\n",
       "      <td>39,046.98828125</td>\n",
       "      <td>17,165,600.0</td>\n",
       "      <td>17,126,554.0</td>\n",
       "      <td>14</td>\n",
       "      <td>14</td>\n",
       "      <td>0</td>\n",
       "      <td>953,644.4375</td>\n",
       "      <td>0.997725248336792</td>\n",
       "    </tr>\n",
       "  </tbody>\n",
       "</table>\n",
       "<p>288 rows × 14 columns</p>\n",
       "</div>"
      ],
      "text/plain": [
       "                  msisdn  flag_taker     los  Month    Year  Order_Qty  \\\n",
       "7      628,000,000,000.0           0 4,415.0   12.0 2,018.0       13.0   \n",
       "20     628,000,000,000.0           0 4,336.0    1.0 2,020.0        9.0   \n",
       "30      62,800,000,000.0           0 7,030.0    2.0 2,018.0        4.0   \n",
       "31     628,000,000,000.0           0 3,983.0    1.0 2,019.0       12.0   \n",
       "40     628,000,000,000.0           0 4,502.0   11.0 2,020.0       16.0   \n",
       "...                  ...         ...     ...    ...     ...        ...   \n",
       "4932 6,280,000,000,000.0           0 8,985.0    6.0 2,020.0       20.0   \n",
       "4934 6,280,000,000,000.0           1 8,985.0    9.0 2,020.0       40.0   \n",
       "4951 6,280,000,000,000.0           0 8,985.0    8.0 2,018.0        9.0   \n",
       "4957 6,280,000,000,000.0           0 8,985.0    5.0 2,019.0       10.0   \n",
       "4994 6,280,000,000,000.0           1 8,985.0    1.0 2,020.0       18.0   \n",
       "\n",
       "                     COS        Sales         Profit  Product_Name  \\\n",
       "7           3,525,557.25  3,890,500.0    364,942.875             7   \n",
       "20           2,927,194.0  3,321,000.0  393,805.90625             5   \n",
       "30   1,946.6099853515625    215,680.0 213,733.390625             2   \n",
       "31           947,693.875  3,562,880.0    2,615,186.0             4   \n",
       "40          758,517.4375  3,433,600.0    2,675,082.5             2   \n",
       "...                  ...          ...            ...           ...   \n",
       "4932       419,550.34375  4,399,000.0   3,979,449.75            29   \n",
       "4934       388,961.59375  2,399,600.0  2,010,638.375            14   \n",
       "4951        212,912.8125  3,925,800.0   3,712,887.25            14   \n",
       "4957       92,709.296875  1,290,000.0   1,197,290.75            14   \n",
       "4994     39,046.98828125 17,165,600.0   17,126,554.0            14   \n",
       "\n",
       "      Brand_Name  Product_Category           PPU       Profit_Margin  \n",
       "7              6                 6 299,269.21875 0.09380358457565308  \n",
       "20             4                 4     369,000.0 0.11858052015304565  \n",
       "30             2                 2      53,920.0  0.9909745454788208  \n",
       "31             1                 0 296,906.65625  0.7340090274810791  \n",
       "40             2                 2     214,600.0  0.7790897488594055  \n",
       "...          ...               ...           ...                 ...  \n",
       "4932           1                 5     219,950.0  0.9046259522438049  \n",
       "4934          14                 0      59,990.0  0.8379056453704834  \n",
       "4951          14                 0     436,200.0  0.9457657337188721  \n",
       "4957          14                 0     129,000.0  0.9281323552131653  \n",
       "4994          14                 0  953,644.4375   0.997725248336792  \n",
       "\n",
       "[288 rows x 14 columns]"
      ]
     },
     "execution_count": 32,
     "metadata": {},
     "output_type": "execute_result"
    }
   ],
   "source": [
    "sinarjaya[(sinarjaya.los<lower_limit)|(sinarjaya.los>upper_limit)]"
   ]
  },
  {
   "cell_type": "code",
   "execution_count": 33,
   "id": "f32c093e",
   "metadata": {},
   "outputs": [
    {
     "data": {
      "text/html": [
       "<div>\n",
       "<style scoped>\n",
       "    .dataframe tbody tr th:only-of-type {\n",
       "        vertical-align: middle;\n",
       "    }\n",
       "\n",
       "    .dataframe tbody tr th {\n",
       "        vertical-align: top;\n",
       "    }\n",
       "\n",
       "    .dataframe thead th {\n",
       "        text-align: right;\n",
       "    }\n",
       "</style>\n",
       "<table border=\"1\" class=\"dataframe\">\n",
       "  <thead>\n",
       "    <tr style=\"text-align: right;\">\n",
       "      <th></th>\n",
       "      <th>msisdn</th>\n",
       "      <th>flag_taker</th>\n",
       "      <th>los</th>\n",
       "      <th>Month</th>\n",
       "      <th>Year</th>\n",
       "      <th>Order_Qty</th>\n",
       "      <th>COS</th>\n",
       "      <th>Sales</th>\n",
       "      <th>Profit</th>\n",
       "      <th>Product_Name</th>\n",
       "      <th>Brand_Name</th>\n",
       "      <th>Product_Category</th>\n",
       "      <th>PPU</th>\n",
       "      <th>Profit_Margin</th>\n",
       "    </tr>\n",
       "  </thead>\n",
       "  <tbody>\n",
       "    <tr>\n",
       "      <th>0</th>\n",
       "      <td>628,000,000,000.0</td>\n",
       "      <td>0</td>\n",
       "      <td>965.0</td>\n",
       "      <td>3.0</td>\n",
       "      <td>2,019.0</td>\n",
       "      <td>9.0</td>\n",
       "      <td>958,552.4375</td>\n",
       "      <td>2,714,720.0</td>\n",
       "      <td>1,756,167.625</td>\n",
       "      <td>1</td>\n",
       "      <td>1</td>\n",
       "      <td>0</td>\n",
       "      <td>301,635.5625</td>\n",
       "      <td>0.6469056010246277</td>\n",
       "    </tr>\n",
       "    <tr>\n",
       "      <th>2</th>\n",
       "      <td>628,000,000,000.0</td>\n",
       "      <td>0</td>\n",
       "      <td>859.0</td>\n",
       "      <td>1.0</td>\n",
       "      <td>2,018.0</td>\n",
       "      <td>9.0</td>\n",
       "      <td>205,101.453125</td>\n",
       "      <td>1,395,112.75</td>\n",
       "      <td>1,190,011.375</td>\n",
       "      <td>3</td>\n",
       "      <td>3</td>\n",
       "      <td>3</td>\n",
       "      <td>155,012.53125</td>\n",
       "      <td>0.8529857397079468</td>\n",
       "    </tr>\n",
       "    <tr>\n",
       "      <th>4</th>\n",
       "      <td>628,000,000,000.0</td>\n",
       "      <td>0</td>\n",
       "      <td>1,259.0</td>\n",
       "      <td>4.0</td>\n",
       "      <td>2,020.0</td>\n",
       "      <td>24.0</td>\n",
       "      <td>203,316.109375</td>\n",
       "      <td>7,056,400.0</td>\n",
       "      <td>6,853,084.0</td>\n",
       "      <td>5</td>\n",
       "      <td>4</td>\n",
       "      <td>4</td>\n",
       "      <td>294,016.65625</td>\n",
       "      <td>0.9711869955062866</td>\n",
       "    </tr>\n",
       "    <tr>\n",
       "      <th>6</th>\n",
       "      <td>628,000,000,000.0</td>\n",
       "      <td>0</td>\n",
       "      <td>1,637.0</td>\n",
       "      <td>9.0</td>\n",
       "      <td>2,018.0</td>\n",
       "      <td>5.0</td>\n",
       "      <td>629,088.25</td>\n",
       "      <td>890,000.0</td>\n",
       "      <td>260,911.75</td>\n",
       "      <td>4</td>\n",
       "      <td>1</td>\n",
       "      <td>0</td>\n",
       "      <td>178,000.0</td>\n",
       "      <td>0.29315927624702454</td>\n",
       "    </tr>\n",
       "    <tr>\n",
       "      <th>8</th>\n",
       "      <td>628,000,000,000.0</td>\n",
       "      <td>0</td>\n",
       "      <td>2,421.0</td>\n",
       "      <td>7.0</td>\n",
       "      <td>2,019.0</td>\n",
       "      <td>30.0</td>\n",
       "      <td>2,717,738.75</td>\n",
       "      <td>8,970,000.0</td>\n",
       "      <td>6,252,261.0</td>\n",
       "      <td>7</td>\n",
       "      <td>6</td>\n",
       "      <td>6</td>\n",
       "      <td>299,000.0</td>\n",
       "      <td>0.697019100189209</td>\n",
       "    </tr>\n",
       "    <tr>\n",
       "      <th>...</th>\n",
       "      <td>...</td>\n",
       "      <td>...</td>\n",
       "      <td>...</td>\n",
       "      <td>...</td>\n",
       "      <td>...</td>\n",
       "      <td>...</td>\n",
       "      <td>...</td>\n",
       "      <td>...</td>\n",
       "      <td>...</td>\n",
       "      <td>...</td>\n",
       "      <td>...</td>\n",
       "      <td>...</td>\n",
       "      <td>...</td>\n",
       "      <td>...</td>\n",
       "    </tr>\n",
       "    <tr>\n",
       "      <th>5017</th>\n",
       "      <td>6,280,000,000,000.0</td>\n",
       "      <td>0</td>\n",
       "      <td>493.0</td>\n",
       "      <td>1.0</td>\n",
       "      <td>2,018.0</td>\n",
       "      <td>12.0</td>\n",
       "      <td>2,234,928.75</td>\n",
       "      <td>2,923,920.0</td>\n",
       "      <td>688,991.1875</td>\n",
       "      <td>29</td>\n",
       "      <td>1</td>\n",
       "      <td>5</td>\n",
       "      <td>243,660.0</td>\n",
       "      <td>0.2356395572423935</td>\n",
       "    </tr>\n",
       "    <tr>\n",
       "      <th>5018</th>\n",
       "      <td>6,280,000,000,000.0</td>\n",
       "      <td>0</td>\n",
       "      <td>565.0</td>\n",
       "      <td>3.0</td>\n",
       "      <td>2,020.0</td>\n",
       "      <td>18.0</td>\n",
       "      <td>1,593,446.5</td>\n",
       "      <td>5,724,600.0</td>\n",
       "      <td>4,131,153.5</td>\n",
       "      <td>5</td>\n",
       "      <td>17</td>\n",
       "      <td>4</td>\n",
       "      <td>318,033.34375</td>\n",
       "      <td>0.7216492891311646</td>\n",
       "    </tr>\n",
       "    <tr>\n",
       "      <th>5020</th>\n",
       "      <td>6,280,000,000,000.0</td>\n",
       "      <td>0</td>\n",
       "      <td>1,600.0</td>\n",
       "      <td>5.0</td>\n",
       "      <td>2,018.0</td>\n",
       "      <td>10.0</td>\n",
       "      <td>69.37000274658203</td>\n",
       "      <td>138,900.0</td>\n",
       "      <td>138,830.625</td>\n",
       "      <td>3</td>\n",
       "      <td>3</td>\n",
       "      <td>3</td>\n",
       "      <td>13,890.0</td>\n",
       "      <td>0.999500572681427</td>\n",
       "    </tr>\n",
       "    <tr>\n",
       "      <th>5021</th>\n",
       "      <td>6,280,000,000,000.0</td>\n",
       "      <td>0</td>\n",
       "      <td>529.0</td>\n",
       "      <td>4.0</td>\n",
       "      <td>2,018.0</td>\n",
       "      <td>12.0</td>\n",
       "      <td>391,891.375</td>\n",
       "      <td>300,000.0</td>\n",
       "      <td>-91,891.359375</td>\n",
       "      <td>14</td>\n",
       "      <td>14</td>\n",
       "      <td>0</td>\n",
       "      <td>25,000.0</td>\n",
       "      <td>-0.30630454421043396</td>\n",
       "    </tr>\n",
       "    <tr>\n",
       "      <th>5022</th>\n",
       "      <td>6,280,000,000,000.0</td>\n",
       "      <td>1</td>\n",
       "      <td>1,182.0</td>\n",
       "      <td>4.0</td>\n",
       "      <td>2,018.0</td>\n",
       "      <td>10.0</td>\n",
       "      <td>337,481.8125</td>\n",
       "      <td>9,990,000.0</td>\n",
       "      <td>9,652,518.0</td>\n",
       "      <td>29</td>\n",
       "      <td>1</td>\n",
       "      <td>5</td>\n",
       "      <td>999,000.0</td>\n",
       "      <td>0.9662180542945862</td>\n",
       "    </tr>\n",
       "  </tbody>\n",
       "</table>\n",
       "<p>3847 rows × 14 columns</p>\n",
       "</div>"
      ],
      "text/plain": [
       "                  msisdn  flag_taker     los  Month    Year  Order_Qty  \\\n",
       "0      628,000,000,000.0           0   965.0    3.0 2,019.0        9.0   \n",
       "2      628,000,000,000.0           0   859.0    1.0 2,018.0        9.0   \n",
       "4      628,000,000,000.0           0 1,259.0    4.0 2,020.0       24.0   \n",
       "6      628,000,000,000.0           0 1,637.0    9.0 2,018.0        5.0   \n",
       "8      628,000,000,000.0           0 2,421.0    7.0 2,019.0       30.0   \n",
       "...                  ...         ...     ...    ...     ...        ...   \n",
       "5017 6,280,000,000,000.0           0   493.0    1.0 2,018.0       12.0   \n",
       "5018 6,280,000,000,000.0           0   565.0    3.0 2,020.0       18.0   \n",
       "5020 6,280,000,000,000.0           0 1,600.0    5.0 2,018.0       10.0   \n",
       "5021 6,280,000,000,000.0           0   529.0    4.0 2,018.0       12.0   \n",
       "5022 6,280,000,000,000.0           1 1,182.0    4.0 2,018.0       10.0   \n",
       "\n",
       "                   COS        Sales         Profit  Product_Name  Brand_Name  \\\n",
       "0         958,552.4375  2,714,720.0  1,756,167.625             1           1   \n",
       "2       205,101.453125 1,395,112.75  1,190,011.375             3           3   \n",
       "4       203,316.109375  7,056,400.0    6,853,084.0             5           4   \n",
       "6           629,088.25    890,000.0     260,911.75             4           1   \n",
       "8         2,717,738.75  8,970,000.0    6,252,261.0             7           6   \n",
       "...                ...          ...            ...           ...         ...   \n",
       "5017      2,234,928.75  2,923,920.0   688,991.1875            29           1   \n",
       "5018       1,593,446.5  5,724,600.0    4,131,153.5             5          17   \n",
       "5020 69.37000274658203    138,900.0    138,830.625             3           3   \n",
       "5021       391,891.375    300,000.0 -91,891.359375            14          14   \n",
       "5022      337,481.8125  9,990,000.0    9,652,518.0            29           1   \n",
       "\n",
       "      Product_Category           PPU        Profit_Margin  \n",
       "0                    0  301,635.5625   0.6469056010246277  \n",
       "2                    3 155,012.53125   0.8529857397079468  \n",
       "4                    4 294,016.65625   0.9711869955062866  \n",
       "6                    0     178,000.0  0.29315927624702454  \n",
       "8                    6     299,000.0    0.697019100189209  \n",
       "...                ...           ...                  ...  \n",
       "5017                 5     243,660.0   0.2356395572423935  \n",
       "5018                 4 318,033.34375   0.7216492891311646  \n",
       "5020                 3      13,890.0    0.999500572681427  \n",
       "5021                 0      25,000.0 -0.30630454421043396  \n",
       "5022                 5     999,000.0   0.9662180542945862  \n",
       "\n",
       "[3847 rows x 14 columns]"
      ]
     },
     "execution_count": 33,
     "metadata": {},
     "output_type": "execute_result"
    }
   ],
   "source": [
    "sinarjaya = sinarjaya[(sinarjaya.los>lower_limit)&(sinarjaya.los<upper_limit)]\n",
    "sinarjaya"
   ]
  },
  {
   "cell_type": "code",
   "execution_count": 34,
   "id": "321e48ca",
   "metadata": {},
   "outputs": [
    {
     "data": {
      "text/html": [
       "<div>\n",
       "<style scoped>\n",
       "    .dataframe tbody tr th:only-of-type {\n",
       "        vertical-align: middle;\n",
       "    }\n",
       "\n",
       "    .dataframe tbody tr th {\n",
       "        vertical-align: top;\n",
       "    }\n",
       "\n",
       "    .dataframe thead th {\n",
       "        text-align: right;\n",
       "    }\n",
       "</style>\n",
       "<table border=\"1\" class=\"dataframe\">\n",
       "  <thead>\n",
       "    <tr style=\"text-align: right;\">\n",
       "      <th></th>\n",
       "      <th>msisdn</th>\n",
       "      <th>flag_taker</th>\n",
       "      <th>los</th>\n",
       "      <th>Month</th>\n",
       "      <th>Year</th>\n",
       "      <th>Order_Qty</th>\n",
       "      <th>COS</th>\n",
       "      <th>Sales</th>\n",
       "      <th>Profit</th>\n",
       "      <th>Product_Name</th>\n",
       "      <th>Brand_Name</th>\n",
       "      <th>Product_Category</th>\n",
       "      <th>PPU</th>\n",
       "      <th>Profit_Margin</th>\n",
       "    </tr>\n",
       "  </thead>\n",
       "  <tbody>\n",
       "    <tr>\n",
       "      <th>count</th>\n",
       "      <td>3,847.0</td>\n",
       "      <td>3,847.0</td>\n",
       "      <td>3,847.0</td>\n",
       "      <td>3,847.0</td>\n",
       "      <td>3,847.0</td>\n",
       "      <td>3,847.0</td>\n",
       "      <td>3,847.0</td>\n",
       "      <td>3,847.0</td>\n",
       "      <td>3,847.0</td>\n",
       "      <td>3,847.0</td>\n",
       "      <td>3,847.0</td>\n",
       "      <td>3,847.0</td>\n",
       "      <td>3,847.0</td>\n",
       "      <td>3,847.0</td>\n",
       "    </tr>\n",
       "    <tr>\n",
       "      <th>mean</th>\n",
       "      <td>6,126,468,936,833.896</td>\n",
       "      <td>0.3608006238627502</td>\n",
       "      <td>1,038.9698486328125</td>\n",
       "      <td>6.577073097229004</td>\n",
       "      <td>2,018.828125</td>\n",
       "      <td>17.92747688293457</td>\n",
       "      <td>1,418,103.125</td>\n",
       "      <td>3,803,794.0</td>\n",
       "      <td>2,385,690.5</td>\n",
       "      <td>15.574473615804523</td>\n",
       "      <td>11.357161424486613</td>\n",
       "      <td>3.6571354302053547</td>\n",
       "      <td>291,900.53125</td>\n",
       "      <td>0.597886860370636</td>\n",
       "    </tr>\n",
       "    <tr>\n",
       "      <th>std</th>\n",
       "      <td>921,397,640,189.2515</td>\n",
       "      <td>0.48029521983915135</td>\n",
       "      <td>773.4808959960938</td>\n",
       "      <td>3.4566214084625244</td>\n",
       "      <td>0.8586269021034241</td>\n",
       "      <td>45.57744216918945</td>\n",
       "      <td>3,422,335.5</td>\n",
       "      <td>5,131,215.5</td>\n",
       "      <td>4,542,019.5</td>\n",
       "      <td>8.537129656018426</td>\n",
       "      <td>7.735843934825196</td>\n",
       "      <td>2.2097948665359666</td>\n",
       "      <td>342,632.0625</td>\n",
       "      <td>0.5152363777160645</td>\n",
       "    </tr>\n",
       "    <tr>\n",
       "      <th>min</th>\n",
       "      <td>62,800,000,000.0</td>\n",
       "      <td>0.0</td>\n",
       "      <td>0.0</td>\n",
       "      <td>1.0</td>\n",
       "      <td>2,017.0</td>\n",
       "      <td>4.0</td>\n",
       "      <td>4.869999885559082</td>\n",
       "      <td>8,265.0</td>\n",
       "      <td>-51,633,408.0</td>\n",
       "      <td>1.0</td>\n",
       "      <td>1.0</td>\n",
       "      <td>0.0</td>\n",
       "      <td>906.1538696289062</td>\n",
       "      <td>-3.400435209274292</td>\n",
       "    </tr>\n",
       "    <tr>\n",
       "      <th>25%</th>\n",
       "      <td>6,280,000,000,000.0</td>\n",
       "      <td>0.0</td>\n",
       "      <td>397.0</td>\n",
       "      <td>4.0</td>\n",
       "      <td>2,018.0</td>\n",
       "      <td>9.0</td>\n",
       "      <td>66,577.9609375</td>\n",
       "      <td>646,361.0</td>\n",
       "      <td>204,323.7578125</td>\n",
       "      <td>7.0</td>\n",
       "      <td>5.0</td>\n",
       "      <td>2.0</td>\n",
       "      <td>53,560.763671875</td>\n",
       "      <td>0.45568133890628815</td>\n",
       "    </tr>\n",
       "    <tr>\n",
       "      <th>50%</th>\n",
       "      <td>6,280,000,000,000.0</td>\n",
       "      <td>0.0</td>\n",
       "      <td>822.0</td>\n",
       "      <td>7.0</td>\n",
       "      <td>2,019.0</td>\n",
       "      <td>10.0</td>\n",
       "      <td>356,166.375</td>\n",
       "      <td>2,322,000.0</td>\n",
       "      <td>1,245,601.5</td>\n",
       "      <td>14.0</td>\n",
       "      <td>9.0</td>\n",
       "      <td>5.0</td>\n",
       "      <td>200,000.0</td>\n",
       "      <td>0.7867285013198853</td>\n",
       "    </tr>\n",
       "    <tr>\n",
       "      <th>75%</th>\n",
       "      <td>6,280,000,000,000.0</td>\n",
       "      <td>1.0</td>\n",
       "      <td>1,588.0</td>\n",
       "      <td>10.0</td>\n",
       "      <td>2,020.0</td>\n",
       "      <td>13.0</td>\n",
       "      <td>1,413,321.6875</td>\n",
       "      <td>4,862,632.5</td>\n",
       "      <td>3,316,946.0</td>\n",
       "      <td>24.0</td>\n",
       "      <td>19.0</td>\n",
       "      <td>5.0</td>\n",
       "      <td>356,850.0</td>\n",
       "      <td>0.9403533041477203</td>\n",
       "    </tr>\n",
       "    <tr>\n",
       "      <th>max</th>\n",
       "      <td>6,280,000,000,000.0</td>\n",
       "      <td>1.0</td>\n",
       "      <td>3,482.0</td>\n",
       "      <td>12.0</td>\n",
       "      <td>2,020.0</td>\n",
       "      <td>1,040.0</td>\n",
       "      <td>80,260,640.0</td>\n",
       "      <td>58,976,400.0</td>\n",
       "      <td>47,026,000.0</td>\n",
       "      <td>30.0</td>\n",
       "      <td>26.0</td>\n",
       "      <td>7.0</td>\n",
       "      <td>2,899,990.0</td>\n",
       "      <td>0.9999954700469971</td>\n",
       "    </tr>\n",
       "  </tbody>\n",
       "</table>\n",
       "</div>"
      ],
      "text/plain": [
       "                     msisdn          flag_taker                 los  \\\n",
       "count               3,847.0             3,847.0             3,847.0   \n",
       "mean  6,126,468,936,833.896  0.3608006238627502 1,038.9698486328125   \n",
       "std    921,397,640,189.2515 0.48029521983915135   773.4808959960938   \n",
       "min        62,800,000,000.0                 0.0                 0.0   \n",
       "25%     6,280,000,000,000.0                 0.0               397.0   \n",
       "50%     6,280,000,000,000.0                 0.0               822.0   \n",
       "75%     6,280,000,000,000.0                 1.0             1,588.0   \n",
       "max     6,280,000,000,000.0                 1.0             3,482.0   \n",
       "\n",
       "                   Month               Year         Order_Qty  \\\n",
       "count            3,847.0            3,847.0           3,847.0   \n",
       "mean   6.577073097229004       2,018.828125 17.92747688293457   \n",
       "std   3.4566214084625244 0.8586269021034241 45.57744216918945   \n",
       "min                  1.0            2,017.0               4.0   \n",
       "25%                  4.0            2,018.0               9.0   \n",
       "50%                  7.0            2,019.0              10.0   \n",
       "75%                 10.0            2,020.0              13.0   \n",
       "max                 12.0            2,020.0           1,040.0   \n",
       "\n",
       "                    COS        Sales          Profit       Product_Name  \\\n",
       "count           3,847.0      3,847.0         3,847.0            3,847.0   \n",
       "mean      1,418,103.125  3,803,794.0     2,385,690.5 15.574473615804523   \n",
       "std         3,422,335.5  5,131,215.5     4,542,019.5  8.537129656018426   \n",
       "min   4.869999885559082      8,265.0   -51,633,408.0                1.0   \n",
       "25%      66,577.9609375    646,361.0 204,323.7578125                7.0   \n",
       "50%         356,166.375  2,322,000.0     1,245,601.5               14.0   \n",
       "75%      1,413,321.6875  4,862,632.5     3,316,946.0               24.0   \n",
       "max        80,260,640.0 58,976,400.0    47,026,000.0               30.0   \n",
       "\n",
       "              Brand_Name   Product_Category               PPU  \\\n",
       "count            3,847.0            3,847.0           3,847.0   \n",
       "mean  11.357161424486613 3.6571354302053547     291,900.53125   \n",
       "std    7.735843934825196 2.2097948665359666      342,632.0625   \n",
       "min                  1.0                0.0 906.1538696289062   \n",
       "25%                  5.0                2.0  53,560.763671875   \n",
       "50%                  9.0                5.0         200,000.0   \n",
       "75%                 19.0                5.0         356,850.0   \n",
       "max                 26.0                7.0       2,899,990.0   \n",
       "\n",
       "            Profit_Margin  \n",
       "count             3,847.0  \n",
       "mean    0.597886860370636  \n",
       "std    0.5152363777160645  \n",
       "min    -3.400435209274292  \n",
       "25%   0.45568133890628815  \n",
       "50%    0.7867285013198853  \n",
       "75%    0.9403533041477203  \n",
       "max    0.9999954700469971  "
      ]
     },
     "execution_count": 34,
     "metadata": {},
     "output_type": "execute_result"
    }
   ],
   "source": [
    "sinarjaya.describe()"
   ]
  },
  {
   "cell_type": "markdown",
   "id": "f3de0ede",
   "metadata": {},
   "source": [
    "---------------------------"
   ]
  },
  {
   "cell_type": "markdown",
   "id": "cd71e582",
   "metadata": {},
   "source": [
    "## Feature Engineering"
   ]
  },
  {
   "cell_type": "markdown",
   "id": "dc74de05",
   "metadata": {},
   "source": [
    "## Freature Selection"
   ]
  },
  {
   "cell_type": "markdown",
   "id": "277a311d",
   "metadata": {},
   "source": [
    "# Recursive Feature Elimination"
   ]
  },
  {
   "cell_type": "code",
   "execution_count": 35,
   "id": "35e44b3a",
   "metadata": {},
   "outputs": [
    {
     "data": {
      "text/html": [
       "<div>\n",
       "<style scoped>\n",
       "    .dataframe tbody tr th:only-of-type {\n",
       "        vertical-align: middle;\n",
       "    }\n",
       "\n",
       "    .dataframe tbody tr th {\n",
       "        vertical-align: top;\n",
       "    }\n",
       "\n",
       "    .dataframe thead th {\n",
       "        text-align: right;\n",
       "    }\n",
       "</style>\n",
       "<table border=\"1\" class=\"dataframe\">\n",
       "  <thead>\n",
       "    <tr style=\"text-align: right;\">\n",
       "      <th></th>\n",
       "      <th>msisdn</th>\n",
       "      <th>flag_taker</th>\n",
       "      <th>los</th>\n",
       "      <th>Month</th>\n",
       "      <th>Year</th>\n",
       "      <th>Order_Qty</th>\n",
       "      <th>COS</th>\n",
       "      <th>Sales</th>\n",
       "      <th>Profit</th>\n",
       "      <th>Product_Name</th>\n",
       "      <th>Brand_Name</th>\n",
       "      <th>Product_Category</th>\n",
       "      <th>PPU</th>\n",
       "      <th>Profit_Margin</th>\n",
       "    </tr>\n",
       "  </thead>\n",
       "  <tbody>\n",
       "    <tr>\n",
       "      <th>0</th>\n",
       "      <td>628,000,000,000.0</td>\n",
       "      <td>0</td>\n",
       "      <td>965.0</td>\n",
       "      <td>3.0</td>\n",
       "      <td>2,019.0</td>\n",
       "      <td>9.0</td>\n",
       "      <td>958,552.4375</td>\n",
       "      <td>2,714,720.0</td>\n",
       "      <td>1,756,167.625</td>\n",
       "      <td>1</td>\n",
       "      <td>1</td>\n",
       "      <td>0</td>\n",
       "      <td>301,635.5625</td>\n",
       "      <td>0.6469056010246277</td>\n",
       "    </tr>\n",
       "    <tr>\n",
       "      <th>2</th>\n",
       "      <td>628,000,000,000.0</td>\n",
       "      <td>0</td>\n",
       "      <td>859.0</td>\n",
       "      <td>1.0</td>\n",
       "      <td>2,018.0</td>\n",
       "      <td>9.0</td>\n",
       "      <td>205,101.453125</td>\n",
       "      <td>1,395,112.75</td>\n",
       "      <td>1,190,011.375</td>\n",
       "      <td>3</td>\n",
       "      <td>3</td>\n",
       "      <td>3</td>\n",
       "      <td>155,012.53125</td>\n",
       "      <td>0.8529857397079468</td>\n",
       "    </tr>\n",
       "    <tr>\n",
       "      <th>4</th>\n",
       "      <td>628,000,000,000.0</td>\n",
       "      <td>0</td>\n",
       "      <td>1,259.0</td>\n",
       "      <td>4.0</td>\n",
       "      <td>2,020.0</td>\n",
       "      <td>24.0</td>\n",
       "      <td>203,316.109375</td>\n",
       "      <td>7,056,400.0</td>\n",
       "      <td>6,853,084.0</td>\n",
       "      <td>5</td>\n",
       "      <td>4</td>\n",
       "      <td>4</td>\n",
       "      <td>294,016.65625</td>\n",
       "      <td>0.9711869955062866</td>\n",
       "    </tr>\n",
       "    <tr>\n",
       "      <th>6</th>\n",
       "      <td>628,000,000,000.0</td>\n",
       "      <td>0</td>\n",
       "      <td>1,637.0</td>\n",
       "      <td>9.0</td>\n",
       "      <td>2,018.0</td>\n",
       "      <td>5.0</td>\n",
       "      <td>629,088.25</td>\n",
       "      <td>890,000.0</td>\n",
       "      <td>260,911.75</td>\n",
       "      <td>4</td>\n",
       "      <td>1</td>\n",
       "      <td>0</td>\n",
       "      <td>178,000.0</td>\n",
       "      <td>0.29315927624702454</td>\n",
       "    </tr>\n",
       "    <tr>\n",
       "      <th>8</th>\n",
       "      <td>628,000,000,000.0</td>\n",
       "      <td>0</td>\n",
       "      <td>2,421.0</td>\n",
       "      <td>7.0</td>\n",
       "      <td>2,019.0</td>\n",
       "      <td>30.0</td>\n",
       "      <td>2,717,738.75</td>\n",
       "      <td>8,970,000.0</td>\n",
       "      <td>6,252,261.0</td>\n",
       "      <td>7</td>\n",
       "      <td>6</td>\n",
       "      <td>6</td>\n",
       "      <td>299,000.0</td>\n",
       "      <td>0.697019100189209</td>\n",
       "    </tr>\n",
       "  </tbody>\n",
       "</table>\n",
       "</div>"
      ],
      "text/plain": [
       "             msisdn  flag_taker     los  Month    Year  Order_Qty  \\\n",
       "0 628,000,000,000.0           0   965.0    3.0 2,019.0        9.0   \n",
       "2 628,000,000,000.0           0   859.0    1.0 2,018.0        9.0   \n",
       "4 628,000,000,000.0           0 1,259.0    4.0 2,020.0       24.0   \n",
       "6 628,000,000,000.0           0 1,637.0    9.0 2,018.0        5.0   \n",
       "8 628,000,000,000.0           0 2,421.0    7.0 2,019.0       30.0   \n",
       "\n",
       "             COS        Sales        Profit  Product_Name  Brand_Name  \\\n",
       "0   958,552.4375  2,714,720.0 1,756,167.625             1           1   \n",
       "2 205,101.453125 1,395,112.75 1,190,011.375             3           3   \n",
       "4 203,316.109375  7,056,400.0   6,853,084.0             5           4   \n",
       "6     629,088.25    890,000.0    260,911.75             4           1   \n",
       "8   2,717,738.75  8,970,000.0   6,252,261.0             7           6   \n",
       "\n",
       "   Product_Category           PPU       Profit_Margin  \n",
       "0                 0  301,635.5625  0.6469056010246277  \n",
       "2                 3 155,012.53125  0.8529857397079468  \n",
       "4                 4 294,016.65625  0.9711869955062866  \n",
       "6                 0     178,000.0 0.29315927624702454  \n",
       "8                 6     299,000.0   0.697019100189209  "
      ]
     },
     "execution_count": 35,
     "metadata": {},
     "output_type": "execute_result"
    }
   ],
   "source": [
    "sinarjaya.head()"
   ]
  },
  {
   "cell_type": "code",
   "execution_count": 36,
   "id": "713cb1ad",
   "metadata": {},
   "outputs": [],
   "source": [
    "sinarjaya = sinarjaya.astype('int')"
   ]
  },
  {
   "cell_type": "code",
   "execution_count": 37,
   "id": "67beb127",
   "metadata": {
    "scrolled": true
   },
   "outputs": [
    {
     "name": "stdout",
     "output_type": "stream",
     "text": [
      "Num Features: 8\n",
      "Selected Features: [ True False  True False False  True  True  True  True  True False False\n",
      "  True False]\n",
      "Feature Ranking: [1 6 1 3 5 1 1 1 1 1 2 4 1 7]\n"
     ]
    }
   ],
   "source": [
    "# Feature Extraction with RFE\n",
    "from pandas import read_csv\n",
    "from sklearn.feature_selection import RFE\n",
    "from sklearn.linear_model import LogisticRegression\n",
    "# load data\n",
    "dataframe = sinarjaya\n",
    "array = dataframe.values\n",
    "X = array[:,0:14]\n",
    "Y = array[:,8]\n",
    "# feature extraction\n",
    "rfe = RFE(estimator=LogisticRegression(solver='lbfgs'), n_features_to_select=8)\n",
    "fit = rfe.fit(X, Y)\n",
    "print(\"Num Features: %d\" % fit.n_features_)\n",
    "print(\"Selected Features: %s\" % fit.support_)\n",
    "print(\"Feature Ranking: %s\" % fit.ranking_)"
   ]
  },
  {
   "cell_type": "code",
   "execution_count": 38,
   "id": "17853c0f",
   "metadata": {},
   "outputs": [
    {
     "data": {
      "text/html": [
       "<div>\n",
       "<style scoped>\n",
       "    .dataframe tbody tr th:only-of-type {\n",
       "        vertical-align: middle;\n",
       "    }\n",
       "\n",
       "    .dataframe tbody tr th {\n",
       "        vertical-align: top;\n",
       "    }\n",
       "\n",
       "    .dataframe thead th {\n",
       "        text-align: right;\n",
       "    }\n",
       "</style>\n",
       "<table border=\"1\" class=\"dataframe\">\n",
       "  <thead>\n",
       "    <tr style=\"text-align: right;\">\n",
       "      <th></th>\n",
       "      <th>msisdn</th>\n",
       "      <th>los</th>\n",
       "      <th>Order_Qty</th>\n",
       "      <th>COS</th>\n",
       "      <th>Sales</th>\n",
       "      <th>Profit</th>\n",
       "      <th>Product_Name</th>\n",
       "      <th>PPU</th>\n",
       "    </tr>\n",
       "  </thead>\n",
       "  <tbody>\n",
       "    <tr>\n",
       "      <th>0</th>\n",
       "      <td>-2147483648</td>\n",
       "      <td>965</td>\n",
       "      <td>9</td>\n",
       "      <td>958552</td>\n",
       "      <td>2714720</td>\n",
       "      <td>1756167</td>\n",
       "      <td>1</td>\n",
       "      <td>301635</td>\n",
       "    </tr>\n",
       "    <tr>\n",
       "      <th>2</th>\n",
       "      <td>-2147483648</td>\n",
       "      <td>859</td>\n",
       "      <td>9</td>\n",
       "      <td>205101</td>\n",
       "      <td>1395112</td>\n",
       "      <td>1190011</td>\n",
       "      <td>3</td>\n",
       "      <td>155012</td>\n",
       "    </tr>\n",
       "    <tr>\n",
       "      <th>4</th>\n",
       "      <td>-2147483648</td>\n",
       "      <td>1259</td>\n",
       "      <td>24</td>\n",
       "      <td>203316</td>\n",
       "      <td>7056400</td>\n",
       "      <td>6853084</td>\n",
       "      <td>5</td>\n",
       "      <td>294016</td>\n",
       "    </tr>\n",
       "    <tr>\n",
       "      <th>6</th>\n",
       "      <td>-2147483648</td>\n",
       "      <td>1637</td>\n",
       "      <td>5</td>\n",
       "      <td>629088</td>\n",
       "      <td>890000</td>\n",
       "      <td>260911</td>\n",
       "      <td>4</td>\n",
       "      <td>178000</td>\n",
       "    </tr>\n",
       "    <tr>\n",
       "      <th>8</th>\n",
       "      <td>-2147483648</td>\n",
       "      <td>2421</td>\n",
       "      <td>30</td>\n",
       "      <td>2717738</td>\n",
       "      <td>8970000</td>\n",
       "      <td>6252261</td>\n",
       "      <td>7</td>\n",
       "      <td>299000</td>\n",
       "    </tr>\n",
       "    <tr>\n",
       "      <th>...</th>\n",
       "      <td>...</td>\n",
       "      <td>...</td>\n",
       "      <td>...</td>\n",
       "      <td>...</td>\n",
       "      <td>...</td>\n",
       "      <td>...</td>\n",
       "      <td>...</td>\n",
       "      <td>...</td>\n",
       "    </tr>\n",
       "    <tr>\n",
       "      <th>5017</th>\n",
       "      <td>-2147483648</td>\n",
       "      <td>493</td>\n",
       "      <td>12</td>\n",
       "      <td>2234928</td>\n",
       "      <td>2923920</td>\n",
       "      <td>688991</td>\n",
       "      <td>29</td>\n",
       "      <td>243660</td>\n",
       "    </tr>\n",
       "    <tr>\n",
       "      <th>5018</th>\n",
       "      <td>-2147483648</td>\n",
       "      <td>565</td>\n",
       "      <td>18</td>\n",
       "      <td>1593446</td>\n",
       "      <td>5724600</td>\n",
       "      <td>4131153</td>\n",
       "      <td>5</td>\n",
       "      <td>318033</td>\n",
       "    </tr>\n",
       "    <tr>\n",
       "      <th>5020</th>\n",
       "      <td>-2147483648</td>\n",
       "      <td>1600</td>\n",
       "      <td>10</td>\n",
       "      <td>69</td>\n",
       "      <td>138900</td>\n",
       "      <td>138830</td>\n",
       "      <td>3</td>\n",
       "      <td>13890</td>\n",
       "    </tr>\n",
       "    <tr>\n",
       "      <th>5021</th>\n",
       "      <td>-2147483648</td>\n",
       "      <td>529</td>\n",
       "      <td>12</td>\n",
       "      <td>391891</td>\n",
       "      <td>300000</td>\n",
       "      <td>-91891</td>\n",
       "      <td>14</td>\n",
       "      <td>25000</td>\n",
       "    </tr>\n",
       "    <tr>\n",
       "      <th>5022</th>\n",
       "      <td>-2147483648</td>\n",
       "      <td>1182</td>\n",
       "      <td>10</td>\n",
       "      <td>337481</td>\n",
       "      <td>9990000</td>\n",
       "      <td>9652518</td>\n",
       "      <td>29</td>\n",
       "      <td>999000</td>\n",
       "    </tr>\n",
       "  </tbody>\n",
       "</table>\n",
       "<p>3847 rows × 8 columns</p>\n",
       "</div>"
      ],
      "text/plain": [
       "          msisdn   los  Order_Qty      COS    Sales   Profit  Product_Name  \\\n",
       "0    -2147483648   965          9   958552  2714720  1756167             1   \n",
       "2    -2147483648   859          9   205101  1395112  1190011             3   \n",
       "4    -2147483648  1259         24   203316  7056400  6853084             5   \n",
       "6    -2147483648  1637          5   629088   890000   260911             4   \n",
       "8    -2147483648  2421         30  2717738  8970000  6252261             7   \n",
       "...          ...   ...        ...      ...      ...      ...           ...   \n",
       "5017 -2147483648   493         12  2234928  2923920   688991            29   \n",
       "5018 -2147483648   565         18  1593446  5724600  4131153             5   \n",
       "5020 -2147483648  1600         10       69   138900   138830             3   \n",
       "5021 -2147483648   529         12   391891   300000   -91891            14   \n",
       "5022 -2147483648  1182         10   337481  9990000  9652518            29   \n",
       "\n",
       "         PPU  \n",
       "0     301635  \n",
       "2     155012  \n",
       "4     294016  \n",
       "6     178000  \n",
       "8     299000  \n",
       "...      ...  \n",
       "5017  243660  \n",
       "5018  318033  \n",
       "5020   13890  \n",
       "5021   25000  \n",
       "5022  999000  \n",
       "\n",
       "[3847 rows x 8 columns]"
      ]
     },
     "execution_count": 38,
     "metadata": {},
     "output_type": "execute_result"
    }
   ],
   "source": [
    "df_selected_features = sinarjaya.iloc[:,fit.support_]\n",
    "df_selected_features"
   ]
  },
  {
   "cell_type": "code",
   "execution_count": 39,
   "id": "27d704c3",
   "metadata": {},
   "outputs": [
    {
     "data": {
      "text/html": [
       "<div>\n",
       "<style scoped>\n",
       "    .dataframe tbody tr th:only-of-type {\n",
       "        vertical-align: middle;\n",
       "    }\n",
       "\n",
       "    .dataframe tbody tr th {\n",
       "        vertical-align: top;\n",
       "    }\n",
       "\n",
       "    .dataframe thead th {\n",
       "        text-align: right;\n",
       "    }\n",
       "</style>\n",
       "<table border=\"1\" class=\"dataframe\">\n",
       "  <thead>\n",
       "    <tr style=\"text-align: right;\">\n",
       "      <th></th>\n",
       "      <th>msisdn</th>\n",
       "      <th>los</th>\n",
       "      <th>Order_Qty</th>\n",
       "      <th>COS</th>\n",
       "      <th>Sales</th>\n",
       "      <th>Profit</th>\n",
       "      <th>Product_Name</th>\n",
       "      <th>PPU</th>\n",
       "    </tr>\n",
       "  </thead>\n",
       "  <tbody>\n",
       "    <tr>\n",
       "      <th>1929</th>\n",
       "      <td>-2147483648</td>\n",
       "      <td>3453</td>\n",
       "      <td>26</td>\n",
       "      <td>10578500</td>\n",
       "      <td>57604500</td>\n",
       "      <td>47026000</td>\n",
       "      <td>21</td>\n",
       "      <td>2215557</td>\n",
       "    </tr>\n",
       "    <tr>\n",
       "      <th>3038</th>\n",
       "      <td>-2147483648</td>\n",
       "      <td>158</td>\n",
       "      <td>20</td>\n",
       "      <td>204207</td>\n",
       "      <td>45900000</td>\n",
       "      <td>45695792</td>\n",
       "      <td>10</td>\n",
       "      <td>2295000</td>\n",
       "    </tr>\n",
       "    <tr>\n",
       "      <th>663</th>\n",
       "      <td>-2147483648</td>\n",
       "      <td>2953</td>\n",
       "      <td>48</td>\n",
       "      <td>2842565</td>\n",
       "      <td>47252700</td>\n",
       "      <td>44410136</td>\n",
       "      <td>11</td>\n",
       "      <td>984431</td>\n",
       "    </tr>\n",
       "    <tr>\n",
       "      <th>1694</th>\n",
       "      <td>-2147483648</td>\n",
       "      <td>617</td>\n",
       "      <td>20</td>\n",
       "      <td>1577192</td>\n",
       "      <td>45900000</td>\n",
       "      <td>44322808</td>\n",
       "      <td>17</td>\n",
       "      <td>2295000</td>\n",
       "    </tr>\n",
       "    <tr>\n",
       "      <th>924</th>\n",
       "      <td>-2147483648</td>\n",
       "      <td>1362</td>\n",
       "      <td>24</td>\n",
       "      <td>10564504</td>\n",
       "      <td>54276752</td>\n",
       "      <td>43712244</td>\n",
       "      <td>10</td>\n",
       "      <td>2261531</td>\n",
       "    </tr>\n",
       "  </tbody>\n",
       "</table>\n",
       "</div>"
      ],
      "text/plain": [
       "          msisdn   los  Order_Qty       COS     Sales    Profit  Product_Name  \\\n",
       "1929 -2147483648  3453         26  10578500  57604500  47026000            21   \n",
       "3038 -2147483648   158         20    204207  45900000  45695792            10   \n",
       "663  -2147483648  2953         48   2842565  47252700  44410136            11   \n",
       "1694 -2147483648   617         20   1577192  45900000  44322808            17   \n",
       "924  -2147483648  1362         24  10564504  54276752  43712244            10   \n",
       "\n",
       "          PPU  \n",
       "1929  2215557  \n",
       "3038  2295000  \n",
       "663    984431  \n",
       "1694  2295000  \n",
       "924   2261531  "
      ]
     },
     "execution_count": 39,
     "metadata": {},
     "output_type": "execute_result"
    }
   ],
   "source": [
    "df_selected_features.nlargest(n=5, columns=['Profit'])"
   ]
  },
  {
   "cell_type": "code",
   "execution_count": 40,
   "id": "8e0eceff",
   "metadata": {},
   "outputs": [
    {
     "data": {
      "text/plain": [
       "msisdn         -2147483648\n",
       "los                   3482\n",
       "Order_Qty             1040\n",
       "COS               80260640\n",
       "Sales             58976400\n",
       "Profit            47026000\n",
       "Product_Name            30\n",
       "PPU                2899990\n",
       "dtype: int32"
      ]
     },
     "execution_count": 40,
     "metadata": {},
     "output_type": "execute_result"
    }
   ],
   "source": [
    "df_selected_features.max()"
   ]
  },
  {
   "cell_type": "code",
   "execution_count": 41,
   "id": "263bdfc3",
   "metadata": {},
   "outputs": [
    {
     "data": {
      "text/plain": [
       "msisdn         -2147483648\n",
       "los                      0\n",
       "Order_Qty                4\n",
       "COS                      4\n",
       "Sales                 8265\n",
       "Profit           -51633408\n",
       "Product_Name             1\n",
       "PPU                    906\n",
       "dtype: int32"
      ]
     },
     "execution_count": 41,
     "metadata": {},
     "output_type": "execute_result"
    }
   ],
   "source": [
    "df_selected_features.min()"
   ]
  },
  {
   "cell_type": "code",
   "execution_count": 42,
   "id": "d4fff36a",
   "metadata": {},
   "outputs": [
    {
     "name": "stdout",
     "output_type": "stream",
     "text": [
      "Accuracy: 0.922 (0.029)\n"
     ]
    }
   ],
   "source": [
    "from numpy import mean\n",
    "from numpy import std\n",
    "from sklearn.datasets import make_classification\n",
    "from sklearn.model_selection import cross_val_score\n",
    "from sklearn.model_selection import RepeatedStratifiedKFold\n",
    "from sklearn.feature_selection import RFECV\n",
    "from sklearn.tree import DecisionTreeClassifier\n",
    "from sklearn.pipeline import Pipeline\n",
    "# define dataset\n",
    "X, y = make_classification(n_samples=1000, n_features=14, n_informative=5, n_redundant=5, random_state=5)\n",
    "# create pipeline\n",
    "rfe = RFECV(estimator=DecisionTreeClassifier())\n",
    "model = DecisionTreeClassifier()\n",
    "pipeline = Pipeline(steps=[('s',rfe),('m',model)])\n",
    "# evaluate model\n",
    "cv = RepeatedStratifiedKFold(n_splits=10, n_repeats=3, random_state=1)\n",
    "n_scores = cross_val_score(pipeline, X, y, scoring='accuracy', cv=cv, n_jobs=-1, error_score='raise')\n",
    "# report performance\n",
    "print('Accuracy: %.3f (%.3f)' % (mean(n_scores), std(n_scores)))"
   ]
  },
  {
   "cell_type": "code",
   "execution_count": 43,
   "id": "68822080",
   "metadata": {},
   "outputs": [
    {
     "name": "stdout",
     "output_type": "stream",
     "text": [
      "              precision    recall  f1-score   support\n",
      "\n",
      "           0       0.86      0.87      0.87        95\n",
      "           1       0.88      0.88      0.88       105\n",
      "\n",
      "    accuracy                           0.88       200\n",
      "   macro avg       0.87      0.87      0.87       200\n",
      "weighted avg       0.88      0.88      0.88       200\n",
      "\n",
      "[[83 12]\n",
      " [13 92]]\n",
      "ACC:  0.875\n"
     ]
    }
   ],
   "source": [
    "from sklearn.metrics import confusion_matrix, classification_report\n",
    "from sklearn.model_selection import train_test_split\n",
    "X_train, X_test, y_train, y_test = train_test_split(X, y, test_size = 0.2, random_state = 0)\n",
    "\n",
    "model.fit(X_train, y_train)\n",
    "\n",
    "y_pred = model.predict(X_test)\n",
    "\n",
    "#Summary of the predictions made by the classifier\n",
    "print(classification_report(y_test, y_pred))\n",
    "print(confusion_matrix(y_test, y_pred))\n",
    "#Accuracy score\n",
    "from sklearn.metrics import accuracy_score\n",
    "print(\"ACC: \",accuracy_score(y_pred,y_test))"
   ]
  },
  {
   "cell_type": "markdown",
   "id": "051a0bed",
   "metadata": {},
   "source": [
    "## ClASSIFICATION"
   ]
  },
  {
   "cell_type": "code",
   "execution_count": 44,
   "id": "262ece6f",
   "metadata": {},
   "outputs": [],
   "source": [
    "import numpy as np\n",
    "import pandas as pd\n",
    "import matplotlib.pyplot as plt"
   ]
  },
  {
   "cell_type": "markdown",
   "id": "04359a56",
   "metadata": {},
   "source": [
    "## Train/Test Split from Test Data"
   ]
  },
  {
   "cell_type": "code",
   "execution_count": 45,
   "id": "3adf912d",
   "metadata": {},
   "outputs": [],
   "source": [
    "SemenTigaRoda = df_selected_features[df_selected_features.Product_Name == \"29\"]\n",
    "MRSafetyScrew = df_selected_features[df_selected_features.Product_Name == \"10\"]\n",
    "Fischer = df_selected_features[df_selected_features.Product_Name == \"6\"]\n",
    "CUTTINGTOOLSHIT= df_selected_features[df_selected_features.Product_Name == \"15\"]\n",
    "Aquaproof = df_selected_features[df_selected_features.Product_Name == \"24\"]\n",
    "SemenGaruda = df_selected_features[df_selected_features.Product_Name == \"27\"]"
   ]
  },
  {
   "cell_type": "code",
   "execution_count": 46,
   "id": "2cdd56a8",
   "metadata": {},
   "outputs": [],
   "source": [
    "x = df_selected_features.drop([\"Product_Name\"], axis = 1)\n",
    "y = df_selected_features.Product_Name.values"
   ]
  },
  {
   "cell_type": "code",
   "execution_count": 47,
   "id": "5a50baa3",
   "metadata": {},
   "outputs": [],
   "source": [
    "from sklearn.model_selection import train_test_split\n",
    "x_train, x_test, y_train, y_test = train_test_split(x, y, test_size = 0.25, random_state = 5)"
   ]
  },
  {
   "cell_type": "code",
   "execution_count": 48,
   "id": "5446c59c",
   "metadata": {},
   "outputs": [
    {
     "data": {
      "text/html": [
       "<style>#sk-container-id-1 {color: black;background-color: white;}#sk-container-id-1 pre{padding: 0;}#sk-container-id-1 div.sk-toggleable {background-color: white;}#sk-container-id-1 label.sk-toggleable__label {cursor: pointer;display: block;width: 100%;margin-bottom: 0;padding: 0.3em;box-sizing: border-box;text-align: center;}#sk-container-id-1 label.sk-toggleable__label-arrow:before {content: \"▸\";float: left;margin-right: 0.25em;color: #696969;}#sk-container-id-1 label.sk-toggleable__label-arrow:hover:before {color: black;}#sk-container-id-1 div.sk-estimator:hover label.sk-toggleable__label-arrow:before {color: black;}#sk-container-id-1 div.sk-toggleable__content {max-height: 0;max-width: 0;overflow: hidden;text-align: left;background-color: #f0f8ff;}#sk-container-id-1 div.sk-toggleable__content pre {margin: 0.2em;color: black;border-radius: 0.25em;background-color: #f0f8ff;}#sk-container-id-1 input.sk-toggleable__control:checked~div.sk-toggleable__content {max-height: 200px;max-width: 100%;overflow: auto;}#sk-container-id-1 input.sk-toggleable__control:checked~label.sk-toggleable__label-arrow:before {content: \"▾\";}#sk-container-id-1 div.sk-estimator input.sk-toggleable__control:checked~label.sk-toggleable__label {background-color: #d4ebff;}#sk-container-id-1 div.sk-label input.sk-toggleable__control:checked~label.sk-toggleable__label {background-color: #d4ebff;}#sk-container-id-1 input.sk-hidden--visually {border: 0;clip: rect(1px 1px 1px 1px);clip: rect(1px, 1px, 1px, 1px);height: 1px;margin: -1px;overflow: hidden;padding: 0;position: absolute;width: 1px;}#sk-container-id-1 div.sk-estimator {font-family: monospace;background-color: #f0f8ff;border: 1px dotted black;border-radius: 0.25em;box-sizing: border-box;margin-bottom: 0.5em;}#sk-container-id-1 div.sk-estimator:hover {background-color: #d4ebff;}#sk-container-id-1 div.sk-parallel-item::after {content: \"\";width: 100%;border-bottom: 1px solid gray;flex-grow: 1;}#sk-container-id-1 div.sk-label:hover label.sk-toggleable__label {background-color: #d4ebff;}#sk-container-id-1 div.sk-serial::before {content: \"\";position: absolute;border-left: 1px solid gray;box-sizing: border-box;top: 0;bottom: 0;left: 50%;z-index: 0;}#sk-container-id-1 div.sk-serial {display: flex;flex-direction: column;align-items: center;background-color: white;padding-right: 0.2em;padding-left: 0.2em;position: relative;}#sk-container-id-1 div.sk-item {position: relative;z-index: 1;}#sk-container-id-1 div.sk-parallel {display: flex;align-items: stretch;justify-content: center;background-color: white;position: relative;}#sk-container-id-1 div.sk-item::before, #sk-container-id-1 div.sk-parallel-item::before {content: \"\";position: absolute;border-left: 1px solid gray;box-sizing: border-box;top: 0;bottom: 0;left: 50%;z-index: -1;}#sk-container-id-1 div.sk-parallel-item {display: flex;flex-direction: column;z-index: 1;position: relative;background-color: white;}#sk-container-id-1 div.sk-parallel-item:first-child::after {align-self: flex-end;width: 50%;}#sk-container-id-1 div.sk-parallel-item:last-child::after {align-self: flex-start;width: 50%;}#sk-container-id-1 div.sk-parallel-item:only-child::after {width: 0;}#sk-container-id-1 div.sk-dashed-wrapped {border: 1px dashed gray;margin: 0 0.4em 0.5em 0.4em;box-sizing: border-box;padding-bottom: 0.4em;background-color: white;}#sk-container-id-1 div.sk-label label {font-family: monospace;font-weight: bold;display: inline-block;line-height: 1.2em;}#sk-container-id-1 div.sk-label-container {text-align: center;}#sk-container-id-1 div.sk-container {/* jupyter's `normalize.less` sets `[hidden] { display: none; }` but bootstrap.min.css set `[hidden] { display: none !important; }` so we also need the `!important` here to be able to override the default hidden behavior on the sphinx rendered scikit-learn.org. See: https://github.com/scikit-learn/scikit-learn/issues/21755 */display: inline-block !important;position: relative;}#sk-container-id-1 div.sk-text-repr-fallback {display: none;}</style><div id=\"sk-container-id-1\" class=\"sk-top-container\"><div class=\"sk-text-repr-fallback\"><pre>GaussianNB()</pre><b>In a Jupyter environment, please rerun this cell to show the HTML representation or trust the notebook. <br />On GitHub, the HTML representation is unable to render, please try loading this page with nbviewer.org.</b></div><div class=\"sk-container\" hidden><div class=\"sk-item\"><div class=\"sk-estimator sk-toggleable\"><input class=\"sk-toggleable__control sk-hidden--visually\" id=\"sk-estimator-id-1\" type=\"checkbox\" checked><label for=\"sk-estimator-id-1\" class=\"sk-toggleable__label sk-toggleable__label-arrow\">GaussianNB</label><div class=\"sk-toggleable__content\"><pre>GaussianNB()</pre></div></div></div></div></div>"
      ],
      "text/plain": [
       "GaussianNB()"
      ]
     },
     "execution_count": 48,
     "metadata": {},
     "output_type": "execute_result"
    }
   ],
   "source": [
    "from sklearn.naive_bayes import GaussianNB\n",
    "nb = GaussianNB()\n",
    "nb.fit(x_train, y_train)"
   ]
  },
  {
   "cell_type": "code",
   "execution_count": 49,
   "id": "7573499e",
   "metadata": {},
   "outputs": [
    {
     "name": "stdout",
     "output_type": "stream",
     "text": [
      "Gaussian Naive Bayes score:  0.06860706860706861\n"
     ]
    }
   ],
   "source": [
    "print(\"Gaussian Naive Bayes score: \",nb.score(x_test, y_test))"
   ]
  },
  {
   "cell_type": "markdown",
   "id": "2f021d2f",
   "metadata": {},
   "source": [
    "# Forecasting"
   ]
  },
  {
   "cell_type": "markdown",
   "id": "987d7362",
   "metadata": {
    "slideshow": {
     "slide_type": "slide"
    }
   },
   "source": [
    "### Import Library"
   ]
  },
  {
   "cell_type": "code",
   "execution_count": 50,
   "id": "6cd2e3fc",
   "metadata": {
    "slideshow": {
     "slide_type": "subslide"
    }
   },
   "outputs": [],
   "source": [
    "import pandas as pd\n",
    "import numpy as np\n",
    "import matplotlib.pyplot as plt\n",
    "import seaborn as sns\n",
    "import plotly.express as px\n",
    "import xgboost as xgb\n",
    "from sklearn.metrics import mean_squared_error\n",
    "color_pal = sns.color_palette()\n",
    "plt.style.use('fivethirtyeight')"
   ]
  },
  {
   "cell_type": "markdown",
   "id": "73a7e077",
   "metadata": {
    "slideshow": {
     "slide_type": "slide"
    }
   },
   "source": [
    "### Import data"
   ]
  },
  {
   "cell_type": "code",
   "execution_count": 51,
   "id": "a5853121",
   "metadata": {
    "slideshow": {
     "slide_type": "subslide"
    }
   },
   "outputs": [
    {
     "data": {
      "text/html": [
       "<div>\n",
       "<style scoped>\n",
       "    .dataframe tbody tr th:only-of-type {\n",
       "        vertical-align: middle;\n",
       "    }\n",
       "\n",
       "    .dataframe tbody tr th {\n",
       "        vertical-align: top;\n",
       "    }\n",
       "\n",
       "    .dataframe thead th {\n",
       "        text-align: right;\n",
       "    }\n",
       "</style>\n",
       "<table border=\"1\" class=\"dataframe\">\n",
       "  <thead>\n",
       "    <tr style=\"text-align: right;\">\n",
       "      <th></th>\n",
       "      <th>Datetime</th>\n",
       "      <th>flag_taker</th>\n",
       "      <th>los</th>\n",
       "      <th>Order_Qty</th>\n",
       "      <th>PPU</th>\n",
       "      <th>COS</th>\n",
       "      <th>Sales</th>\n",
       "      <th>Profit</th>\n",
       "      <th>Profit_Margin</th>\n",
       "      <th>Product_Name</th>\n",
       "      <th>Brand_Name</th>\n",
       "      <th>Product_Category</th>\n",
       "      <th>klaster</th>\n",
       "      <th>klaster_II</th>\n",
       "    </tr>\n",
       "  </thead>\n",
       "  <tbody>\n",
       "    <tr>\n",
       "      <th>0</th>\n",
       "      <td>02/10/2021</td>\n",
       "      <td>1</td>\n",
       "      <td>1761</td>\n",
       "      <td>9</td>\n",
       "      <td>699,000.0</td>\n",
       "      <td>2,305,806.0</td>\n",
       "      <td>6,291,000.0</td>\n",
       "      <td>3,985,195.0</td>\n",
       "      <td>0.633476</td>\n",
       "      <td>6</td>\n",
       "      <td>5</td>\n",
       "      <td>Fastener</td>\n",
       "      <td>0</td>\n",
       "      <td>3</td>\n",
       "    </tr>\n",
       "    <tr>\n",
       "      <th>1</th>\n",
       "      <td>01/09/2020</td>\n",
       "      <td>1</td>\n",
       "      <td>2036</td>\n",
       "      <td>5</td>\n",
       "      <td>169,990.0</td>\n",
       "      <td>284,395.3</td>\n",
       "      <td>849,950.0</td>\n",
       "      <td>565,554.8</td>\n",
       "      <td>0.665398</td>\n",
       "      <td>5</td>\n",
       "      <td>4</td>\n",
       "      <td>Sanitary</td>\n",
       "      <td>0</td>\n",
       "      <td>0</td>\n",
       "    </tr>\n",
       "    <tr>\n",
       "      <th>2</th>\n",
       "      <td>05/22/2018</td>\n",
       "      <td>1</td>\n",
       "      <td>810</td>\n",
       "      <td>10</td>\n",
       "      <td>11,500.0</td>\n",
       "      <td>16,657.91</td>\n",
       "      <td>115,000.0</td>\n",
       "      <td>98,342.09</td>\n",
       "      <td>0.855149</td>\n",
       "      <td>6</td>\n",
       "      <td>5</td>\n",
       "      <td>Fastener</td>\n",
       "      <td>0</td>\n",
       "      <td>0</td>\n",
       "    </tr>\n",
       "    <tr>\n",
       "      <th>3</th>\n",
       "      <td>03/19/2021</td>\n",
       "      <td>1</td>\n",
       "      <td>306</td>\n",
       "      <td>20</td>\n",
       "      <td>248,000.0</td>\n",
       "      <td>4,113,790.0</td>\n",
       "      <td>4,960,000.0</td>\n",
       "      <td>846,209.8</td>\n",
       "      <td>0.170607</td>\n",
       "      <td>6</td>\n",
       "      <td>5</td>\n",
       "      <td>Fastener</td>\n",
       "      <td>0</td>\n",
       "      <td>0</td>\n",
       "    </tr>\n",
       "    <tr>\n",
       "      <th>4</th>\n",
       "      <td>08/30/2021</td>\n",
       "      <td>1</td>\n",
       "      <td>2000</td>\n",
       "      <td>10</td>\n",
       "      <td>219,000.0</td>\n",
       "      <td>522,373.5</td>\n",
       "      <td>2,190,000.0</td>\n",
       "      <td>1,667,627.0</td>\n",
       "      <td>0.761473</td>\n",
       "      <td>3</td>\n",
       "      <td>3</td>\n",
       "      <td>Flooring</td>\n",
       "      <td>0</td>\n",
       "      <td>0</td>\n",
       "    </tr>\n",
       "  </tbody>\n",
       "</table>\n",
       "</div>"
      ],
      "text/plain": [
       "     Datetime  flag_taker   los  Order_Qty       PPU         COS       Sales  \\\n",
       "0  02/10/2021           1  1761          9 699,000.0 2,305,806.0 6,291,000.0   \n",
       "1  01/09/2020           1  2036          5 169,990.0   284,395.3   849,950.0   \n",
       "2  05/22/2018           1   810         10  11,500.0   16,657.91   115,000.0   \n",
       "3  03/19/2021           1   306         20 248,000.0 4,113,790.0 4,960,000.0   \n",
       "4  08/30/2021           1  2000         10 219,000.0   522,373.5 2,190,000.0   \n",
       "\n",
       "       Profit  Profit_Margin  Product_Name  Brand_Name Product_Category  \\\n",
       "0 3,985,195.0       0.633476             6           5         Fastener   \n",
       "1   565,554.8       0.665398             5           4         Sanitary   \n",
       "2   98,342.09       0.855149             6           5         Fastener   \n",
       "3   846,209.8       0.170607             6           5         Fastener   \n",
       "4 1,667,627.0       0.761473             3           3         Flooring   \n",
       "\n",
       "   klaster  klaster_II  \n",
       "0        0           3  \n",
       "1        0           0  \n",
       "2        0           0  \n",
       "3        0           0  \n",
       "4        0           0  "
      ]
     },
     "execution_count": 51,
     "metadata": {},
     "output_type": "execute_result"
    }
   ],
   "source": [
    "df = pd.read_csv('Sinarjaya_forecast.csv', delimiter=',')\n",
    "df.head(5)"
   ]
  },
  {
   "cell_type": "code",
   "execution_count": 52,
   "id": "844e20ce",
   "metadata": {
    "slideshow": {
     "slide_type": "subslide"
    }
   },
   "outputs": [
    {
     "data": {
      "text/plain": [
       "(486.5, 1594.25)"
      ]
     },
     "execution_count": 52,
     "metadata": {},
     "output_type": "execute_result"
    }
   ],
   "source": [
    "Q1 = df.los.quantile(0.25)\n",
    "Q3 = df.los.quantile(0.75)\n",
    "Q1, Q3"
   ]
  },
  {
   "cell_type": "code",
   "execution_count": 53,
   "id": "a1fc3b6d",
   "metadata": {
    "slideshow": {
     "slide_type": "subslide"
    }
   },
   "outputs": [
    {
     "data": {
      "text/plain": [
       "1107.75"
      ]
     },
     "execution_count": 53,
     "metadata": {},
     "output_type": "execute_result"
    }
   ],
   "source": [
    "IQR = Q3 - Q1\n",
    "IQR"
   ]
  },
  {
   "cell_type": "code",
   "execution_count": 54,
   "id": "6d73465c",
   "metadata": {
    "slideshow": {
     "slide_type": "subslide"
    }
   },
   "outputs": [
    {
     "data": {
      "text/plain": [
       "(-1175.125, 3255.875)"
      ]
     },
     "execution_count": 54,
     "metadata": {},
     "output_type": "execute_result"
    }
   ],
   "source": [
    "lower_limit = Q1 - 1.5*IQR\n",
    "upper_limit = Q3 + 1.5*IQR\n",
    "lower_limit, upper_limit"
   ]
  },
  {
   "cell_type": "code",
   "execution_count": 55,
   "id": "bb5f10b8",
   "metadata": {
    "scrolled": true,
    "slideshow": {
     "slide_type": "subslide"
    }
   },
   "outputs": [
    {
     "data": {
      "text/html": [
       "<div>\n",
       "<style scoped>\n",
       "    .dataframe tbody tr th:only-of-type {\n",
       "        vertical-align: middle;\n",
       "    }\n",
       "\n",
       "    .dataframe tbody tr th {\n",
       "        vertical-align: top;\n",
       "    }\n",
       "\n",
       "    .dataframe thead th {\n",
       "        text-align: right;\n",
       "    }\n",
       "</style>\n",
       "<table border=\"1\" class=\"dataframe\">\n",
       "  <thead>\n",
       "    <tr style=\"text-align: right;\">\n",
       "      <th></th>\n",
       "      <th>Datetime</th>\n",
       "      <th>flag_taker</th>\n",
       "      <th>los</th>\n",
       "      <th>Order_Qty</th>\n",
       "      <th>PPU</th>\n",
       "      <th>COS</th>\n",
       "      <th>Sales</th>\n",
       "      <th>Profit</th>\n",
       "      <th>Profit_Margin</th>\n",
       "      <th>Product_Name</th>\n",
       "      <th>Brand_Name</th>\n",
       "      <th>Product_Category</th>\n",
       "      <th>klaster</th>\n",
       "      <th>klaster_II</th>\n",
       "    </tr>\n",
       "  </thead>\n",
       "  <tbody>\n",
       "    <tr>\n",
       "      <th>12</th>\n",
       "      <td>03/08/2018</td>\n",
       "      <td>1</td>\n",
       "      <td>3461</td>\n",
       "      <td>8</td>\n",
       "      <td>44,640.5</td>\n",
       "      <td>260,387.0</td>\n",
       "      <td>357,124.0</td>\n",
       "      <td>96,737.03</td>\n",
       "      <td>0.270878</td>\n",
       "      <td>7</td>\n",
       "      <td>6</td>\n",
       "      <td>Hand Tools</td>\n",
       "      <td>0</td>\n",
       "      <td>0</td>\n",
       "    </tr>\n",
       "    <tr>\n",
       "      <th>193</th>\n",
       "      <td>03/05/2018</td>\n",
       "      <td>1</td>\n",
       "      <td>3361</td>\n",
       "      <td>13</td>\n",
       "      <td>264,907.7</td>\n",
       "      <td>2,253,302.0</td>\n",
       "      <td>3,443,800.0</td>\n",
       "      <td>1,190,498.0</td>\n",
       "      <td>0.345693</td>\n",
       "      <td>12</td>\n",
       "      <td>11</td>\n",
       "      <td>Hand Tools</td>\n",
       "      <td>0</td>\n",
       "      <td>0</td>\n",
       "    </tr>\n",
       "    <tr>\n",
       "      <th>215</th>\n",
       "      <td>02/08/2022</td>\n",
       "      <td>1</td>\n",
       "      <td>3402</td>\n",
       "      <td>12</td>\n",
       "      <td>77,683.34</td>\n",
       "      <td>157,509.6</td>\n",
       "      <td>932,200.0</td>\n",
       "      <td>774,690.4</td>\n",
       "      <td>0.831035</td>\n",
       "      <td>10</td>\n",
       "      <td>9</td>\n",
       "      <td>Fastener</td>\n",
       "      <td>0</td>\n",
       "      <td>0</td>\n",
       "    </tr>\n",
       "    <tr>\n",
       "      <th>377</th>\n",
       "      <td>07/09/2021</td>\n",
       "      <td>1</td>\n",
       "      <td>3418</td>\n",
       "      <td>9</td>\n",
       "      <td>268,000.0</td>\n",
       "      <td>29,499.18</td>\n",
       "      <td>2,412,000.0</td>\n",
       "      <td>2,382,501.0</td>\n",
       "      <td>0.98777</td>\n",
       "      <td>4</td>\n",
       "      <td>1</td>\n",
       "      <td>Builder Hardware</td>\n",
       "      <td>0</td>\n",
       "      <td>0</td>\n",
       "    </tr>\n",
       "    <tr>\n",
       "      <th>455</th>\n",
       "      <td>02/09/2021</td>\n",
       "      <td>1</td>\n",
       "      <td>3463</td>\n",
       "      <td>10</td>\n",
       "      <td>23,000.0</td>\n",
       "      <td>114,176.9</td>\n",
       "      <td>230,000.0</td>\n",
       "      <td>115,823.1</td>\n",
       "      <td>0.503579</td>\n",
       "      <td>15</td>\n",
       "      <td>6</td>\n",
       "      <td>Hand Tools</td>\n",
       "      <td>0</td>\n",
       "      <td>0</td>\n",
       "    </tr>\n",
       "    <tr>\n",
       "      <th>560</th>\n",
       "      <td>03/18/2022</td>\n",
       "      <td>1</td>\n",
       "      <td>3406</td>\n",
       "      <td>10</td>\n",
       "      <td>42,990.0</td>\n",
       "      <td>258,291.1</td>\n",
       "      <td>429,900.0</td>\n",
       "      <td>171,608.9</td>\n",
       "      <td>0.399183</td>\n",
       "      <td>12</td>\n",
       "      <td>11</td>\n",
       "      <td>Hand Tools</td>\n",
       "      <td>0</td>\n",
       "      <td>0</td>\n",
       "    </tr>\n",
       "    <tr>\n",
       "      <th>848</th>\n",
       "      <td>02/26/2018</td>\n",
       "      <td>1</td>\n",
       "      <td>3482</td>\n",
       "      <td>10</td>\n",
       "      <td>26,990.0</td>\n",
       "      <td>39,259.46</td>\n",
       "      <td>269,900.0</td>\n",
       "      <td>230,640.6</td>\n",
       "      <td>0.854541</td>\n",
       "      <td>7</td>\n",
       "      <td>6</td>\n",
       "      <td>Hand Tools</td>\n",
       "      <td>0</td>\n",
       "      <td>0</td>\n",
       "    </tr>\n",
       "  </tbody>\n",
       "</table>\n",
       "</div>"
      ],
      "text/plain": [
       "       Datetime  flag_taker   los  Order_Qty       PPU         COS  \\\n",
       "12   03/08/2018           1  3461          8  44,640.5   260,387.0   \n",
       "193  03/05/2018           1  3361         13 264,907.7 2,253,302.0   \n",
       "215  02/08/2022           1  3402         12 77,683.34   157,509.6   \n",
       "377  07/09/2021           1  3418          9 268,000.0   29,499.18   \n",
       "455  02/09/2021           1  3463         10  23,000.0   114,176.9   \n",
       "560  03/18/2022           1  3406         10  42,990.0   258,291.1   \n",
       "848  02/26/2018           1  3482         10  26,990.0   39,259.46   \n",
       "\n",
       "          Sales      Profit  Profit_Margin  Product_Name  Brand_Name  \\\n",
       "12    357,124.0   96,737.03       0.270878             7           6   \n",
       "193 3,443,800.0 1,190,498.0       0.345693            12          11   \n",
       "215   932,200.0   774,690.4       0.831035            10           9   \n",
       "377 2,412,000.0 2,382,501.0        0.98777             4           1   \n",
       "455   230,000.0   115,823.1       0.503579            15           6   \n",
       "560   429,900.0   171,608.9       0.399183            12          11   \n",
       "848   269,900.0   230,640.6       0.854541             7           6   \n",
       "\n",
       "     Product_Category  klaster  klaster_II  \n",
       "12         Hand Tools        0           0  \n",
       "193        Hand Tools        0           0  \n",
       "215          Fastener        0           0  \n",
       "377  Builder Hardware        0           0  \n",
       "455        Hand Tools        0           0  \n",
       "560        Hand Tools        0           0  \n",
       "848        Hand Tools        0           0  "
      ]
     },
     "execution_count": 55,
     "metadata": {},
     "output_type": "execute_result"
    }
   ],
   "source": [
    "df[(df.los<lower_limit)|(df.los>upper_limit)]"
   ]
  },
  {
   "cell_type": "code",
   "execution_count": 56,
   "id": "2216b360",
   "metadata": {
    "scrolled": false,
    "slideshow": {
     "slide_type": "subslide"
    }
   },
   "outputs": [
    {
     "data": {
      "text/html": [
       "<div>\n",
       "<style scoped>\n",
       "    .dataframe tbody tr th:only-of-type {\n",
       "        vertical-align: middle;\n",
       "    }\n",
       "\n",
       "    .dataframe tbody tr th {\n",
       "        vertical-align: top;\n",
       "    }\n",
       "\n",
       "    .dataframe thead th {\n",
       "        text-align: right;\n",
       "    }\n",
       "</style>\n",
       "<table border=\"1\" class=\"dataframe\">\n",
       "  <thead>\n",
       "    <tr style=\"text-align: right;\">\n",
       "      <th></th>\n",
       "      <th>Datetime</th>\n",
       "      <th>flag_taker</th>\n",
       "      <th>los</th>\n",
       "      <th>Order_Qty</th>\n",
       "      <th>PPU</th>\n",
       "      <th>COS</th>\n",
       "      <th>Sales</th>\n",
       "      <th>Profit</th>\n",
       "      <th>Profit_Margin</th>\n",
       "      <th>Product_Name</th>\n",
       "      <th>Brand_Name</th>\n",
       "      <th>Product_Category</th>\n",
       "      <th>klaster</th>\n",
       "      <th>klaster_II</th>\n",
       "    </tr>\n",
       "  </thead>\n",
       "  <tbody>\n",
       "    <tr>\n",
       "      <th>0</th>\n",
       "      <td>02/10/2021</td>\n",
       "      <td>1</td>\n",
       "      <td>1761</td>\n",
       "      <td>9</td>\n",
       "      <td>699,000.0</td>\n",
       "      <td>2,305,806.0</td>\n",
       "      <td>6,291,000.0</td>\n",
       "      <td>3,985,195.0</td>\n",
       "      <td>0.633476</td>\n",
       "      <td>6</td>\n",
       "      <td>5</td>\n",
       "      <td>Fastener</td>\n",
       "      <td>0</td>\n",
       "      <td>3</td>\n",
       "    </tr>\n",
       "    <tr>\n",
       "      <th>1</th>\n",
       "      <td>01/09/2020</td>\n",
       "      <td>1</td>\n",
       "      <td>2036</td>\n",
       "      <td>5</td>\n",
       "      <td>169,990.0</td>\n",
       "      <td>284,395.3</td>\n",
       "      <td>849,950.0</td>\n",
       "      <td>565,554.8</td>\n",
       "      <td>0.665398</td>\n",
       "      <td>5</td>\n",
       "      <td>4</td>\n",
       "      <td>Sanitary</td>\n",
       "      <td>0</td>\n",
       "      <td>0</td>\n",
       "    </tr>\n",
       "    <tr>\n",
       "      <th>2</th>\n",
       "      <td>05/22/2018</td>\n",
       "      <td>1</td>\n",
       "      <td>810</td>\n",
       "      <td>10</td>\n",
       "      <td>11,500.0</td>\n",
       "      <td>16,657.91</td>\n",
       "      <td>115,000.0</td>\n",
       "      <td>98,342.09</td>\n",
       "      <td>0.855149</td>\n",
       "      <td>6</td>\n",
       "      <td>5</td>\n",
       "      <td>Fastener</td>\n",
       "      <td>0</td>\n",
       "      <td>0</td>\n",
       "    </tr>\n",
       "    <tr>\n",
       "      <th>3</th>\n",
       "      <td>03/19/2021</td>\n",
       "      <td>1</td>\n",
       "      <td>306</td>\n",
       "      <td>20</td>\n",
       "      <td>248,000.0</td>\n",
       "      <td>4,113,790.0</td>\n",
       "      <td>4,960,000.0</td>\n",
       "      <td>846,209.8</td>\n",
       "      <td>0.170607</td>\n",
       "      <td>6</td>\n",
       "      <td>5</td>\n",
       "      <td>Fastener</td>\n",
       "      <td>0</td>\n",
       "      <td>0</td>\n",
       "    </tr>\n",
       "    <tr>\n",
       "      <th>4</th>\n",
       "      <td>08/30/2021</td>\n",
       "      <td>1</td>\n",
       "      <td>2000</td>\n",
       "      <td>10</td>\n",
       "      <td>219,000.0</td>\n",
       "      <td>522,373.5</td>\n",
       "      <td>2,190,000.0</td>\n",
       "      <td>1,667,627.0</td>\n",
       "      <td>0.761473</td>\n",
       "      <td>3</td>\n",
       "      <td>3</td>\n",
       "      <td>Flooring</td>\n",
       "      <td>0</td>\n",
       "      <td>0</td>\n",
       "    </tr>\n",
       "    <tr>\n",
       "      <th>...</th>\n",
       "      <td>...</td>\n",
       "      <td>...</td>\n",
       "      <td>...</td>\n",
       "      <td>...</td>\n",
       "      <td>...</td>\n",
       "      <td>...</td>\n",
       "      <td>...</td>\n",
       "      <td>...</td>\n",
       "      <td>...</td>\n",
       "      <td>...</td>\n",
       "      <td>...</td>\n",
       "      <td>...</td>\n",
       "      <td>...</td>\n",
       "      <td>...</td>\n",
       "    </tr>\n",
       "    <tr>\n",
       "      <th>1383</th>\n",
       "      <td>07/01/2019</td>\n",
       "      <td>1</td>\n",
       "      <td>2722</td>\n",
       "      <td>9</td>\n",
       "      <td>288,400.0</td>\n",
       "      <td>1,162,540.0</td>\n",
       "      <td>2,595,600.0</td>\n",
       "      <td>1,433,060.0</td>\n",
       "      <td>0.552111</td>\n",
       "      <td>5</td>\n",
       "      <td>17</td>\n",
       "      <td>Sanitary</td>\n",
       "      <td>0</td>\n",
       "      <td>0</td>\n",
       "    </tr>\n",
       "    <tr>\n",
       "      <th>1384</th>\n",
       "      <td>03/17/2018</td>\n",
       "      <td>1</td>\n",
       "      <td>702</td>\n",
       "      <td>20</td>\n",
       "      <td>132,990.0</td>\n",
       "      <td>1,316,718.0</td>\n",
       "      <td>2,659,800.0</td>\n",
       "      <td>1,343,083.0</td>\n",
       "      <td>0.504956</td>\n",
       "      <td>19</td>\n",
       "      <td>18</td>\n",
       "      <td>Paint &amp; Sundries</td>\n",
       "      <td>0</td>\n",
       "      <td>0</td>\n",
       "    </tr>\n",
       "    <tr>\n",
       "      <th>1385</th>\n",
       "      <td>07/03/2021</td>\n",
       "      <td>1</td>\n",
       "      <td>710</td>\n",
       "      <td>9</td>\n",
       "      <td>195,066.7</td>\n",
       "      <td>891,535.8</td>\n",
       "      <td>1,755,600.0</td>\n",
       "      <td>864,064.2</td>\n",
       "      <td>0.492176</td>\n",
       "      <td>29</td>\n",
       "      <td>1</td>\n",
       "      <td>Fastener</td>\n",
       "      <td>0</td>\n",
       "      <td>0</td>\n",
       "    </tr>\n",
       "    <tr>\n",
       "      <th>1386</th>\n",
       "      <td>06/15/2021</td>\n",
       "      <td>1</td>\n",
       "      <td>1241</td>\n",
       "      <td>12</td>\n",
       "      <td>323,516.7</td>\n",
       "      <td>87,974.3</td>\n",
       "      <td>3,882,200.0</td>\n",
       "      <td>3,794,226.0</td>\n",
       "      <td>0.977339</td>\n",
       "      <td>5</td>\n",
       "      <td>17</td>\n",
       "      <td>Sanitary</td>\n",
       "      <td>0</td>\n",
       "      <td>0</td>\n",
       "    </tr>\n",
       "    <tr>\n",
       "      <th>1387</th>\n",
       "      <td>01/23/2020</td>\n",
       "      <td>1</td>\n",
       "      <td>1182</td>\n",
       "      <td>10</td>\n",
       "      <td>999,000.0</td>\n",
       "      <td>337,481.8</td>\n",
       "      <td>9,990,000.0</td>\n",
       "      <td>9,652,518.0</td>\n",
       "      <td>0.966218</td>\n",
       "      <td>29</td>\n",
       "      <td>1</td>\n",
       "      <td>Fastener</td>\n",
       "      <td>2</td>\n",
       "      <td>3</td>\n",
       "    </tr>\n",
       "  </tbody>\n",
       "</table>\n",
       "<p>1381 rows × 14 columns</p>\n",
       "</div>"
      ],
      "text/plain": [
       "        Datetime  flag_taker   los  Order_Qty       PPU         COS  \\\n",
       "0     02/10/2021           1  1761          9 699,000.0 2,305,806.0   \n",
       "1     01/09/2020           1  2036          5 169,990.0   284,395.3   \n",
       "2     05/22/2018           1   810         10  11,500.0   16,657.91   \n",
       "3     03/19/2021           1   306         20 248,000.0 4,113,790.0   \n",
       "4     08/30/2021           1  2000         10 219,000.0   522,373.5   \n",
       "...          ...         ...   ...        ...       ...         ...   \n",
       "1383  07/01/2019           1  2722          9 288,400.0 1,162,540.0   \n",
       "1384  03/17/2018           1   702         20 132,990.0 1,316,718.0   \n",
       "1385  07/03/2021           1   710          9 195,066.7   891,535.8   \n",
       "1386  06/15/2021           1  1241         12 323,516.7    87,974.3   \n",
       "1387  01/23/2020           1  1182         10 999,000.0   337,481.8   \n",
       "\n",
       "           Sales      Profit  Profit_Margin  Product_Name  Brand_Name  \\\n",
       "0    6,291,000.0 3,985,195.0       0.633476             6           5   \n",
       "1      849,950.0   565,554.8       0.665398             5           4   \n",
       "2      115,000.0   98,342.09       0.855149             6           5   \n",
       "3    4,960,000.0   846,209.8       0.170607             6           5   \n",
       "4    2,190,000.0 1,667,627.0       0.761473             3           3   \n",
       "...          ...         ...            ...           ...         ...   \n",
       "1383 2,595,600.0 1,433,060.0       0.552111             5          17   \n",
       "1384 2,659,800.0 1,343,083.0       0.504956            19          18   \n",
       "1385 1,755,600.0   864,064.2       0.492176            29           1   \n",
       "1386 3,882,200.0 3,794,226.0       0.977339             5          17   \n",
       "1387 9,990,000.0 9,652,518.0       0.966218            29           1   \n",
       "\n",
       "      Product_Category  klaster  klaster_II  \n",
       "0             Fastener        0           3  \n",
       "1             Sanitary        0           0  \n",
       "2             Fastener        0           0  \n",
       "3             Fastener        0           0  \n",
       "4             Flooring        0           0  \n",
       "...                ...      ...         ...  \n",
       "1383          Sanitary        0           0  \n",
       "1384  Paint & Sundries        0           0  \n",
       "1385          Fastener        0           0  \n",
       "1386          Sanitary        0           0  \n",
       "1387          Fastener        2           3  \n",
       "\n",
       "[1381 rows x 14 columns]"
      ]
     },
     "execution_count": 56,
     "metadata": {},
     "output_type": "execute_result"
    }
   ],
   "source": [
    "df = df[(df.los>lower_limit)&(df.los<upper_limit)]\n",
    "df"
   ]
  },
  {
   "cell_type": "markdown",
   "id": "36d52c7b",
   "metadata": {
    "slideshow": {
     "slide_type": "slide"
    }
   },
   "source": [
    "## Taker vs Non Taker "
   ]
  },
  {
   "cell_type": "code",
   "execution_count": 57,
   "id": "01b6bf8f",
   "metadata": {
    "scrolled": false
   },
   "outputs": [
    {
     "ename": "FileNotFoundError",
     "evalue": "[Errno 2] No such file or directory: 'dataset/takernontaker.csv'",
     "output_type": "error",
     "traceback": [
      "\u001b[1;31m---------------------------------------------------------------------------\u001b[0m",
      "\u001b[1;31mFileNotFoundError\u001b[0m                         Traceback (most recent call last)",
      "Input \u001b[1;32mIn [57]\u001b[0m, in \u001b[0;36m<cell line: 1>\u001b[1;34m()\u001b[0m\n\u001b[1;32m----> 1\u001b[0m tnt \u001b[38;5;241m=\u001b[39m \u001b[43mpd\u001b[49m\u001b[38;5;241;43m.\u001b[39;49m\u001b[43mread_csv\u001b[49m\u001b[43m(\u001b[49m\u001b[38;5;124;43m'\u001b[39;49m\u001b[38;5;124;43mdataset/takernontaker.csv\u001b[39;49m\u001b[38;5;124;43m'\u001b[39;49m\u001b[43m,\u001b[49m\u001b[43m \u001b[49m\u001b[43mdelimiter\u001b[49m\u001b[38;5;241;43m=\u001b[39;49m\u001b[38;5;124;43m'\u001b[39;49m\u001b[38;5;124;43m,\u001b[39;49m\u001b[38;5;124;43m'\u001b[39;49m\u001b[43m)\u001b[49m\n",
      "File \u001b[1;32m~\\AppData\\Roaming\\Python\\Python310\\site-packages\\pandas\\util\\_decorators.py:311\u001b[0m, in \u001b[0;36mdeprecate_nonkeyword_arguments.<locals>.decorate.<locals>.wrapper\u001b[1;34m(*args, **kwargs)\u001b[0m\n\u001b[0;32m    305\u001b[0m \u001b[38;5;28;01mif\u001b[39;00m \u001b[38;5;28mlen\u001b[39m(args) \u001b[38;5;241m>\u001b[39m num_allow_args:\n\u001b[0;32m    306\u001b[0m     warnings\u001b[38;5;241m.\u001b[39mwarn(\n\u001b[0;32m    307\u001b[0m         msg\u001b[38;5;241m.\u001b[39mformat(arguments\u001b[38;5;241m=\u001b[39marguments),\n\u001b[0;32m    308\u001b[0m         \u001b[38;5;167;01mFutureWarning\u001b[39;00m,\n\u001b[0;32m    309\u001b[0m         stacklevel\u001b[38;5;241m=\u001b[39mstacklevel,\n\u001b[0;32m    310\u001b[0m     )\n\u001b[1;32m--> 311\u001b[0m \u001b[38;5;28;01mreturn\u001b[39;00m func(\u001b[38;5;241m*\u001b[39margs, \u001b[38;5;241m*\u001b[39m\u001b[38;5;241m*\u001b[39mkwargs)\n",
      "File \u001b[1;32m~\\AppData\\Roaming\\Python\\Python310\\site-packages\\pandas\\io\\parsers\\readers.py:680\u001b[0m, in \u001b[0;36mread_csv\u001b[1;34m(filepath_or_buffer, sep, delimiter, header, names, index_col, usecols, squeeze, prefix, mangle_dupe_cols, dtype, engine, converters, true_values, false_values, skipinitialspace, skiprows, skipfooter, nrows, na_values, keep_default_na, na_filter, verbose, skip_blank_lines, parse_dates, infer_datetime_format, keep_date_col, date_parser, dayfirst, cache_dates, iterator, chunksize, compression, thousands, decimal, lineterminator, quotechar, quoting, doublequote, escapechar, comment, encoding, encoding_errors, dialect, error_bad_lines, warn_bad_lines, on_bad_lines, delim_whitespace, low_memory, memory_map, float_precision, storage_options)\u001b[0m\n\u001b[0;32m    665\u001b[0m kwds_defaults \u001b[38;5;241m=\u001b[39m _refine_defaults_read(\n\u001b[0;32m    666\u001b[0m     dialect,\n\u001b[0;32m    667\u001b[0m     delimiter,\n\u001b[1;32m   (...)\u001b[0m\n\u001b[0;32m    676\u001b[0m     defaults\u001b[38;5;241m=\u001b[39m{\u001b[38;5;124m\"\u001b[39m\u001b[38;5;124mdelimiter\u001b[39m\u001b[38;5;124m\"\u001b[39m: \u001b[38;5;124m\"\u001b[39m\u001b[38;5;124m,\u001b[39m\u001b[38;5;124m\"\u001b[39m},\n\u001b[0;32m    677\u001b[0m )\n\u001b[0;32m    678\u001b[0m kwds\u001b[38;5;241m.\u001b[39mupdate(kwds_defaults)\n\u001b[1;32m--> 680\u001b[0m \u001b[38;5;28;01mreturn\u001b[39;00m \u001b[43m_read\u001b[49m\u001b[43m(\u001b[49m\u001b[43mfilepath_or_buffer\u001b[49m\u001b[43m,\u001b[49m\u001b[43m \u001b[49m\u001b[43mkwds\u001b[49m\u001b[43m)\u001b[49m\n",
      "File \u001b[1;32m~\\AppData\\Roaming\\Python\\Python310\\site-packages\\pandas\\io\\parsers\\readers.py:575\u001b[0m, in \u001b[0;36m_read\u001b[1;34m(filepath_or_buffer, kwds)\u001b[0m\n\u001b[0;32m    572\u001b[0m _validate_names(kwds\u001b[38;5;241m.\u001b[39mget(\u001b[38;5;124m\"\u001b[39m\u001b[38;5;124mnames\u001b[39m\u001b[38;5;124m\"\u001b[39m, \u001b[38;5;28;01mNone\u001b[39;00m))\n\u001b[0;32m    574\u001b[0m \u001b[38;5;66;03m# Create the parser.\u001b[39;00m\n\u001b[1;32m--> 575\u001b[0m parser \u001b[38;5;241m=\u001b[39m TextFileReader(filepath_or_buffer, \u001b[38;5;241m*\u001b[39m\u001b[38;5;241m*\u001b[39mkwds)\n\u001b[0;32m    577\u001b[0m \u001b[38;5;28;01mif\u001b[39;00m chunksize \u001b[38;5;129;01mor\u001b[39;00m iterator:\n\u001b[0;32m    578\u001b[0m     \u001b[38;5;28;01mreturn\u001b[39;00m parser\n",
      "File \u001b[1;32m~\\AppData\\Roaming\\Python\\Python310\\site-packages\\pandas\\io\\parsers\\readers.py:934\u001b[0m, in \u001b[0;36mTextFileReader.__init__\u001b[1;34m(self, f, engine, **kwds)\u001b[0m\n\u001b[0;32m    931\u001b[0m     \u001b[38;5;28mself\u001b[39m\u001b[38;5;241m.\u001b[39moptions[\u001b[38;5;124m\"\u001b[39m\u001b[38;5;124mhas_index_names\u001b[39m\u001b[38;5;124m\"\u001b[39m] \u001b[38;5;241m=\u001b[39m kwds[\u001b[38;5;124m\"\u001b[39m\u001b[38;5;124mhas_index_names\u001b[39m\u001b[38;5;124m\"\u001b[39m]\n\u001b[0;32m    933\u001b[0m \u001b[38;5;28mself\u001b[39m\u001b[38;5;241m.\u001b[39mhandles: IOHandles \u001b[38;5;241m|\u001b[39m \u001b[38;5;28;01mNone\u001b[39;00m \u001b[38;5;241m=\u001b[39m \u001b[38;5;28;01mNone\u001b[39;00m\n\u001b[1;32m--> 934\u001b[0m \u001b[38;5;28mself\u001b[39m\u001b[38;5;241m.\u001b[39m_engine \u001b[38;5;241m=\u001b[39m \u001b[38;5;28;43mself\u001b[39;49m\u001b[38;5;241;43m.\u001b[39;49m\u001b[43m_make_engine\u001b[49m\u001b[43m(\u001b[49m\u001b[43mf\u001b[49m\u001b[43m,\u001b[49m\u001b[43m \u001b[49m\u001b[38;5;28;43mself\u001b[39;49m\u001b[38;5;241;43m.\u001b[39;49m\u001b[43mengine\u001b[49m\u001b[43m)\u001b[49m\n",
      "File \u001b[1;32m~\\AppData\\Roaming\\Python\\Python310\\site-packages\\pandas\\io\\parsers\\readers.py:1218\u001b[0m, in \u001b[0;36mTextFileReader._make_engine\u001b[1;34m(self, f, engine)\u001b[0m\n\u001b[0;32m   1214\u001b[0m     mode \u001b[38;5;241m=\u001b[39m \u001b[38;5;124m\"\u001b[39m\u001b[38;5;124mrb\u001b[39m\u001b[38;5;124m\"\u001b[39m\n\u001b[0;32m   1215\u001b[0m \u001b[38;5;66;03m# error: No overload variant of \"get_handle\" matches argument types\u001b[39;00m\n\u001b[0;32m   1216\u001b[0m \u001b[38;5;66;03m# \"Union[str, PathLike[str], ReadCsvBuffer[bytes], ReadCsvBuffer[str]]\"\u001b[39;00m\n\u001b[0;32m   1217\u001b[0m \u001b[38;5;66;03m# , \"str\", \"bool\", \"Any\", \"Any\", \"Any\", \"Any\", \"Any\"\u001b[39;00m\n\u001b[1;32m-> 1218\u001b[0m \u001b[38;5;28mself\u001b[39m\u001b[38;5;241m.\u001b[39mhandles \u001b[38;5;241m=\u001b[39m \u001b[43mget_handle\u001b[49m\u001b[43m(\u001b[49m\u001b[43m  \u001b[49m\u001b[38;5;66;43;03m# type: ignore[call-overload]\u001b[39;49;00m\n\u001b[0;32m   1219\u001b[0m \u001b[43m    \u001b[49m\u001b[43mf\u001b[49m\u001b[43m,\u001b[49m\n\u001b[0;32m   1220\u001b[0m \u001b[43m    \u001b[49m\u001b[43mmode\u001b[49m\u001b[43m,\u001b[49m\n\u001b[0;32m   1221\u001b[0m \u001b[43m    \u001b[49m\u001b[43mencoding\u001b[49m\u001b[38;5;241;43m=\u001b[39;49m\u001b[38;5;28;43mself\u001b[39;49m\u001b[38;5;241;43m.\u001b[39;49m\u001b[43moptions\u001b[49m\u001b[38;5;241;43m.\u001b[39;49m\u001b[43mget\u001b[49m\u001b[43m(\u001b[49m\u001b[38;5;124;43m\"\u001b[39;49m\u001b[38;5;124;43mencoding\u001b[39;49m\u001b[38;5;124;43m\"\u001b[39;49m\u001b[43m,\u001b[49m\u001b[43m \u001b[49m\u001b[38;5;28;43;01mNone\u001b[39;49;00m\u001b[43m)\u001b[49m\u001b[43m,\u001b[49m\n\u001b[0;32m   1222\u001b[0m \u001b[43m    \u001b[49m\u001b[43mcompression\u001b[49m\u001b[38;5;241;43m=\u001b[39;49m\u001b[38;5;28;43mself\u001b[39;49m\u001b[38;5;241;43m.\u001b[39;49m\u001b[43moptions\u001b[49m\u001b[38;5;241;43m.\u001b[39;49m\u001b[43mget\u001b[49m\u001b[43m(\u001b[49m\u001b[38;5;124;43m\"\u001b[39;49m\u001b[38;5;124;43mcompression\u001b[39;49m\u001b[38;5;124;43m\"\u001b[39;49m\u001b[43m,\u001b[49m\u001b[43m \u001b[49m\u001b[38;5;28;43;01mNone\u001b[39;49;00m\u001b[43m)\u001b[49m\u001b[43m,\u001b[49m\n\u001b[0;32m   1223\u001b[0m \u001b[43m    \u001b[49m\u001b[43mmemory_map\u001b[49m\u001b[38;5;241;43m=\u001b[39;49m\u001b[38;5;28;43mself\u001b[39;49m\u001b[38;5;241;43m.\u001b[39;49m\u001b[43moptions\u001b[49m\u001b[38;5;241;43m.\u001b[39;49m\u001b[43mget\u001b[49m\u001b[43m(\u001b[49m\u001b[38;5;124;43m\"\u001b[39;49m\u001b[38;5;124;43mmemory_map\u001b[39;49m\u001b[38;5;124;43m\"\u001b[39;49m\u001b[43m,\u001b[49m\u001b[43m \u001b[49m\u001b[38;5;28;43;01mFalse\u001b[39;49;00m\u001b[43m)\u001b[49m\u001b[43m,\u001b[49m\n\u001b[0;32m   1224\u001b[0m \u001b[43m    \u001b[49m\u001b[43mis_text\u001b[49m\u001b[38;5;241;43m=\u001b[39;49m\u001b[43mis_text\u001b[49m\u001b[43m,\u001b[49m\n\u001b[0;32m   1225\u001b[0m \u001b[43m    \u001b[49m\u001b[43merrors\u001b[49m\u001b[38;5;241;43m=\u001b[39;49m\u001b[38;5;28;43mself\u001b[39;49m\u001b[38;5;241;43m.\u001b[39;49m\u001b[43moptions\u001b[49m\u001b[38;5;241;43m.\u001b[39;49m\u001b[43mget\u001b[49m\u001b[43m(\u001b[49m\u001b[38;5;124;43m\"\u001b[39;49m\u001b[38;5;124;43mencoding_errors\u001b[39;49m\u001b[38;5;124;43m\"\u001b[39;49m\u001b[43m,\u001b[49m\u001b[43m \u001b[49m\u001b[38;5;124;43m\"\u001b[39;49m\u001b[38;5;124;43mstrict\u001b[39;49m\u001b[38;5;124;43m\"\u001b[39;49m\u001b[43m)\u001b[49m\u001b[43m,\u001b[49m\n\u001b[0;32m   1226\u001b[0m \u001b[43m    \u001b[49m\u001b[43mstorage_options\u001b[49m\u001b[38;5;241;43m=\u001b[39;49m\u001b[38;5;28;43mself\u001b[39;49m\u001b[38;5;241;43m.\u001b[39;49m\u001b[43moptions\u001b[49m\u001b[38;5;241;43m.\u001b[39;49m\u001b[43mget\u001b[49m\u001b[43m(\u001b[49m\u001b[38;5;124;43m\"\u001b[39;49m\u001b[38;5;124;43mstorage_options\u001b[39;49m\u001b[38;5;124;43m\"\u001b[39;49m\u001b[43m,\u001b[49m\u001b[43m \u001b[49m\u001b[38;5;28;43;01mNone\u001b[39;49;00m\u001b[43m)\u001b[49m\u001b[43m,\u001b[49m\n\u001b[0;32m   1227\u001b[0m \u001b[43m\u001b[49m\u001b[43m)\u001b[49m\n\u001b[0;32m   1228\u001b[0m \u001b[38;5;28;01massert\u001b[39;00m \u001b[38;5;28mself\u001b[39m\u001b[38;5;241m.\u001b[39mhandles \u001b[38;5;129;01mis\u001b[39;00m \u001b[38;5;129;01mnot\u001b[39;00m \u001b[38;5;28;01mNone\u001b[39;00m\n\u001b[0;32m   1229\u001b[0m f \u001b[38;5;241m=\u001b[39m \u001b[38;5;28mself\u001b[39m\u001b[38;5;241m.\u001b[39mhandles\u001b[38;5;241m.\u001b[39mhandle\n",
      "File \u001b[1;32m~\\AppData\\Roaming\\Python\\Python310\\site-packages\\pandas\\io\\common.py:786\u001b[0m, in \u001b[0;36mget_handle\u001b[1;34m(path_or_buf, mode, encoding, compression, memory_map, is_text, errors, storage_options)\u001b[0m\n\u001b[0;32m    781\u001b[0m \u001b[38;5;28;01melif\u001b[39;00m \u001b[38;5;28misinstance\u001b[39m(handle, \u001b[38;5;28mstr\u001b[39m):\n\u001b[0;32m    782\u001b[0m     \u001b[38;5;66;03m# Check whether the filename is to be opened in binary mode.\u001b[39;00m\n\u001b[0;32m    783\u001b[0m     \u001b[38;5;66;03m# Binary mode does not support 'encoding' and 'newline'.\u001b[39;00m\n\u001b[0;32m    784\u001b[0m     \u001b[38;5;28;01mif\u001b[39;00m ioargs\u001b[38;5;241m.\u001b[39mencoding \u001b[38;5;129;01mand\u001b[39;00m \u001b[38;5;124m\"\u001b[39m\u001b[38;5;124mb\u001b[39m\u001b[38;5;124m\"\u001b[39m \u001b[38;5;129;01mnot\u001b[39;00m \u001b[38;5;129;01min\u001b[39;00m ioargs\u001b[38;5;241m.\u001b[39mmode:\n\u001b[0;32m    785\u001b[0m         \u001b[38;5;66;03m# Encoding\u001b[39;00m\n\u001b[1;32m--> 786\u001b[0m         handle \u001b[38;5;241m=\u001b[39m \u001b[38;5;28;43mopen\u001b[39;49m\u001b[43m(\u001b[49m\n\u001b[0;32m    787\u001b[0m \u001b[43m            \u001b[49m\u001b[43mhandle\u001b[49m\u001b[43m,\u001b[49m\n\u001b[0;32m    788\u001b[0m \u001b[43m            \u001b[49m\u001b[43mioargs\u001b[49m\u001b[38;5;241;43m.\u001b[39;49m\u001b[43mmode\u001b[49m\u001b[43m,\u001b[49m\n\u001b[0;32m    789\u001b[0m \u001b[43m            \u001b[49m\u001b[43mencoding\u001b[49m\u001b[38;5;241;43m=\u001b[39;49m\u001b[43mioargs\u001b[49m\u001b[38;5;241;43m.\u001b[39;49m\u001b[43mencoding\u001b[49m\u001b[43m,\u001b[49m\n\u001b[0;32m    790\u001b[0m \u001b[43m            \u001b[49m\u001b[43merrors\u001b[49m\u001b[38;5;241;43m=\u001b[39;49m\u001b[43merrors\u001b[49m\u001b[43m,\u001b[49m\n\u001b[0;32m    791\u001b[0m \u001b[43m            \u001b[49m\u001b[43mnewline\u001b[49m\u001b[38;5;241;43m=\u001b[39;49m\u001b[38;5;124;43m\"\u001b[39;49m\u001b[38;5;124;43m\"\u001b[39;49m\u001b[43m,\u001b[49m\n\u001b[0;32m    792\u001b[0m \u001b[43m        \u001b[49m\u001b[43m)\u001b[49m\n\u001b[0;32m    793\u001b[0m     \u001b[38;5;28;01melse\u001b[39;00m:\n\u001b[0;32m    794\u001b[0m         \u001b[38;5;66;03m# Binary mode\u001b[39;00m\n\u001b[0;32m    795\u001b[0m         handle \u001b[38;5;241m=\u001b[39m \u001b[38;5;28mopen\u001b[39m(handle, ioargs\u001b[38;5;241m.\u001b[39mmode)\n",
      "\u001b[1;31mFileNotFoundError\u001b[0m: [Errno 2] No such file or directory: 'dataset/takernontaker.csv'"
     ]
    }
   ],
   "source": [
    "tnt = pd.read_csv('dataset/takernontaker.csv', delimiter=',')"
   ]
  },
  {
   "cell_type": "code",
   "execution_count": null,
   "id": "813dc605",
   "metadata": {},
   "outputs": [],
   "source": [
    "tnt['PPU']=tnt['Sales']/(tnt['Order_Qty'])"
   ]
  },
  {
   "cell_type": "code",
   "execution_count": null,
   "id": "1e800235",
   "metadata": {},
   "outputs": [],
   "source": [
    "tnt['Profit_Margin']=tnt['Profit']/(tnt['Sales'])"
   ]
  },
  {
   "cell_type": "code",
   "execution_count": null,
   "id": "bfc86d3b",
   "metadata": {},
   "outputs": [],
   "source": [
    "tnt[\"taker\"] = tnt[\"nontaker\"].astype(int)"
   ]
  },
  {
   "cell_type": "code",
   "execution_count": null,
   "id": "ba0ff5e4",
   "metadata": {},
   "outputs": [],
   "source": [
    "tnt[\"nontaker\"] = tnt[\"flag_taker\"].astype(int)"
   ]
  },
  {
   "cell_type": "code",
   "execution_count": null,
   "id": "3cdd357e",
   "metadata": {},
   "outputs": [],
   "source": [
    "tnt.head(5)"
   ]
  },
  {
   "cell_type": "code",
   "execution_count": null,
   "id": "4370e950",
   "metadata": {
    "scrolled": false,
    "slideshow": {
     "slide_type": "subslide"
    }
   },
   "outputs": [],
   "source": [
    "fig_taker = px.pie(tnt, values='taker', names='Product_Category', title=\"Taker by Product Category\")\n",
    "fig_taker.show()\n",
    "\n",
    "fig_nontaker = px.pie(tnt, values='nontaker', names='Product_Category', title=\"Non Taker by Product Category\")\n",
    "fig_nontaker.show()"
   ]
  },
  {
   "cell_type": "code",
   "execution_count": null,
   "id": "00c8d17b",
   "metadata": {
    "slideshow": {
     "slide_type": "subslide"
    }
   },
   "outputs": [],
   "source": [
    "fig_potaker = px.histogram(tnt, x=\"Product_Category\", y=\"nontaker\",\n",
    "                           title='Meningkatkan Wishlist  efficiency. Hanya di targetkan untuk potential takers',\n",
    "                           histfunc='sum',height=400)\n",
    "fig_potaker.update_layout(barmode='stack', xaxis={'categoryorder':'total descending'})\n",
    "fig_potaker.show()"
   ]
  },
  {
   "cell_type": "code",
   "execution_count": null,
   "id": "89407e0f",
   "metadata": {
    "slideshow": {
     "slide_type": "subslide"
    }
   },
   "outputs": [],
   "source": [
    "fig_evaluasiprogram = px.histogram(tnt, x=\"Product_Category\", y=[\"Profit_Margin\", \"taker\", \"nontaker\"],text_auto='.2s',\n",
    "                           title='Evaluasi program campaign berdasarkan costumer profile',\n",
    "                           histfunc='sum',height=400)\n",
    "fig_evaluasiprogram.update_layout(barmode='stack', xaxis={'categoryorder':'total descending'})\n",
    "fig_evaluasiprogram.show()"
   ]
  },
  {
   "cell_type": "markdown",
   "id": "d85cb42c",
   "metadata": {
    "slideshow": {
     "slide_type": "slide"
    }
   },
   "source": [
    "## Forecast Profit Fastener"
   ]
  },
  {
   "cell_type": "code",
   "execution_count": null,
   "id": "58950ad4",
   "metadata": {
    "scrolled": true,
    "slideshow": {
     "slide_type": "subslide"
    }
   },
   "outputs": [],
   "source": [
    "df_filtered = df[df['Product_Category'] == 'Fastener']\n",
    "df_filtered.head()"
   ]
  },
  {
   "cell_type": "code",
   "execution_count": null,
   "id": "7923508b",
   "metadata": {
    "scrolled": true,
    "slideshow": {
     "slide_type": "subslide"
    }
   },
   "outputs": [],
   "source": [
    "df2 = df_filtered.drop(['flag_taker', 'los', 'Order_Qty', 'PPU', 'COS', 'Sales', 'Profit_Margin', 'Product_Name', 'Brand_Name', 'Product_Category', 'klaster', 'klaster_II'], axis=1)\n",
    "df2.head(5)"
   ]
  },
  {
   "cell_type": "code",
   "execution_count": null,
   "id": "250e7154",
   "metadata": {
    "slideshow": {
     "slide_type": "subslide"
    }
   },
   "outputs": [],
   "source": [
    "df2 = df2.set_index('Datetime')\n",
    "df2.index = pd.to_datetime(df2.index)"
   ]
  },
  {
   "cell_type": "code",
   "execution_count": null,
   "id": "b0e48018",
   "metadata": {
    "slideshow": {
     "slide_type": "subslide"
    }
   },
   "outputs": [],
   "source": [
    "df2.plot(style='.',\n",
    "        figsize=(15, 5),\n",
    "        color=color_pal[0],\n",
    "        title='Profit')\n",
    "plt.show()"
   ]
  },
  {
   "cell_type": "markdown",
   "id": "11062d18",
   "metadata": {
    "slideshow": {
     "slide_type": "slide"
    }
   },
   "source": [
    "## Outlier Analysis and removal"
   ]
  },
  {
   "cell_type": "code",
   "execution_count": null,
   "id": "838ac4ca",
   "metadata": {
    "slideshow": {
     "slide_type": "subslide"
    }
   },
   "outputs": [],
   "source": [
    "df2['Profit'].plot(kind='hist', bins=500)"
   ]
  },
  {
   "cell_type": "code",
   "execution_count": null,
   "id": "fe99e405",
   "metadata": {
    "slideshow": {
     "slide_type": "subslide"
    }
   },
   "outputs": [],
   "source": [
    "df2.query('Profit < -2000000')['Profit'] \\\n",
    "    .plot(style='.',\n",
    "          figsize=(15, 5),\n",
    "          color=color_pal[5],\n",
    "          title='Outliers')"
   ]
  },
  {
   "cell_type": "code",
   "execution_count": null,
   "id": "b9a60b86",
   "metadata": {
    "slideshow": {
     "slide_type": "subslide"
    }
   },
   "outputs": [],
   "source": [
    "df2.query('Profit > 15000000')['Profit'] \\\n",
    "    .plot(style='.',\n",
    "          figsize=(15, 5),\n",
    "          color=color_pal[5],\n",
    "          title='Outliers')"
   ]
  },
  {
   "cell_type": "code",
   "execution_count": null,
   "id": "75ae67e8",
   "metadata": {
    "slideshow": {
     "slide_type": "subslide"
    }
   },
   "outputs": [],
   "source": [
    "df2 = df2.query('Profit > -2000000').copy()\n",
    "df2 = df2.query('Profit < 15000000').copy()"
   ]
  },
  {
   "cell_type": "markdown",
   "id": "57400b5c",
   "metadata": {
    "slideshow": {
     "slide_type": "slide"
    }
   },
   "source": [
    "## Train/Split Test"
   ]
  },
  {
   "cell_type": "markdown",
   "id": "d8310d87",
   "metadata": {
    "slideshow": {
     "slide_type": "slide"
    }
   },
   "source": [
    "## Time Series Cross Validation"
   ]
  },
  {
   "cell_type": "code",
   "execution_count": null,
   "id": "ac155f35",
   "metadata": {
    "slideshow": {
     "slide_type": "subslide"
    }
   },
   "outputs": [],
   "source": [
    "from sklearn.model_selection import TimeSeriesSplit\n",
    "\n",
    "tss = TimeSeriesSplit(n_splits=5, test_size=30, gap=0)\n",
    "df2 = df2.sort_index()"
   ]
  },
  {
   "cell_type": "code",
   "execution_count": null,
   "id": "58ae5494",
   "metadata": {
    "slideshow": {
     "slide_type": "subslide"
    }
   },
   "outputs": [],
   "source": [
    "fig, axs = plt.subplots(5, 1, figsize=(15, 15), sharex=True)\n",
    "\n",
    "fold = 0\n",
    "for train_idx, val_idx in tss.split(df2):\n",
    "    train = df2.iloc[train_idx]\n",
    "    test = df2.iloc[val_idx]\n",
    "    train['Profit'].plot(ax=axs[fold],\n",
    "                          label='Training Set',\n",
    "                          title=f'Data Train/Test Split Fold {fold}')\n",
    "    test['Profit'].plot(ax=axs[fold],\n",
    "                         label='Test Set')\n",
    "    axs[fold].axvline(test.index.min(), color='black', ls='--')\n",
    "    fold += 1\n",
    "plt.show()"
   ]
  },
  {
   "cell_type": "markdown",
   "id": "45d8bd21",
   "metadata": {
    "slideshow": {
     "slide_type": "slide"
    }
   },
   "source": [
    "## Forecasting Horizon"
   ]
  },
  {
   "cell_type": "code",
   "execution_count": null,
   "id": "800b476c",
   "metadata": {
    "slideshow": {
     "slide_type": "subslide"
    }
   },
   "outputs": [],
   "source": [
    "def create_features(df2):\n",
    "    df2 = df2.copy()\n",
    "    df2['dayofweek'] = df2.index.dayofweek\n",
    "    df2['quarter'] = df2.index.quarter\n",
    "    df2['month'] = df2.index.month\n",
    "    df2['year'] = df2.index.year\n",
    "    df2['dayofyear'] = df2.index.dayofyear\n",
    "    df2['dayofmonth'] = df2.index.day\n",
    "    df2['weekofyear'] = df2.index.isocalendar().week\n",
    "    return df2\n",
    "\n",
    "df2 = create_features(df2)"
   ]
  },
  {
   "cell_type": "markdown",
   "id": "ae3a00b5",
   "metadata": {
    "slideshow": {
     "slide_type": "slide"
    }
   },
   "source": [
    "## Lag features"
   ]
  },
  {
   "cell_type": "code",
   "execution_count": null,
   "id": "481200fd",
   "metadata": {
    "slideshow": {
     "slide_type": "subslide"
    }
   },
   "outputs": [],
   "source": [
    "def add_lags(df2):\n",
    "    target_map = df2['Profit'].to_dict()\n",
    "    df2['lag1'] = (df2.index - pd.Timedelta('364 days')).map(target_map)\n",
    "    df2['lag2'] = (df2.index - pd.Timedelta('728 days')).map(target_map)\n",
    "    df2['lag3'] = (df2.index - pd.Timedelta('1092 days')).map(target_map)\n",
    "    return df2"
   ]
  },
  {
   "cell_type": "code",
   "execution_count": null,
   "id": "5118dc82",
   "metadata": {
    "slideshow": {
     "slide_type": "subslide"
    }
   },
   "outputs": [],
   "source": [
    "df2 = add_lags(df2)"
   ]
  },
  {
   "cell_type": "markdown",
   "id": "14c38d9f",
   "metadata": {
    "slideshow": {
     "slide_type": "slide"
    }
   },
   "source": [
    "## Train Using Cross Validation"
   ]
  },
  {
   "cell_type": "code",
   "execution_count": null,
   "id": "1694a0a5",
   "metadata": {
    "slideshow": {
     "slide_type": "subslide"
    }
   },
   "outputs": [],
   "source": [
    "tss = TimeSeriesSplit(n_splits=5, test_size=30, gap=0)\n",
    "df2 = df2.sort_index()\n",
    "\n",
    "\n",
    "fold = 0\n",
    "preds = []\n",
    "scores = []\n",
    "for train_idx, val_idx in tss.split(df2):\n",
    "    train = df2.iloc[train_idx]\n",
    "    test = df2.iloc[val_idx]\n",
    "\n",
    "    train = create_features(train)\n",
    "    test = create_features(test)\n",
    "\n",
    "    FEATURES = ['dayofyear', 'dayofweek', 'quarter', 'month','year',\n",
    "                'lag1','lag2','lag3']\n",
    "    TARGET = 'Profit'\n",
    "\n",
    "    X_train = train[FEATURES]\n",
    "    y_train = train[TARGET]\n",
    "\n",
    "    X_test = test[FEATURES]\n",
    "    y_test = test[TARGET]\n",
    "\n",
    "    reg = xgb.XGBRegressor(base_score=0.5, booster='gbtree',    \n",
    "                           n_estimators=1000,\n",
    "                           early_stopping_rounds=50,\n",
    "                           objective='reg:linear',\n",
    "                           max_depth=3,\n",
    "                           learning_rate=0.01)\n",
    "    reg.fit(X_train, y_train,\n",
    "            eval_set=[(X_train, y_train), (X_test, y_test)],\n",
    "            verbose=100)\n",
    "\n",
    "    y_pred = reg.predict(X_test)\n",
    "    preds.append(y_pred)\n",
    "    score = np.sqrt(mean_squared_error(y_test, y_pred))\n",
    "    scores.append(score)"
   ]
  },
  {
   "cell_type": "code",
   "execution_count": null,
   "id": "a89b0c1b",
   "metadata": {
    "slideshow": {
     "slide_type": "subslide"
    }
   },
   "outputs": [],
   "source": [
    "print(f'Score across folds {np.mean(scores):0.4f}')\n",
    "print(f'Fold scores:{scores}')"
   ]
  },
  {
   "cell_type": "markdown",
   "id": "4a8b9581",
   "metadata": {
    "slideshow": {
     "slide_type": "slide"
    }
   },
   "source": [
    "## Predicting into the future"
   ]
  },
  {
   "cell_type": "code",
   "execution_count": null,
   "id": "f1bd3038",
   "metadata": {
    "slideshow": {
     "slide_type": "subslide"
    }
   },
   "outputs": [],
   "source": [
    "df2 = create_features(df2)\n",
    "\n",
    "FEATURES = ['dayofyear', 'dayofweek', 'quarter', 'month', 'year',\n",
    "            'lag1','lag2','lag3']\n",
    "TARGET = 'Profit'\n",
    "\n",
    "X_all = df2[FEATURES]\n",
    "y_all = df2[TARGET]\n",
    "\n",
    "reg = xgb.XGBRegressor(base_score=0.5,\n",
    "                       booster='gbtree',    \n",
    "                       n_estimators=300,\n",
    "                       objective='reg:linear',\n",
    "                       max_depth=3,\n",
    "                       learning_rate=0.01)\n",
    "reg.fit(X_all, y_all,\n",
    "        eval_set=[(X_all, y_all)],\n",
    "        verbose=100)"
   ]
  },
  {
   "cell_type": "code",
   "execution_count": null,
   "id": "7b8100b5",
   "metadata": {
    "slideshow": {
     "slide_type": "subslide"
    }
   },
   "outputs": [],
   "source": [
    "df2.index.max()"
   ]
  },
  {
   "cell_type": "code",
   "execution_count": null,
   "id": "6dd20428",
   "metadata": {
    "slideshow": {
     "slide_type": "subslide"
    }
   },
   "outputs": [],
   "source": [
    "future = pd.date_range('2022-05-01','2023-05-01')\n",
    "future_df = pd.DataFrame(index=future)\n",
    "future_df['isFuture'] = True\n",
    "df2['isFuture'] = False\n",
    "df2_and_future = pd.concat([df2, future_df])\n",
    "df2_and_future = create_features(df2_and_future)\n",
    "df2_and_future = add_lags(df2_and_future)"
   ]
  },
  {
   "cell_type": "code",
   "execution_count": null,
   "id": "9fb03fc1",
   "metadata": {
    "slideshow": {
     "slide_type": "subslide"
    }
   },
   "outputs": [],
   "source": [
    "future_w_features = df2_and_future.query('isFuture').copy()"
   ]
  },
  {
   "cell_type": "code",
   "execution_count": null,
   "id": "aed47205",
   "metadata": {
    "slideshow": {
     "slide_type": "subslide"
    }
   },
   "outputs": [],
   "source": [
    "future_w_features['pred'] = reg.predict(future_w_features[FEATURES])"
   ]
  },
  {
   "cell_type": "code",
   "execution_count": null,
   "id": "431721a5",
   "metadata": {
    "scrolled": false,
    "slideshow": {
     "slide_type": "subslide"
    }
   },
   "outputs": [],
   "source": [
    "future_w_features['pred'].plot(figsize=(10, 5),\n",
    "                               color=color_pal[4],\n",
    "                               ms=1,\n",
    "                               lw=1,\n",
    "                               title='Future Predictions Fastener')\n",
    "plt.show()"
   ]
  },
  {
   "cell_type": "code",
   "execution_count": null,
   "id": "26976c2f",
   "metadata": {
    "slideshow": {
     "slide_type": "skip"
    }
   },
   "outputs": [],
   "source": []
  },
  {
   "cell_type": "markdown",
   "id": "2568ebdf",
   "metadata": {
    "slideshow": {
     "slide_type": "slide"
    }
   },
   "source": [
    "## Forecast Builder Hardware Profit"
   ]
  },
  {
   "cell_type": "code",
   "execution_count": null,
   "id": "3cc50868",
   "metadata": {
    "scrolled": true,
    "slideshow": {
     "slide_type": "subslide"
    }
   },
   "outputs": [],
   "source": [
    "df_filtered2 = df[df['Product_Category'] == 'Builder Hardware']\n",
    "df_filtered2.head()"
   ]
  },
  {
   "cell_type": "code",
   "execution_count": null,
   "id": "a6b3db96",
   "metadata": {
    "scrolled": true,
    "slideshow": {
     "slide_type": "subslide"
    }
   },
   "outputs": [],
   "source": [
    "df3 = df_filtered2.drop(['flag_taker', 'los', 'Order_Qty', 'PPU', 'COS', 'Sales', 'Profit_Margin', 'Product_Name', 'Brand_Name', 'Product_Category', 'klaster', 'klaster_II'], axis=1)\n",
    "df3.head(5)"
   ]
  },
  {
   "cell_type": "code",
   "execution_count": null,
   "id": "135ab2ea",
   "metadata": {
    "slideshow": {
     "slide_type": "subslide"
    }
   },
   "outputs": [],
   "source": [
    "df3 = df3.set_index('Datetime')\n",
    "df3.index = pd.to_datetime(df3.index)"
   ]
  },
  {
   "cell_type": "code",
   "execution_count": null,
   "id": "c059a609",
   "metadata": {
    "slideshow": {
     "slide_type": "subslide"
    }
   },
   "outputs": [],
   "source": [
    "df3.plot(style='.',\n",
    "        figsize=(15, 5),\n",
    "        color=color_pal[0],\n",
    "        title='Profit')\n",
    "plt.show()"
   ]
  },
  {
   "cell_type": "markdown",
   "id": "82daa32d",
   "metadata": {
    "slideshow": {
     "slide_type": "slide"
    }
   },
   "source": [
    "## Outlier Analysis and removal"
   ]
  },
  {
   "cell_type": "code",
   "execution_count": null,
   "id": "90171b72",
   "metadata": {
    "slideshow": {
     "slide_type": "subslide"
    }
   },
   "outputs": [],
   "source": [
    "df3['Profit'].plot(kind='hist', bins=500)"
   ]
  },
  {
   "cell_type": "code",
   "execution_count": null,
   "id": "1b05f9ba",
   "metadata": {
    "slideshow": {
     "slide_type": "subslide"
    }
   },
   "outputs": [],
   "source": [
    "df3.query('Profit < -1000000')['Profit'] \\\n",
    "    .plot(style='.',\n",
    "          figsize=(15, 5),\n",
    "          color=color_pal[5],\n",
    "          title='Outliers')"
   ]
  },
  {
   "cell_type": "code",
   "execution_count": null,
   "id": "cd7a4740",
   "metadata": {
    "slideshow": {
     "slide_type": "subslide"
    }
   },
   "outputs": [],
   "source": [
    "df3.query('Profit > 14000000')['Profit'] \\\n",
    "    .plot(style='.',\n",
    "          figsize=(15, 5),\n",
    "          color=color_pal[5],\n",
    "          title='Outliers')"
   ]
  },
  {
   "cell_type": "code",
   "execution_count": null,
   "id": "9c8e7515",
   "metadata": {
    "slideshow": {
     "slide_type": "subslide"
    }
   },
   "outputs": [],
   "source": [
    "df3 = df3.query('Profit > -1000000').copy()\n",
    "df3 = df3.query('Profit < 14000000').copy()"
   ]
  },
  {
   "cell_type": "markdown",
   "id": "4ea43a7c",
   "metadata": {
    "slideshow": {
     "slide_type": "slide"
    }
   },
   "source": [
    "## Train/Split Test"
   ]
  },
  {
   "cell_type": "markdown",
   "id": "2e55c624",
   "metadata": {
    "slideshow": {
     "slide_type": "slide"
    }
   },
   "source": [
    "## Time Series Cross Validation"
   ]
  },
  {
   "cell_type": "code",
   "execution_count": null,
   "id": "4c027667",
   "metadata": {
    "slideshow": {
     "slide_type": "subslide"
    }
   },
   "outputs": [],
   "source": [
    "from sklearn.model_selection import TimeSeriesSplit\n",
    "\n",
    "tss = TimeSeriesSplit(n_splits=5, test_size=30, gap=0)\n",
    "df3 = df3.sort_index()"
   ]
  },
  {
   "cell_type": "code",
   "execution_count": null,
   "id": "4b1ba069",
   "metadata": {
    "slideshow": {
     "slide_type": "subslide"
    }
   },
   "outputs": [],
   "source": [
    "fig, axs = plt.subplots(5, 1, figsize=(15, 15), sharex=True)\n",
    "\n",
    "fold = 0\n",
    "for train_idx, val_idx in tss.split(df3):\n",
    "    train = df3.iloc[train_idx]\n",
    "    test = df3.iloc[val_idx]\n",
    "    train['Profit'].plot(ax=axs[fold],\n",
    "                          label='Training Set',\n",
    "                          title=f'Data Train/Test Split Fold {fold}')\n",
    "    test['Profit'].plot(ax=axs[fold],\n",
    "                         label='Test Set')\n",
    "    axs[fold].axvline(test.index.min(), color='black', ls='--')\n",
    "    fold += 1\n",
    "plt.show()"
   ]
  },
  {
   "cell_type": "markdown",
   "id": "add6c943",
   "metadata": {
    "slideshow": {
     "slide_type": "slide"
    }
   },
   "source": [
    "## Forecasting Horizon"
   ]
  },
  {
   "cell_type": "code",
   "execution_count": null,
   "id": "7cc108b4",
   "metadata": {
    "slideshow": {
     "slide_type": "subslide"
    }
   },
   "outputs": [],
   "source": [
    "def create_features(df3):\n",
    "    df3 = df3.copy()\n",
    "    df3['dayofweek'] = df3.index.dayofweek\n",
    "    df3['quarter'] = df3.index.quarter\n",
    "    df3['month'] = df3.index.month\n",
    "    df3['year'] = df3.index.year\n",
    "    df3['dayofyear'] = df3.index.dayofyear\n",
    "    df3['dayofmonth'] = df3.index.day\n",
    "    df3['weekofyear'] = df3.index.isocalendar().week\n",
    "    return df3\n",
    "\n",
    "df3 = create_features(df3)"
   ]
  },
  {
   "cell_type": "markdown",
   "id": "3898663d",
   "metadata": {
    "slideshow": {
     "slide_type": "slide"
    }
   },
   "source": [
    "## Lag features"
   ]
  },
  {
   "cell_type": "code",
   "execution_count": null,
   "id": "28347c30",
   "metadata": {
    "slideshow": {
     "slide_type": "subslide"
    }
   },
   "outputs": [],
   "source": [
    "def add_lags(df3):\n",
    "    target_map = df3['Profit'].to_dict()\n",
    "    df3['lag1'] = (df3.index - pd.Timedelta('364 days')).map(target_map)\n",
    "    df3['lag2'] = (df3.index - pd.Timedelta('728 days')).map(target_map)\n",
    "    df3['lag3'] = (df3.index - pd.Timedelta('1092 days')).map(target_map)\n",
    "    return df3"
   ]
  },
  {
   "cell_type": "code",
   "execution_count": null,
   "id": "f1fb1550",
   "metadata": {
    "slideshow": {
     "slide_type": "subslide"
    }
   },
   "outputs": [],
   "source": [
    "df3 = add_lags(df3)"
   ]
  },
  {
   "cell_type": "markdown",
   "id": "acc831a0",
   "metadata": {
    "slideshow": {
     "slide_type": "slide"
    }
   },
   "source": [
    "## Train Using Cross Validation"
   ]
  },
  {
   "cell_type": "code",
   "execution_count": null,
   "id": "a7353b0d",
   "metadata": {
    "slideshow": {
     "slide_type": "subslide"
    }
   },
   "outputs": [],
   "source": [
    "tss = TimeSeriesSplit(n_splits=5, test_size=30, gap=0)\n",
    "df3 = df3.sort_index()\n",
    "\n",
    "\n",
    "fold = 0\n",
    "preds = []\n",
    "scores = []\n",
    "for train_idx, val_idx in tss.split(df3):\n",
    "    train = df3.iloc[train_idx]\n",
    "    test = df3.iloc[val_idx]\n",
    "\n",
    "    train = create_features(train)\n",
    "    test = create_features(test)\n",
    "\n",
    "    FEATURES = ['dayofyear', 'dayofweek', 'quarter', 'month','year',\n",
    "                'lag1','lag2','lag3']\n",
    "    TARGET = 'Profit'\n",
    "\n",
    "    X_train = train[FEATURES]\n",
    "    y_train = train[TARGET]\n",
    "\n",
    "    X_test = test[FEATURES]\n",
    "    y_test = test[TARGET]\n",
    "\n",
    "    reg = xgb.XGBRegressor(base_score=0.5, booster='gbtree',    \n",
    "                           n_estimators=1000,\n",
    "                           early_stopping_rounds=50,\n",
    "                           objective='reg:linear',\n",
    "                           max_depth=3,\n",
    "                           learning_rate=0.01)\n",
    "    reg.fit(X_train, y_train,\n",
    "            eval_set=[(X_train, y_train), (X_test, y_test)],\n",
    "            verbose=100)\n",
    "\n",
    "    y_pred = reg.predict(X_test)\n",
    "    preds.append(y_pred)\n",
    "    score = np.sqrt(mean_squared_error(y_test, y_pred))\n",
    "    scores.append(score)"
   ]
  },
  {
   "cell_type": "code",
   "execution_count": null,
   "id": "685994bf",
   "metadata": {
    "slideshow": {
     "slide_type": "subslide"
    }
   },
   "outputs": [],
   "source": [
    "print(f'Score across folds {np.mean(scores):0.4f}')\n",
    "print(f'Fold scores:{scores}')"
   ]
  },
  {
   "cell_type": "markdown",
   "id": "39c0d1e4",
   "metadata": {
    "slideshow": {
     "slide_type": "slide"
    }
   },
   "source": [
    "## Predicting into the future"
   ]
  },
  {
   "cell_type": "code",
   "execution_count": null,
   "id": "2bfde366",
   "metadata": {
    "slideshow": {
     "slide_type": "subslide"
    }
   },
   "outputs": [],
   "source": [
    "df3 = create_features(df3)\n",
    "\n",
    "FEATURES = ['dayofyear', 'dayofweek', 'quarter', 'month', 'year',\n",
    "            'lag1','lag2','lag3']\n",
    "TARGET = 'Profit'\n",
    "\n",
    "X_all = df3[FEATURES]\n",
    "y_all = df3[TARGET]\n",
    "\n",
    "reg = xgb.XGBRegressor(base_score=0.5,\n",
    "                       booster='gbtree',    \n",
    "                       n_estimators=300,\n",
    "                       objective='reg:linear',\n",
    "                       max_depth=3,\n",
    "                       learning_rate=0.01)\n",
    "reg.fit(X_all, y_all,\n",
    "        eval_set=[(X_all, y_all)],\n",
    "        verbose=100)"
   ]
  },
  {
   "cell_type": "code",
   "execution_count": null,
   "id": "da1c2049",
   "metadata": {
    "slideshow": {
     "slide_type": "subslide"
    }
   },
   "outputs": [],
   "source": [
    "df3.index.max()"
   ]
  },
  {
   "cell_type": "code",
   "execution_count": null,
   "id": "7ff4a129",
   "metadata": {
    "slideshow": {
     "slide_type": "subslide"
    }
   },
   "outputs": [],
   "source": [
    "future = pd.date_range('2022-04-27','2023-04-27')\n",
    "future_df = pd.DataFrame(index=future)\n",
    "future_df['isFuture'] = True\n",
    "df3['isFuture'] = False\n",
    "df3_and_future = pd.concat([df3, future_df])\n",
    "df3_and_future = create_features(df3_and_future)\n",
    "df3_and_future = add_lags(df3_and_future)"
   ]
  },
  {
   "cell_type": "code",
   "execution_count": null,
   "id": "8da3a98c",
   "metadata": {
    "slideshow": {
     "slide_type": "subslide"
    }
   },
   "outputs": [],
   "source": [
    "future_w_features2 = df3_and_future.query('isFuture').copy()"
   ]
  },
  {
   "cell_type": "code",
   "execution_count": null,
   "id": "55262289",
   "metadata": {
    "slideshow": {
     "slide_type": "subslide"
    }
   },
   "outputs": [],
   "source": [
    "future_w_features2['pred'] = reg.predict(future_w_features2[FEATURES])"
   ]
  },
  {
   "cell_type": "code",
   "execution_count": null,
   "id": "b5e99898",
   "metadata": {
    "scrolled": false,
    "slideshow": {
     "slide_type": "subslide"
    }
   },
   "outputs": [],
   "source": [
    "future_w_features2['pred'].plot(figsize=(15, 5),\n",
    "                               color=color_pal[4],\n",
    "                               ms=1,\n",
    "                               lw=1,\n",
    "                               title='Future Predictions Builder Hardware')\n",
    "plt.show()"
   ]
  },
  {
   "cell_type": "code",
   "execution_count": null,
   "id": "c568b003",
   "metadata": {
    "slideshow": {
     "slide_type": "skip"
    }
   },
   "outputs": [],
   "source": []
  },
  {
   "cell_type": "markdown",
   "id": "54d790b6",
   "metadata": {
    "slideshow": {
     "slide_type": "slide"
    }
   },
   "source": [
    "## Forecast Profit Hand Tools"
   ]
  },
  {
   "cell_type": "code",
   "execution_count": null,
   "id": "9a8956ba",
   "metadata": {
    "scrolled": true,
    "slideshow": {
     "slide_type": "subslide"
    }
   },
   "outputs": [],
   "source": [
    "df_filtered3 = df[df['Product_Category'] == 'Hand Tools']\n",
    "df_filtered3.head()"
   ]
  },
  {
   "cell_type": "code",
   "execution_count": null,
   "id": "ff93ad3b",
   "metadata": {
    "scrolled": true,
    "slideshow": {
     "slide_type": "subslide"
    }
   },
   "outputs": [],
   "source": [
    "df4 = df_filtered2.drop(['flag_taker', 'los', 'Order_Qty', 'PPU', 'COS', 'Sales', 'Profit_Margin', 'Product_Name', 'Brand_Name', 'Product_Category', 'klaster', 'klaster_II'], axis=1)\n",
    "df4.head(5)"
   ]
  },
  {
   "cell_type": "code",
   "execution_count": null,
   "id": "405061bd",
   "metadata": {
    "slideshow": {
     "slide_type": "subslide"
    }
   },
   "outputs": [],
   "source": [
    "df4 = df4.set_index('Datetime')\n",
    "df4.index = pd.to_datetime(df4.index)"
   ]
  },
  {
   "cell_type": "code",
   "execution_count": null,
   "id": "fb4caccf",
   "metadata": {
    "slideshow": {
     "slide_type": "subslide"
    }
   },
   "outputs": [],
   "source": [
    "df4.plot(style='.',\n",
    "        figsize=(15, 5),\n",
    "        color=color_pal[0],\n",
    "        title='Profit')\n",
    "plt.show()"
   ]
  },
  {
   "cell_type": "markdown",
   "id": "82fa18b1",
   "metadata": {
    "slideshow": {
     "slide_type": "slide"
    }
   },
   "source": [
    "## Outlier Analysis and removal"
   ]
  },
  {
   "cell_type": "code",
   "execution_count": null,
   "id": "4f8d1a7c",
   "metadata": {
    "slideshow": {
     "slide_type": "subslide"
    }
   },
   "outputs": [],
   "source": [
    "df4['Profit'].plot(kind='hist', bins=500)"
   ]
  },
  {
   "cell_type": "code",
   "execution_count": null,
   "id": "543ec835",
   "metadata": {
    "slideshow": {
     "slide_type": "subslide"
    }
   },
   "outputs": [],
   "source": [
    "df4.query('Profit < -400000')['Profit'] \\\n",
    "    .plot(style='.',\n",
    "          figsize=(15, 5),\n",
    "          color=color_pal[5],\n",
    "          title='Outliers')"
   ]
  },
  {
   "cell_type": "code",
   "execution_count": null,
   "id": "176612c4",
   "metadata": {
    "slideshow": {
     "slide_type": "subslide"
    }
   },
   "outputs": [],
   "source": [
    "df4.query('Profit > 11000000')['Profit'] \\\n",
    "    .plot(style='.',\n",
    "          figsize=(15, 5),\n",
    "          color=color_pal[5],\n",
    "          title='Outliers')"
   ]
  },
  {
   "cell_type": "code",
   "execution_count": null,
   "id": "30dc5ea2",
   "metadata": {
    "slideshow": {
     "slide_type": "subslide"
    }
   },
   "outputs": [],
   "source": [
    "df4 = df4.query('Profit > -400000').copy()\n",
    "df4 = df4.query('Profit < 11000000').copy()"
   ]
  },
  {
   "cell_type": "markdown",
   "id": "dd39946e",
   "metadata": {
    "slideshow": {
     "slide_type": "slide"
    }
   },
   "source": [
    "## Train/Split Test"
   ]
  },
  {
   "cell_type": "markdown",
   "id": "02471455",
   "metadata": {
    "slideshow": {
     "slide_type": "slide"
    }
   },
   "source": [
    "## Time Series Cross Validation"
   ]
  },
  {
   "cell_type": "code",
   "execution_count": null,
   "id": "fd80726b",
   "metadata": {
    "slideshow": {
     "slide_type": "subslide"
    }
   },
   "outputs": [],
   "source": [
    "from sklearn.model_selection import TimeSeriesSplit\n",
    "\n",
    "tss = TimeSeriesSplit(n_splits=5, test_size=30, gap=0)\n",
    "df4 = df4.sort_index()"
   ]
  },
  {
   "cell_type": "code",
   "execution_count": null,
   "id": "1f2f706c",
   "metadata": {
    "slideshow": {
     "slide_type": "subslide"
    }
   },
   "outputs": [],
   "source": [
    "fig, axs = plt.subplots(5, 1, figsize=(15, 15), sharex=True)\n",
    "\n",
    "fold = 0\n",
    "for train_idx, val_idx in tss.split(df4):\n",
    "    train = df4.iloc[train_idx]\n",
    "    test = df4.iloc[val_idx]\n",
    "    train['Profit'].plot(ax=axs[fold],\n",
    "                          label='Training Set',\n",
    "                          title=f'Data Train/Test Split Fold {fold}')\n",
    "    test['Profit'].plot(ax=axs[fold],\n",
    "                         label='Test Set')\n",
    "    axs[fold].axvline(test.index.min(), color='black', ls='--')\n",
    "    fold += 1\n",
    "plt.show()"
   ]
  },
  {
   "cell_type": "markdown",
   "id": "b29b7b8c",
   "metadata": {
    "slideshow": {
     "slide_type": "slide"
    }
   },
   "source": [
    "## Forecasting Horizon"
   ]
  },
  {
   "cell_type": "code",
   "execution_count": null,
   "id": "fd8483db",
   "metadata": {
    "slideshow": {
     "slide_type": "subslide"
    }
   },
   "outputs": [],
   "source": [
    "def create_features(df4):\n",
    "    df4 = df4.copy()\n",
    "    df4['dayofweek'] = df4.index.dayofweek\n",
    "    df4['quarter'] = df4.index.quarter\n",
    "    df4['month'] = df4.index.month\n",
    "    df4['year'] = df4.index.year\n",
    "    df4['dayofyear'] = df4.index.dayofyear\n",
    "    df4['dayofmonth'] = df4.index.day\n",
    "    df4['weekofyear'] = df4.index.isocalendar().week\n",
    "    return df4\n",
    "\n",
    "df4 = create_features(df4)"
   ]
  },
  {
   "cell_type": "markdown",
   "id": "4f20e8c8",
   "metadata": {
    "slideshow": {
     "slide_type": "subslide"
    }
   },
   "source": [
    "## Lag features"
   ]
  },
  {
   "cell_type": "code",
   "execution_count": null,
   "id": "e57d147c",
   "metadata": {
    "slideshow": {
     "slide_type": "slide"
    }
   },
   "outputs": [],
   "source": [
    "def add_lags(df4):\n",
    "    target_map = df4['Profit'].to_dict()\n",
    "    df4['lag1'] = (df4.index - pd.Timedelta('364 days')).map(target_map)\n",
    "    df4['lag2'] = (df4.index - pd.Timedelta('728 days')).map(target_map)\n",
    "    df4['lag3'] = (df4.index - pd.Timedelta('1092 days')).map(target_map)\n",
    "    return df4"
   ]
  },
  {
   "cell_type": "code",
   "execution_count": null,
   "id": "364adc35",
   "metadata": {
    "slideshow": {
     "slide_type": "subslide"
    }
   },
   "outputs": [],
   "source": [
    "df4 = add_lags(df4)"
   ]
  },
  {
   "cell_type": "markdown",
   "id": "7147152f",
   "metadata": {
    "slideshow": {
     "slide_type": "slide"
    }
   },
   "source": [
    "## Train Using Cross Validation"
   ]
  },
  {
   "cell_type": "code",
   "execution_count": null,
   "id": "a10bb7a7",
   "metadata": {
    "slideshow": {
     "slide_type": "subslide"
    }
   },
   "outputs": [],
   "source": [
    "tss = TimeSeriesSplit(n_splits=5, test_size=30, gap=0)\n",
    "df4 = df4.sort_index()\n",
    "\n",
    "\n",
    "fold = 0\n",
    "preds = []\n",
    "scores = []\n",
    "for train_idx, val_idx in tss.split(df4):\n",
    "    train = df4.iloc[train_idx]\n",
    "    test = df4.iloc[val_idx]\n",
    "\n",
    "    train = create_features(train)\n",
    "    test = create_features(test)\n",
    "\n",
    "    FEATURES = ['dayofyear', 'dayofweek', 'quarter', 'month','year',\n",
    "                'lag1','lag2','lag3']\n",
    "    TARGET = 'Profit'\n",
    "\n",
    "    X_train = train[FEATURES]\n",
    "    y_train = train[TARGET]\n",
    "\n",
    "    X_test = test[FEATURES]\n",
    "    y_test = test[TARGET]\n",
    "\n",
    "    reg = xgb.XGBRegressor(base_score=0.5, booster='gbtree',    \n",
    "                           n_estimators=1000,\n",
    "                           early_stopping_rounds=50,\n",
    "                           objective='reg:linear',\n",
    "                           max_depth=3,\n",
    "                           learning_rate=0.01)\n",
    "    reg.fit(X_train, y_train,\n",
    "            eval_set=[(X_train, y_train), (X_test, y_test)],\n",
    "            verbose=100)\n",
    "\n",
    "    y_pred = reg.predict(X_test)\n",
    "    preds.append(y_pred)\n",
    "    score = np.sqrt(mean_squared_error(y_test, y_pred))\n",
    "    scores.append(score)"
   ]
  },
  {
   "cell_type": "code",
   "execution_count": null,
   "id": "86292aff",
   "metadata": {
    "slideshow": {
     "slide_type": "subslide"
    }
   },
   "outputs": [],
   "source": [
    "print(f'Score across folds {np.mean(scores):0.4f}')\n",
    "print(f'Fold scores:{scores}')"
   ]
  },
  {
   "cell_type": "markdown",
   "id": "9e89c2f8",
   "metadata": {
    "slideshow": {
     "slide_type": "slide"
    }
   },
   "source": [
    "## Predicting into the future"
   ]
  },
  {
   "cell_type": "code",
   "execution_count": null,
   "id": "80a93b1d",
   "metadata": {
    "slideshow": {
     "slide_type": "subslide"
    }
   },
   "outputs": [],
   "source": [
    "df4 = create_features(df4)\n",
    "\n",
    "FEATURES = ['dayofyear', 'dayofweek', 'quarter', 'month', 'year',\n",
    "            'lag1','lag2','lag3']\n",
    "TARGET = 'Profit'\n",
    "\n",
    "X_all = df4[FEATURES]\n",
    "y_all = df4[TARGET]\n",
    "\n",
    "reg = xgb.XGBRegressor(base_score=0.5,\n",
    "                       booster='gbtree',    \n",
    "                       n_estimators=300,\n",
    "                       objective='reg:linear',\n",
    "                       max_depth=3,\n",
    "                       learning_rate=0.01)\n",
    "reg.fit(X_all, y_all,\n",
    "        eval_set=[(X_all, y_all)],\n",
    "        verbose=100)"
   ]
  },
  {
   "cell_type": "code",
   "execution_count": null,
   "id": "47545eff",
   "metadata": {
    "slideshow": {
     "slide_type": "subslide"
    }
   },
   "outputs": [],
   "source": [
    "df4.index.max()"
   ]
  },
  {
   "cell_type": "code",
   "execution_count": null,
   "id": "9559f215",
   "metadata": {
    "slideshow": {
     "slide_type": "subslide"
    }
   },
   "outputs": [],
   "source": [
    "future = pd.date_range('2022-05-01','2023-05-01')\n",
    "future_df = pd.DataFrame(index=future)\n",
    "future_df['isFuture'] = True\n",
    "df4['isFuture'] = False\n",
    "df4_and_future = pd.concat([df4, future_df])\n",
    "df4_and_future = create_features(df4_and_future)\n",
    "df4_and_future = add_lags(df4_and_future)"
   ]
  },
  {
   "cell_type": "code",
   "execution_count": null,
   "id": "d42b5a57",
   "metadata": {
    "slideshow": {
     "slide_type": "subslide"
    }
   },
   "outputs": [],
   "source": [
    "future_w_features3 = df4_and_future.query('isFuture').copy()"
   ]
  },
  {
   "cell_type": "code",
   "execution_count": null,
   "id": "9f046df7",
   "metadata": {
    "slideshow": {
     "slide_type": "subslide"
    }
   },
   "outputs": [],
   "source": [
    "future_w_features3['pred'] = reg.predict(future_w_features3[FEATURES])"
   ]
  },
  {
   "cell_type": "code",
   "execution_count": null,
   "id": "942a365f",
   "metadata": {
    "scrolled": false,
    "slideshow": {
     "slide_type": "subslide"
    }
   },
   "outputs": [],
   "source": [
    "future_w_features3['pred'].plot(figsize=(10, 5),\n",
    "                               color=color_pal[4],\n",
    "                               ms=1,\n",
    "                               lw=1,\n",
    "                               title='Future Predictions Hand Tools')\n",
    "plt.show()"
   ]
  },
  {
   "cell_type": "markdown",
   "id": "03850f0f",
   "metadata": {
    "slideshow": {
     "slide_type": "slide"
    }
   },
   "source": [
    "### Import data Tokopedia"
   ]
  },
  {
   "cell_type": "code",
   "execution_count": null,
   "id": "929c048b",
   "metadata": {
    "slideshow": {
     "slide_type": "subslide"
    }
   },
   "outputs": [],
   "source": [
    "df5 = pd.read_csv('Tokopedia_forecast.csv', delimiter=',')"
   ]
  },
  {
   "cell_type": "code",
   "execution_count": null,
   "id": "61c0ac02",
   "metadata": {},
   "outputs": [],
   "source": [
    "df5['Profit'] = df5.Price * df5.Sold\n",
    "df5.head(5)"
   ]
  },
  {
   "cell_type": "code",
   "execution_count": null,
   "id": "2a6bdcfd",
   "metadata": {
    "slideshow": {
     "slide_type": "subslide"
    }
   },
   "outputs": [],
   "source": [
    "Q1 = df5.Sold.quantile(0.25)\n",
    "Q3 = df5.Sold.quantile(0.75)\n",
    "Q1, Q3"
   ]
  },
  {
   "cell_type": "code",
   "execution_count": null,
   "id": "bf20eb27",
   "metadata": {
    "slideshow": {
     "slide_type": "subslide"
    }
   },
   "outputs": [],
   "source": [
    "IQR = Q3 - Q1\n",
    "IQR"
   ]
  },
  {
   "cell_type": "code",
   "execution_count": null,
   "id": "9a8b864a",
   "metadata": {
    "slideshow": {
     "slide_type": "subslide"
    }
   },
   "outputs": [],
   "source": [
    "lower_limit = Q1 - 1.5*IQR\n",
    "upper_limit = Q3 + 1.5*IQR\n",
    "lower_limit, upper_limit"
   ]
  },
  {
   "cell_type": "code",
   "execution_count": null,
   "id": "f8a5dac9",
   "metadata": {
    "slideshow": {
     "slide_type": "subslide"
    }
   },
   "outputs": [],
   "source": [
    "df5[(df5.Sold<lower_limit)|(df5.Sold>upper_limit)]"
   ]
  },
  {
   "cell_type": "code",
   "execution_count": null,
   "id": "776f65bc",
   "metadata": {
    "scrolled": false,
    "slideshow": {
     "slide_type": "subslide"
    }
   },
   "outputs": [],
   "source": [
    "df5 = df5[(df5.Sold>lower_limit)&(df5.Sold<upper_limit)]\n",
    "df5"
   ]
  },
  {
   "cell_type": "markdown",
   "id": "7d0da6e0",
   "metadata": {
    "slideshow": {
     "slide_type": "slide"
    }
   },
   "source": [
    "## Forecast Profit Fastener"
   ]
  },
  {
   "cell_type": "code",
   "execution_count": null,
   "id": "aaca9d69",
   "metadata": {
    "scrolled": true,
    "slideshow": {
     "slide_type": "subslide"
    }
   },
   "outputs": [],
   "source": [
    "df5_filtered = df5[df5['Profit'] != 0]\n",
    "df5_filtered = df5[df5['Category'] == 'Fastener']\n",
    "df5_filtered.head()"
   ]
  },
  {
   "cell_type": "code",
   "execution_count": null,
   "id": "4b2b4288",
   "metadata": {
    "scrolled": true,
    "slideshow": {
     "slide_type": "subslide"
    }
   },
   "outputs": [],
   "source": [
    "df6 = df5_filtered.drop(['Price', 'Category', 'Reviews', 'Sold', 'Views', 'Location'], axis=1)\n",
    "df6.head(5)"
   ]
  },
  {
   "cell_type": "code",
   "execution_count": null,
   "id": "ded40553",
   "metadata": {
    "slideshow": {
     "slide_type": "subslide"
    }
   },
   "outputs": [],
   "source": [
    "df6 = df6.set_index('Datetime')\n",
    "df6.index = pd.to_datetime(df6.index)"
   ]
  },
  {
   "cell_type": "code",
   "execution_count": null,
   "id": "38392475",
   "metadata": {
    "slideshow": {
     "slide_type": "subslide"
    }
   },
   "outputs": [],
   "source": [
    "df6.plot(style='.',\n",
    "        figsize=(15, 5),\n",
    "        color=color_pal[0],\n",
    "        title='Profit')\n",
    "plt.show()"
   ]
  },
  {
   "cell_type": "markdown",
   "id": "eab7795e",
   "metadata": {
    "slideshow": {
     "slide_type": "slide"
    }
   },
   "source": [
    "## Outlier Analysis and removal"
   ]
  },
  {
   "cell_type": "code",
   "execution_count": null,
   "id": "d362fa10",
   "metadata": {
    "slideshow": {
     "slide_type": "subslide"
    }
   },
   "outputs": [],
   "source": [
    "df6['Profit'].plot(kind='hist', bins=500)"
   ]
  },
  {
   "cell_type": "code",
   "execution_count": null,
   "id": "5325ce2b",
   "metadata": {
    "slideshow": {
     "slide_type": "subslide"
    }
   },
   "outputs": [],
   "source": [
    "df6.query('Profit > 7000000')['Profit'] \\\n",
    "    .plot(style='.',\n",
    "          figsize=(15, 5),\n",
    "          color=color_pal[5],\n",
    "          title='Outliers')"
   ]
  },
  {
   "cell_type": "code",
   "execution_count": null,
   "id": "541dcee8",
   "metadata": {
    "slideshow": {
     "slide_type": "subslide"
    }
   },
   "outputs": [],
   "source": [
    "df6 = df6.query('Profit < 7000000').copy()"
   ]
  },
  {
   "cell_type": "markdown",
   "id": "5d2983e4",
   "metadata": {
    "slideshow": {
     "slide_type": "slide"
    }
   },
   "source": [
    "## Train/Split Test"
   ]
  },
  {
   "cell_type": "markdown",
   "id": "66d0b1e8",
   "metadata": {
    "slideshow": {
     "slide_type": "slide"
    }
   },
   "source": [
    "## Time Series Cross Validation"
   ]
  },
  {
   "cell_type": "code",
   "execution_count": null,
   "id": "eda8f853",
   "metadata": {
    "slideshow": {
     "slide_type": "subslide"
    }
   },
   "outputs": [],
   "source": [
    "from sklearn.model_selection import TimeSeriesSplit\n",
    "\n",
    "tss = TimeSeriesSplit(n_splits=5, test_size=30, gap=0)\n",
    "df6 = df6.sort_index()"
   ]
  },
  {
   "cell_type": "code",
   "execution_count": null,
   "id": "9f428461",
   "metadata": {
    "slideshow": {
     "slide_type": "subslide"
    }
   },
   "outputs": [],
   "source": [
    "fig, axs = plt.subplots(5, 1, figsize=(15, 15), sharex=True)\n",
    "\n",
    "fold = 0\n",
    "for train_idx, val_idx in tss.split(df6):\n",
    "    train = df6.iloc[train_idx]\n",
    "    test = df6.iloc[val_idx]\n",
    "    train['Profit'].plot(ax=axs[fold],\n",
    "                          label='Training Set',\n",
    "                          title=f'Data Train/Test Split Fold {fold}')\n",
    "    test['Profit'].plot(ax=axs[fold],\n",
    "                         label='Test Set')\n",
    "    axs[fold].axvline(test.index.min(), color='black', ls='--')\n",
    "    fold += 1\n",
    "plt.show()"
   ]
  },
  {
   "cell_type": "markdown",
   "id": "9eedc7e4",
   "metadata": {
    "slideshow": {
     "slide_type": "slide"
    }
   },
   "source": [
    "## Forecasting Horizon"
   ]
  },
  {
   "cell_type": "code",
   "execution_count": null,
   "id": "8d1f8563",
   "metadata": {
    "slideshow": {
     "slide_type": "subslide"
    }
   },
   "outputs": [],
   "source": [
    "def create_features(df6):\n",
    "    df6 = df6.copy()\n",
    "    df6['dayofweek'] = df6.index.dayofweek\n",
    "    df6['quarter'] = df6.index.quarter\n",
    "    df6['month'] = df6.index.month\n",
    "    df6['year'] = df6.index.year\n",
    "    df6['dayofyear'] = df6.index.dayofyear\n",
    "    df6['dayofmonth'] = df6.index.day\n",
    "    df6['weekofyear'] = df6.index.isocalendar().week\n",
    "    return df6\n",
    "\n",
    "df6 = create_features(df6)"
   ]
  },
  {
   "cell_type": "markdown",
   "id": "f88dc58f",
   "metadata": {
    "slideshow": {
     "slide_type": "slide"
    }
   },
   "source": [
    "## Lag features"
   ]
  },
  {
   "cell_type": "code",
   "execution_count": null,
   "id": "d2073d0b",
   "metadata": {
    "slideshow": {
     "slide_type": "subslide"
    }
   },
   "outputs": [],
   "source": [
    "def add_lags(df6):\n",
    "    target_map = df6['Profit'].to_dict()\n",
    "    df6['lag1'] = (df6.index - pd.Timedelta('364 days')).map(target_map)\n",
    "    df6['lag2'] = (df6.index - pd.Timedelta('728 days')).map(target_map)\n",
    "    df6['lag3'] = (df6.index - pd.Timedelta('1092 days')).map(target_map)\n",
    "    return df6"
   ]
  },
  {
   "cell_type": "code",
   "execution_count": null,
   "id": "76cbdf15",
   "metadata": {
    "slideshow": {
     "slide_type": "subslide"
    }
   },
   "outputs": [],
   "source": [
    "df6 = add_lags(df6)"
   ]
  },
  {
   "cell_type": "markdown",
   "id": "c8c15de2",
   "metadata": {
    "slideshow": {
     "slide_type": "slide"
    }
   },
   "source": [
    "## Train Using Cross Validation"
   ]
  },
  {
   "cell_type": "code",
   "execution_count": null,
   "id": "43b592d4",
   "metadata": {
    "slideshow": {
     "slide_type": "subslide"
    }
   },
   "outputs": [],
   "source": [
    "tss = TimeSeriesSplit(n_splits=5, test_size=30, gap=0)\n",
    "df6 = df6.sort_index()\n",
    "\n",
    "\n",
    "fold = 0\n",
    "preds = []\n",
    "scores = []\n",
    "for train_idx, val_idx in tss.split(df6):\n",
    "    train = df6.iloc[train_idx]\n",
    "    test = df6.iloc[val_idx]\n",
    "\n",
    "    train = create_features(train)\n",
    "    test = create_features(test)\n",
    "\n",
    "    FEATURES = ['dayofyear', 'dayofweek', 'quarter', 'month','year',\n",
    "                'lag1','lag2','lag3']\n",
    "    TARGET = 'Profit'\n",
    "\n",
    "    X_train = train[FEATURES]\n",
    "    y_train = train[TARGET]\n",
    "\n",
    "    X_test = test[FEATURES]\n",
    "    y_test = test[TARGET]\n",
    "\n",
    "    reg = xgb.XGBRegressor(base_score=0.5, booster='gbtree',    \n",
    "                           n_estimators=1000,\n",
    "                           early_stopping_rounds=50,\n",
    "                           objective='reg:linear',\n",
    "                           max_depth=3,\n",
    "                           learning_rate=0.01)\n",
    "    reg.fit(X_train, y_train,\n",
    "            eval_set=[(X_train, y_train), (X_test, y_test)],\n",
    "            verbose=100)\n",
    "\n",
    "    y_pred = reg.predict(X_test)\n",
    "    preds.append(y_pred)\n",
    "    score = np.sqrt(mean_squared_error(y_test, y_pred))\n",
    "    scores.append(score)"
   ]
  },
  {
   "cell_type": "code",
   "execution_count": null,
   "id": "752e205c",
   "metadata": {
    "slideshow": {
     "slide_type": "subslide"
    }
   },
   "outputs": [],
   "source": [
    "print(f'Score across folds {np.mean(scores):0.4f}')\n",
    "print(f'Fold scores:{scores}')"
   ]
  },
  {
   "cell_type": "markdown",
   "id": "43a1ceed",
   "metadata": {
    "slideshow": {
     "slide_type": "slide"
    }
   },
   "source": [
    "## Predicting into the future"
   ]
  },
  {
   "cell_type": "code",
   "execution_count": null,
   "id": "c5437851",
   "metadata": {
    "slideshow": {
     "slide_type": "subslide"
    }
   },
   "outputs": [],
   "source": [
    "df6 = create_features(df6)\n",
    "\n",
    "FEATURES = ['dayofyear', 'dayofweek', 'quarter', 'month', 'year',\n",
    "            'lag1','lag2','lag3']\n",
    "TARGET = 'Profit'\n",
    "\n",
    "X_all = df6[FEATURES]\n",
    "y_all = df6[TARGET]\n",
    "\n",
    "reg = xgb.XGBRegressor(base_score=0.5,\n",
    "                       booster='gbtree',    \n",
    "                       n_estimators=300,\n",
    "                       objective='reg:linear',\n",
    "                       max_depth=3,\n",
    "                       learning_rate=0.01)\n",
    "reg.fit(X_all, y_all,\n",
    "        eval_set=[(X_all, y_all)],\n",
    "        verbose=100)"
   ]
  },
  {
   "cell_type": "code",
   "execution_count": null,
   "id": "4386f37d",
   "metadata": {
    "slideshow": {
     "slide_type": "subslide"
    }
   },
   "outputs": [],
   "source": [
    "df6.index.max()"
   ]
  },
  {
   "cell_type": "code",
   "execution_count": null,
   "id": "841587f8",
   "metadata": {
    "slideshow": {
     "slide_type": "subslide"
    }
   },
   "outputs": [],
   "source": [
    "future = pd.date_range('2022-05-01','2023-05-01')\n",
    "future_df = pd.DataFrame(index=future)\n",
    "future_df['isFuture'] = True\n",
    "df6['isFuture'] = False\n",
    "df6_and_future = pd.concat([df6, future_df])\n",
    "df6_and_future = create_features(df6_and_future)\n",
    "df6_and_future = add_lags(df6_and_future)"
   ]
  },
  {
   "cell_type": "code",
   "execution_count": null,
   "id": "d6fd5ad8",
   "metadata": {
    "slideshow": {
     "slide_type": "subslide"
    }
   },
   "outputs": [],
   "source": [
    "future_w_features4 = df6_and_future.query('isFuture').copy()"
   ]
  },
  {
   "cell_type": "code",
   "execution_count": null,
   "id": "87360e55",
   "metadata": {
    "slideshow": {
     "slide_type": "subslide"
    }
   },
   "outputs": [],
   "source": [
    "future_w_features4['pred'] = reg.predict(future_w_features4[FEATURES])"
   ]
  },
  {
   "cell_type": "code",
   "execution_count": null,
   "id": "d6a9d9a4",
   "metadata": {
    "scrolled": false,
    "slideshow": {
     "slide_type": "subslide"
    }
   },
   "outputs": [],
   "source": [
    "future_w_features4['pred'].plot(figsize=(10, 5),\n",
    "                               color=color_pal[4],\n",
    "                               ms=1,\n",
    "                               lw=1,\n",
    "                               title='Future Predictions Fastener Tokopedia')\n",
    "plt.show()"
   ]
  }
 ],
 "metadata": {
  "celltoolbar": "Slideshow",
  "kernelspec": {
   "display_name": "Python 3 (ipykernel)",
   "language": "python",
   "name": "python3"
  },
  "language_info": {
   "codemirror_mode": {
    "name": "ipython",
    "version": 3
   },
   "file_extension": ".py",
   "mimetype": "text/x-python",
   "name": "python",
   "nbconvert_exporter": "python",
   "pygments_lexer": "ipython3",
   "version": "3.10.5"
  }
 },
 "nbformat": 4,
 "nbformat_minor": 5
}
